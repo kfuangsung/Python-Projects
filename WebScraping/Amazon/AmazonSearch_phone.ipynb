{
 "cells": [
  {
   "cell_type": "code",
   "execution_count": 1,
   "id": "18384d79",
   "metadata": {},
   "outputs": [],
   "source": [
    "import requests\n",
    "import random\n",
    "import numpy as np \n",
    "import pandas as pd \n",
    "import matplotlib.pyplot as plt \n",
    "import seaborn as sns\n",
    "from bs4 import BeautifulSoup\n",
    "from tqdm.notebook import tqdm_notebook\n",
    "plt.style.use('seaborn-whitegrid')\n",
    "plt.rcParams['figure.figsize'] = (14,6)\n",
    "\n",
    "import amazonwebscrape as scraper"
   ]
  },
  {
   "cell_type": "code",
   "execution_count": 2,
   "id": "d77e8bf2",
   "metadata": {},
   "outputs": [
    {
     "data": {
      "application/vnd.jupyter.widget-view+json": {
       "model_id": "",
       "version_major": 2,
       "version_minor": 0
      },
      "text/plain": [
       "  0%|          | 0/444 [00:00<?, ?it/s]"
      ]
     },
     "metadata": {},
     "output_type": "display_data"
    },
    {
     "name": "stdout",
     "output_type": "stream",
     "text": [
      "Attempt: 1 | Number of failures: 88 | Retrying\n"
     ]
    },
    {
     "data": {
      "application/vnd.jupyter.widget-view+json": {
       "model_id": "",
       "version_major": 2,
       "version_minor": 0
      },
      "text/plain": [
       "  0%|          | 0/88 [00:00<?, ?it/s]"
      ]
     },
     "metadata": {},
     "output_type": "display_data"
    },
    {
     "name": "stdout",
     "output_type": "stream",
     "text": [
      "Attempt: 2 | Number of failures: 36 | Retrying\n"
     ]
    },
    {
     "data": {
      "application/vnd.jupyter.widget-view+json": {
       "model_id": "",
       "version_major": 2,
       "version_minor": 0
      },
      "text/plain": [
       "  0%|          | 0/36 [00:00<?, ?it/s]"
      ]
     },
     "metadata": {},
     "output_type": "display_data"
    },
    {
     "name": "stdout",
     "output_type": "stream",
     "text": [
      "Attempt: 3 | Number of failures: 21 | Retrying\n"
     ]
    },
    {
     "data": {
      "application/vnd.jupyter.widget-view+json": {
       "model_id": "",
       "version_major": 2,
       "version_minor": 0
      },
      "text/plain": [
       "  0%|          | 0/21 [00:00<?, ?it/s]"
      ]
     },
     "metadata": {},
     "output_type": "display_data"
    },
    {
     "name": "stdout",
     "output_type": "stream",
     "text": [
      "Attempt: 4 | Number of failures: 18 | Retrying\n"
     ]
    },
    {
     "data": {
      "application/vnd.jupyter.widget-view+json": {
       "model_id": "",
       "version_major": 2,
       "version_minor": 0
      },
      "text/plain": [
       "  0%|          | 0/18 [00:00<?, ?it/s]"
      ]
     },
     "metadata": {},
     "output_type": "display_data"
    },
    {
     "name": "stdout",
     "output_type": "stream",
     "text": [
      "Attempt: 5 | Number of failures: 17 | Retrying\n",
      "Number of failures: 17\n",
      "DONE\n"
     ]
    }
   ],
   "source": [
    "FILENAME = \"AmazonSearch_phone.json\"\n",
    "scraper.get_all_data_info(FILENAME, keys=None)"
   ]
  },
  {
   "cell_type": "code",
   "execution_count": 3,
   "id": "0db60ceb",
   "metadata": {},
   "outputs": [
    {
     "data": {
      "text/html": [
       "<div>\n",
       "<style scoped>\n",
       "    .dataframe tbody tr th:only-of-type {\n",
       "        vertical-align: middle;\n",
       "    }\n",
       "\n",
       "    .dataframe tbody tr th {\n",
       "        vertical-align: top;\n",
       "    }\n",
       "\n",
       "    .dataframe thead th {\n",
       "        text-align: right;\n",
       "    }\n",
       "</style>\n",
       "<table border=\"1\" class=\"dataframe\">\n",
       "  <thead>\n",
       "    <tr style=\"text-align: right;\">\n",
       "      <th></th>\n",
       "      <th>itemLink</th>\n",
       "      <th>name</th>\n",
       "      <th>image</th>\n",
       "      <th>reviewStars</th>\n",
       "      <th>numberOfReviews</th>\n",
       "      <th>currentPrice</th>\n",
       "      <th>oldPrice</th>\n",
       "      <th>itemInfo</th>\n",
       "    </tr>\n",
       "  </thead>\n",
       "  <tbody>\n",
       "    <tr>\n",
       "      <th>0</th>\n",
       "      <td>https://www.amazon.com/gp/slredirect/picassoRe...</td>\n",
       "      <td>Samsung Galaxy S21 FE 5G Cell Phone, Factory U...</td>\n",
       "      <td>https://m.media-amazon.com/images/I/61kLsk8Rsl...</td>\n",
       "      <td>4.6 out of 5 stars</td>\n",
       "      <td>8,067</td>\n",
       "      <td>$699.99</td>\n",
       "      <td>None</td>\n",
       "      <td>{'Model Name': 'S21 FE', 'Wireless Carrier': '...</td>\n",
       "    </tr>\n",
       "    <tr>\n",
       "      <th>1</th>\n",
       "      <td>https://www.amazon.com/gp/slredirect/picassoRe...</td>\n",
       "      <td>Xperia PRO-I 5G smartphone with 1-inch image s...</td>\n",
       "      <td>https://m.media-amazon.com/images/I/41XydBYdgR...</td>\n",
       "      <td>4.0 out of 5 stars</td>\n",
       "      <td>21</td>\n",
       "      <td>$1,798.00</td>\n",
       "      <td>None</td>\n",
       "      <td>{'Brand': 'Sony', 'Camera Lens Description': '...</td>\n",
       "    </tr>\n",
       "    <tr>\n",
       "      <th>2</th>\n",
       "      <td>https://www.amazon.com/Apple-iPhone-512GB-Spac...</td>\n",
       "      <td>(Renewed Premium) Apple iPhone 11 Pro Max, 512...</td>\n",
       "      <td>https://m.media-amazon.com/images/I/81LmL94PUv...</td>\n",
       "      <td>4.4 out of 5 stars</td>\n",
       "      <td>2,264</td>\n",
       "      <td>$785.00</td>\n",
       "      <td>None</td>\n",
       "      <td>{'Model Name': 'IPhone 11 Pro Max', 'Wireless ...</td>\n",
       "    </tr>\n",
       "    <tr>\n",
       "      <th>3</th>\n",
       "      <td>https://www.amazon.com/IS8121-2-Bluetooth-Cord...</td>\n",
       "      <td>VTECH IS8121-2 Super Long Range up to 2300 Fee...</td>\n",
       "      <td>https://m.media-amazon.com/images/I/81bA-cowEx...</td>\n",
       "      <td>4.2 out of 5 stars</td>\n",
       "      <td>998</td>\n",
       "      <td>$60.11</td>\n",
       "      <td>$69.95</td>\n",
       "      <td>{'Brand': 'VTech', 'Color': 'Silver/Black', 'T...</td>\n",
       "    </tr>\n",
       "    <tr>\n",
       "      <th>4</th>\n",
       "      <td>https://www.amazon.com/Samsung-Unlocked-Smartp...</td>\n",
       "      <td>SAMSUNG Galaxy S20 FE 5G Factory Unlocked Andr...</td>\n",
       "      <td>https://m.media-amazon.com/images/I/71ouXIR8m+...</td>\n",
       "      <td>4.6 out of 5 stars</td>\n",
       "      <td>8,067</td>\n",
       "      <td>$599.99</td>\n",
       "      <td>$699.99</td>\n",
       "      <td>{'Model Name': 'S20FE', 'Wireless Carrier': 'U...</td>\n",
       "    </tr>\n",
       "  </tbody>\n",
       "</table>\n",
       "</div>"
      ],
      "text/plain": [
       "                                            itemLink  \\\n",
       "0  https://www.amazon.com/gp/slredirect/picassoRe...   \n",
       "1  https://www.amazon.com/gp/slredirect/picassoRe...   \n",
       "2  https://www.amazon.com/Apple-iPhone-512GB-Spac...   \n",
       "3  https://www.amazon.com/IS8121-2-Bluetooth-Cord...   \n",
       "4  https://www.amazon.com/Samsung-Unlocked-Smartp...   \n",
       "\n",
       "                                                name  \\\n",
       "0  Samsung Galaxy S21 FE 5G Cell Phone, Factory U...   \n",
       "1  Xperia PRO-I 5G smartphone with 1-inch image s...   \n",
       "2  (Renewed Premium) Apple iPhone 11 Pro Max, 512...   \n",
       "3  VTECH IS8121-2 Super Long Range up to 2300 Fee...   \n",
       "4  SAMSUNG Galaxy S20 FE 5G Factory Unlocked Andr...   \n",
       "\n",
       "                                               image         reviewStars  \\\n",
       "0  https://m.media-amazon.com/images/I/61kLsk8Rsl...  4.6 out of 5 stars   \n",
       "1  https://m.media-amazon.com/images/I/41XydBYdgR...  4.0 out of 5 stars   \n",
       "2  https://m.media-amazon.com/images/I/81LmL94PUv...  4.4 out of 5 stars   \n",
       "3  https://m.media-amazon.com/images/I/81bA-cowEx...  4.2 out of 5 stars   \n",
       "4  https://m.media-amazon.com/images/I/71ouXIR8m+...  4.6 out of 5 stars   \n",
       "\n",
       "  numberOfReviews currentPrice oldPrice  \\\n",
       "0           8,067      $699.99     None   \n",
       "1              21    $1,798.00     None   \n",
       "2           2,264      $785.00     None   \n",
       "3             998       $60.11   $69.95   \n",
       "4           8,067      $599.99  $699.99   \n",
       "\n",
       "                                            itemInfo  \n",
       "0  {'Model Name': 'S21 FE', 'Wireless Carrier': '...  \n",
       "1  {'Brand': 'Sony', 'Camera Lens Description': '...  \n",
       "2  {'Model Name': 'IPhone 11 Pro Max', 'Wireless ...  \n",
       "3  {'Brand': 'VTech', 'Color': 'Silver/Black', 'T...  \n",
       "4  {'Model Name': 'S20FE', 'Wireless Carrier': 'U...  "
      ]
     },
     "execution_count": 3,
     "metadata": {},
     "output_type": "execute_result"
    }
   ],
   "source": [
    "df = pd.read_json(FILENAME, orient='index')\n",
    "df.head()"
   ]
  },
  {
   "cell_type": "code",
   "execution_count": 4,
   "id": "d33c3baa",
   "metadata": {},
   "outputs": [],
   "source": [
    "df['currentPrice_float'] = df.currentPrice.apply(scraper.get_price_from_string)\n",
    "df['oldPrice_float'] = df.oldPrice.apply(scraper.get_price_from_string)\n",
    "df['reviewStars_float'] = df.reviewStars.apply(scraper.get_review_score)\n",
    "df['numberOfReviews_float'] = df.numberOfReviews.apply(scraper.get_number_of_reviews)\n",
    "df['brand'] = df.itemInfo.apply(scraper.get_brand)"
   ]
  },
  {
   "cell_type": "code",
   "execution_count": 5,
   "id": "491bef37",
   "metadata": {},
   "outputs": [
    {
     "data": {
      "text/html": [
       "<div>\n",
       "<style scoped>\n",
       "    .dataframe tbody tr th:only-of-type {\n",
       "        vertical-align: middle;\n",
       "    }\n",
       "\n",
       "    .dataframe tbody tr th {\n",
       "        vertical-align: top;\n",
       "    }\n",
       "\n",
       "    .dataframe thead th {\n",
       "        text-align: right;\n",
       "    }\n",
       "</style>\n",
       "<table border=\"1\" class=\"dataframe\">\n",
       "  <thead>\n",
       "    <tr style=\"text-align: right;\">\n",
       "      <th></th>\n",
       "      <th>currentPrice_float</th>\n",
       "      <th>oldPrice_float</th>\n",
       "      <th>reviewStars_float</th>\n",
       "      <th>numberOfReviews_float</th>\n",
       "      <th>brand</th>\n",
       "    </tr>\n",
       "  </thead>\n",
       "  <tbody>\n",
       "    <tr>\n",
       "      <th>0</th>\n",
       "      <td>699.99</td>\n",
       "      <td>NaN</td>\n",
       "      <td>4.6</td>\n",
       "      <td>8067.0</td>\n",
       "      <td>Samsung Electronics</td>\n",
       "    </tr>\n",
       "    <tr>\n",
       "      <th>1</th>\n",
       "      <td>1798.00</td>\n",
       "      <td>NaN</td>\n",
       "      <td>4.0</td>\n",
       "      <td>21.0</td>\n",
       "      <td>Sony</td>\n",
       "    </tr>\n",
       "    <tr>\n",
       "      <th>2</th>\n",
       "      <td>785.00</td>\n",
       "      <td>NaN</td>\n",
       "      <td>4.4</td>\n",
       "      <td>2264.0</td>\n",
       "      <td>Apple</td>\n",
       "    </tr>\n",
       "    <tr>\n",
       "      <th>3</th>\n",
       "      <td>60.11</td>\n",
       "      <td>69.95</td>\n",
       "      <td>4.2</td>\n",
       "      <td>998.0</td>\n",
       "      <td>VTech</td>\n",
       "    </tr>\n",
       "    <tr>\n",
       "      <th>4</th>\n",
       "      <td>599.99</td>\n",
       "      <td>699.99</td>\n",
       "      <td>4.6</td>\n",
       "      <td>8067.0</td>\n",
       "      <td>Samsung Electronics</td>\n",
       "    </tr>\n",
       "  </tbody>\n",
       "</table>\n",
       "</div>"
      ],
      "text/plain": [
       "   currentPrice_float  oldPrice_float  reviewStars_float  \\\n",
       "0              699.99             NaN                4.6   \n",
       "1             1798.00             NaN                4.0   \n",
       "2              785.00             NaN                4.4   \n",
       "3               60.11           69.95                4.2   \n",
       "4              599.99          699.99                4.6   \n",
       "\n",
       "   numberOfReviews_float                brand  \n",
       "0                 8067.0  Samsung Electronics  \n",
       "1                   21.0                 Sony  \n",
       "2                 2264.0                Apple  \n",
       "3                  998.0                VTech  \n",
       "4                 8067.0  Samsung Electronics  "
      ]
     },
     "execution_count": 5,
     "metadata": {},
     "output_type": "execute_result"
    }
   ],
   "source": [
    "df_float = df.iloc[:, -5:]\n",
    "df_float.head()"
   ]
  },
  {
   "cell_type": "code",
   "execution_count": 6,
   "id": "f70e6cd7",
   "metadata": {},
   "outputs": [],
   "source": [
    "df_by_brand = df_float.groupby('brand', as_index=False)"
   ]
  },
  {
   "cell_type": "code",
   "execution_count": 7,
   "id": "209c25b1",
   "metadata": {},
   "outputs": [],
   "source": [
    "def get_popular_brand(n=10):\n",
    "    sum_by_brand = df_by_brand.sum()\n",
    "    sum_reviews = sum_by_brand.sort_values(by=\"numberOfReviews_float\", ascending=False)\n",
    "    popular_brand = sum_reviews.iloc[:n].brand.to_list()\n",
    "    \n",
    "    return popular_brand"
   ]
  },
  {
   "cell_type": "code",
   "execution_count": 8,
   "id": "11b2699d",
   "metadata": {},
   "outputs": [
    {
     "data": {
      "text/plain": [
       "['Samsung Electronics',\n",
       " 'Panasonic',\n",
       " 'Lamicall',\n",
       " 'Apple',\n",
       " 'AT&T',\n",
       " 'IOttie',\n",
       " 'LISEN',\n",
       " 'VTech',\n",
       " 'OMOTON',\n",
       " 'Motorola']"
      ]
     },
     "execution_count": 8,
     "metadata": {},
     "output_type": "execute_result"
    }
   ],
   "source": [
    "popular_brand = get_popular_brand(10)\n",
    "popular_brand"
   ]
  },
  {
   "cell_type": "code",
   "execution_count": 9,
   "id": "68020b57",
   "metadata": {},
   "outputs": [],
   "source": [
    "def is_popular_brand(x):\n",
    "    return x in popular_brand"
   ]
  },
  {
   "cell_type": "code",
   "execution_count": 10,
   "id": "b151cc37",
   "metadata": {},
   "outputs": [
    {
     "name": "stdout",
     "output_type": "stream",
     "text": [
      "(160, 5)\n"
     ]
    },
    {
     "data": {
      "text/html": [
       "<div>\n",
       "<style scoped>\n",
       "    .dataframe tbody tr th:only-of-type {\n",
       "        vertical-align: middle;\n",
       "    }\n",
       "\n",
       "    .dataframe tbody tr th {\n",
       "        vertical-align: top;\n",
       "    }\n",
       "\n",
       "    .dataframe thead th {\n",
       "        text-align: right;\n",
       "    }\n",
       "</style>\n",
       "<table border=\"1\" class=\"dataframe\">\n",
       "  <thead>\n",
       "    <tr style=\"text-align: right;\">\n",
       "      <th></th>\n",
       "      <th>currentPrice_float</th>\n",
       "      <th>oldPrice_float</th>\n",
       "      <th>reviewStars_float</th>\n",
       "      <th>numberOfReviews_float</th>\n",
       "      <th>brand</th>\n",
       "    </tr>\n",
       "  </thead>\n",
       "  <tbody>\n",
       "    <tr>\n",
       "      <th>0</th>\n",
       "      <td>699.99</td>\n",
       "      <td>NaN</td>\n",
       "      <td>4.6</td>\n",
       "      <td>8067.0</td>\n",
       "      <td>Samsung Electronics</td>\n",
       "    </tr>\n",
       "    <tr>\n",
       "      <th>1</th>\n",
       "      <td>785.00</td>\n",
       "      <td>NaN</td>\n",
       "      <td>4.4</td>\n",
       "      <td>2264.0</td>\n",
       "      <td>Apple</td>\n",
       "    </tr>\n",
       "    <tr>\n",
       "      <th>2</th>\n",
       "      <td>60.11</td>\n",
       "      <td>69.95</td>\n",
       "      <td>4.2</td>\n",
       "      <td>998.0</td>\n",
       "      <td>VTech</td>\n",
       "    </tr>\n",
       "    <tr>\n",
       "      <th>3</th>\n",
       "      <td>599.99</td>\n",
       "      <td>699.99</td>\n",
       "      <td>4.6</td>\n",
       "      <td>8067.0</td>\n",
       "      <td>Samsung Electronics</td>\n",
       "    </tr>\n",
       "    <tr>\n",
       "      <th>4</th>\n",
       "      <td>NaN</td>\n",
       "      <td>NaN</td>\n",
       "      <td>4.4</td>\n",
       "      <td>2828.0</td>\n",
       "      <td>Motorola</td>\n",
       "    </tr>\n",
       "  </tbody>\n",
       "</table>\n",
       "</div>"
      ],
      "text/plain": [
       "   currentPrice_float  oldPrice_float  reviewStars_float  \\\n",
       "0              699.99             NaN                4.6   \n",
       "1              785.00             NaN                4.4   \n",
       "2               60.11           69.95                4.2   \n",
       "3              599.99          699.99                4.6   \n",
       "4                 NaN             NaN                4.4   \n",
       "\n",
       "   numberOfReviews_float                brand  \n",
       "0                 8067.0  Samsung Electronics  \n",
       "1                 2264.0                Apple  \n",
       "2                  998.0                VTech  \n",
       "3                 8067.0  Samsung Electronics  \n",
       "4                 2828.0             Motorola  "
      ]
     },
     "execution_count": 10,
     "metadata": {},
     "output_type": "execute_result"
    }
   ],
   "source": [
    "df_popular = df_float[df_float.brand.apply(is_popular_brand)]\n",
    "df_popular.reset_index(drop=True, inplace=True)\n",
    "print(df_popular.shape)\n",
    "df_popular.head()"
   ]
  },
  {
   "cell_type": "code",
   "execution_count": 11,
   "id": "07c7eba6",
   "metadata": {},
   "outputs": [],
   "source": [
    "df_popular_by_brand = df_popular.groupby(\"brand\", as_index=False)"
   ]
  },
  {
   "cell_type": "code",
   "execution_count": 12,
   "id": "762e172d",
   "metadata": {},
   "outputs": [
    {
     "data": {
      "image/png": "[encoded data removed]",
      "text/plain": [
       "<Figure size 1008x432 with 1 Axes>"
      ]
     },
     "metadata": {},
     "output_type": "display_data"
    }
   ],
   "source": [
    "font = {\"size\":14, \"weight\":\"bold\"}\n",
    "sns.boxplot(data=df_popular, x=\"currentPrice_float\", y=\"brand\", showfliers=True,\n",
    "            order=df_popular_by_brand.mean().sort_values(by=\"currentPrice_float\", ascending=False).brand)\n",
    "plt.xlabel(\"Current Price in USD\", fontdict=font)\n",
    "plt.ylabel(None)\n",
    "plt.xticks(fontsize=12)\n",
    "plt.yticks(fontsize=14, weight=\"bold\")\n",
    "plt.tight_layout()\n",
    "plt.show()"
   ]
  },
  {
   "cell_type": "code",
   "execution_count": 13,
   "id": "b34214b4",
   "metadata": {},
   "outputs": [
    {
     "data": {
      "image/png": "[encoded data removed]",
      "text/plain": [
       "<Figure size 864x720 with 3 Axes>"
      ]
     },
     "metadata": {},
     "output_type": "display_data"
    }
   ],
   "source": [
    "df_popular_mean = df_popular_by_brand.mean()\n",
    "\n",
    "plt.figure(figsize=(12,10))\n",
    "cols = [\"currentPrice_float\", \"reviewStars_float\", \"numberOfReviews_float\"]\n",
    "font = {\"size\":16, \"weight\":\"bold\"}\n",
    "\n",
    "for i, col in enumerate(cols):\n",
    "    \n",
    "    plt.subplot(len(cols), 1, i+1)\n",
    "    sns.barplot(data=df_popular_mean, x=col, y=\"brand\",\n",
    "                order=df_popular_mean.sort_values(by=col, ascending=False).brand)\n",
    "    plt.xlabel(None)\n",
    "    plt.ylabel(None)\n",
    "    plt.title(\"Average \"+col.split(\"_\")[0], fontdict=font)\n",
    "    plt.xticks(fontsize=12)\n",
    "    plt.yticks(fontsize=14)\n",
    "\n",
    "plt.tight_layout()\n",
    "plt.show()"
   ]
  },
  {
   "cell_type": "code",
   "execution_count": null,
   "id": "81baf485",
   "metadata": {},
   "outputs": [],
   "source": []
  }
 ],
 "metadata": {
  "kernelspec": {
   "display_name": "Python 3.8.8 64-bit ('DL': conda)",
   "language": "python",
   "name": "python388jvsc74a57bd05f58e7dbcddfdb99f90b0447783d5390db8cd74aa541842f8b458cd6f0565a39"
  },
  "language_info": {
   "codemirror_mode": {
    "name": "ipython",
    "version": 3
   },
   "file_extension": ".py",
   "mimetype": "text/x-python",
   "name": "python",
   "nbconvert_exporter": "python",
   "pygments_lexer": "ipython3",
   "version": "3.8.8"
  }
 },
 "nbformat": 4,
 "nbformat_minor": 5
}
