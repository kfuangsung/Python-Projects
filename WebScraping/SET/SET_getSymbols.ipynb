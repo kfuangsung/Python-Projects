{
 "cells": [
  {
   "cell_type": "code",
   "execution_count": 1,
   "id": "c36ed2dd",
   "metadata": {},
   "outputs": [],
   "source": [
    "import requests\n",
    "from bs4 import BeautifulSoup\n",
    "import setwebscrape as scraper"
   ]
  },
  {
   "cell_type": "code",
   "execution_count": 2,
   "id": "3d9ec01b",
   "metadata": {},
   "outputs": [],
   "source": [
    "URL = \"https://www.set.or.th/set/commonslookup.do?language=en&country=US\"\n",
    "soup = scraper.get_soup(URL)"
   ]
  },
  {
   "cell_type": "code",
   "execution_count": 16,
   "id": "f9d27776",
   "metadata": {},
   "outputs": [],
   "source": [
    "symbol_urls = {}\n",
    "header = soup.find(\"div\", attrs={\"class\":\"col-xs-12 padding-top-10 text-center capital-letter\"})\n",
    "for head in header.find_all(\"a\"):\n",
    "    symbol_urls[head.text] = f\"https://www.set.or.th/{head.attrs['href']}\""
   ]
  },
  {
   "cell_type": "code",
   "execution_count": 17,
   "id": "5181064f",
   "metadata": {},
   "outputs": [
    {
     "data": {
      "text/plain": [
       "{'0-9': 'https://www.set.or.th//set/commonslookup.do?language=en&country=US&prefix=NUMBER',\n",
       " 'A': 'https://www.set.or.th//set/commonslookup.do?language=en&country=US&prefix=A',\n",
       " 'B': 'https://www.set.or.th//set/commonslookup.do?language=en&country=US&prefix=B',\n",
       " 'C': 'https://www.set.or.th//set/commonslookup.do?language=en&country=US&prefix=C',\n",
       " 'D': 'https://www.set.or.th//set/commonslookup.do?language=en&country=US&prefix=D',\n",
       " 'E': 'https://www.set.or.th//set/commonslookup.do?language=en&country=US&prefix=E',\n",
       " 'F': 'https://www.set.or.th//set/commonslookup.do?language=en&country=US&prefix=F',\n",
       " 'G': 'https://www.set.or.th//set/commonslookup.do?language=en&country=US&prefix=G',\n",
       " 'H': 'https://www.set.or.th//set/commonslookup.do?language=en&country=US&prefix=H',\n",
       " 'I': 'https://www.set.or.th//set/commonslookup.do?language=en&country=US&prefix=I',\n",
       " 'J': 'https://www.set.or.th//set/commonslookup.do?language=en&country=US&prefix=J',\n",
       " 'K': 'https://www.set.or.th//set/commonslookup.do?language=en&country=US&prefix=K',\n",
       " 'L': 'https://www.set.or.th//set/commonslookup.do?language=en&country=US&prefix=L',\n",
       " 'M': 'https://www.set.or.th//set/commonslookup.do?language=en&country=US&prefix=M',\n",
       " 'N': 'https://www.set.or.th//set/commonslookup.do?language=en&country=US&prefix=N',\n",
       " 'O': 'https://www.set.or.th//set/commonslookup.do?language=en&country=US&prefix=O',\n",
       " 'P': 'https://www.set.or.th//set/commonslookup.do?language=en&country=US&prefix=P',\n",
       " 'Q': 'https://www.set.or.th//set/commonslookup.do?language=en&country=US&prefix=Q',\n",
       " 'R': 'https://www.set.or.th//set/commonslookup.do?language=en&country=US&prefix=R',\n",
       " 'S': 'https://www.set.or.th//set/commonslookup.do?language=en&country=US&prefix=S',\n",
       " 'T': 'https://www.set.or.th//set/commonslookup.do?language=en&country=US&prefix=T',\n",
       " 'U': 'https://www.set.or.th//set/commonslookup.do?language=en&country=US&prefix=U',\n",
       " 'V': 'https://www.set.or.th//set/commonslookup.do?language=en&country=US&prefix=V',\n",
       " 'W': 'https://www.set.or.th//set/commonslookup.do?language=en&country=US&prefix=W',\n",
       " 'X': 'https://www.set.or.th//set/commonslookup.do?language=en&country=US&prefix=X',\n",
       " 'Y': 'https://www.set.or.th//set/commonslookup.do?language=en&country=US&prefix=Y',\n",
       " 'Z': 'https://www.set.or.th//set/commonslookup.do?language=en&country=US&prefix=Z'}"
      ]
     },
     "execution_count": 17,
     "metadata": {},
     "output_type": "execute_result"
    }
   ],
   "source": [
    "symbol_urls"
   ]
  },
  {
   "cell_type": "code",
   "execution_count": 19,
   "id": "8fe931e4",
   "metadata": {},
   "outputs": [],
   "source": [
    "symbols = {}\n",
    "for prefix, url in symbol_urls.items():\n",
    "    symbols[prefix] = []\n",
    "    soup = scraper.get_soup(url)\n",
    "    for row in soup.find_all(\"tr\", attrs={\"valign\":\"top\"}):\n",
    "        symbols[prefix].append(row.td.text)"
   ]
  },
  {
   "cell_type": "code",
   "execution_count": 21,
   "id": "f2dc3006",
   "metadata": {},
   "outputs": [],
   "source": [
    "scraper.save_dict_to_json(dictionary=symbols, filename=\"SET_symbols.json\")"
   ]
  }
 ],
 "metadata": {
  "kernelspec": {
   "display_name": "Python 3.8.8 64-bit ('DL': conda)",
   "language": "python",
   "name": "python388jvsc74a57bd05f58e7dbcddfdb99f90b0447783d5390db8cd74aa541842f8b458cd6f0565a39"
  },
  "language_info": {
   "codemirror_mode": {
    "name": "ipython",
    "version": 3
   },
   "file_extension": ".py",
   "mimetype": "text/x-python",
   "name": "python",
   "nbconvert_exporter": "python",
   "pygments_lexer": "ipython3",
   "version": "3.8.8"
  }
 },
 "nbformat": 4,
 "nbformat_minor": 5
}
