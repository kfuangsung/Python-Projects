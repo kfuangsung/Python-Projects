{
 "cells": [
  {
   "cell_type": "code",
   "execution_count": 1,
   "id": "eaa603fa",
   "metadata": {},
   "outputs": [],
   "source": [
    "import setwebscrape as scraper\n",
    "from tqdm import tqdm"
   ]
  },
  {
   "cell_type": "code",
   "execution_count": 2,
   "id": "6a0e441e",
   "metadata": {},
   "outputs": [],
   "source": [
    "symbols = scraper.load_json(\"SET_symbols.json\")"
   ]
  },
  {
   "cell_type": "code",
   "execution_count": 3,
   "id": "85fa7333",
   "metadata": {
    "scrolled": true
   },
   "outputs": [
    {
     "name": "stderr",
     "output_type": "stream",
     "text": [
      "100%|███████████████████████████████████████████| 27/27 [02:35<00:00,  5.75s/it]"
     ]
    },
    {
     "name": "stdout",
     "output_type": "stream",
     "text": [
      "Saved to SET_companyHighlights.json\n"
     ]
    },
    {
     "name": "stderr",
     "output_type": "stream",
     "text": [
      "\n"
     ]
    }
   ],
   "source": [
    "company_highlights = {}\n",
    "FILENAME = \"SET_companyHighlights.json\"\n",
    "\n",
    "for prefix, symbols_list in tqdm(symbols.items()):\n",
    "    for symbol in (symbols_list):\n",
    "        data = scraper.get_company_highlights(symbol)\n",
    "        company_highlights[symbol] = data\n",
    "    scraper.save_dict_to_json(company_highlights, FILENAME)\n",
    "print(f\"Saved to {FILENAME}\")"
   ]
  },
  {
   "cell_type": "code",
   "execution_count": 4,
   "id": "bdb19078",
   "metadata": {},
   "outputs": [],
   "source": [
    "comp_hl = scraper.load_json(\"SET_companyHighlights.json\")"
   ]
  },
  {
   "cell_type": "code",
   "execution_count": 5,
   "id": "0c370e94",
   "metadata": {},
   "outputs": [
    {
     "name": "stdout",
     "output_type": "stream",
     "text": [
      "*** PTT | FinancialData ***\n"
     ]
    },
    {
     "data": {
      "text/html": [
       "<div>\n",
       "<style scoped>\n",
       "    .dataframe tbody tr th:only-of-type {\n",
       "        vertical-align: middle;\n",
       "    }\n",
       "\n",
       "    .dataframe tbody tr th {\n",
       "        vertical-align: top;\n",
       "    }\n",
       "\n",
       "    .dataframe thead th {\n",
       "        text-align: right;\n",
       "    }\n",
       "</style>\n",
       "<table border=\"1\" class=\"dataframe\">\n",
       "  <thead>\n",
       "    <tr style=\"text-align: right;\">\n",
       "      <th></th>\n",
       "      <th>Y/E '18 31/12/2018</th>\n",
       "      <th>Y/E '19 31/12/2019</th>\n",
       "      <th>Y/E '20 31/12/2020</th>\n",
       "      <th>Q3 '21 30/09/2021</th>\n",
       "    </tr>\n",
       "  </thead>\n",
       "  <tbody>\n",
       "    <tr>\n",
       "      <th>Assets</th>\n",
       "      <td>2355483.87</td>\n",
       "      <td>2484438.68</td>\n",
       "      <td>2544182.88</td>\n",
       "      <td>2970002.00</td>\n",
       "    </tr>\n",
       "    <tr>\n",
       "      <th>Liabilities</th>\n",
       "      <td>1036989.52</td>\n",
       "      <td>1183399.06</td>\n",
       "      <td>1258337.79</td>\n",
       "      <td>1535241.91</td>\n",
       "    </tr>\n",
       "    <tr>\n",
       "      <th>Equity</th>\n",
       "      <td>875083.83</td>\n",
       "      <td>878604.11</td>\n",
       "      <td>882040.40</td>\n",
       "      <td>978628.72</td>\n",
       "    </tr>\n",
       "    <tr>\n",
       "      <th>Paid-up Capital</th>\n",
       "      <td>28563.00</td>\n",
       "      <td>28563.00</td>\n",
       "      <td>28563.00</td>\n",
       "      <td>28563.00</td>\n",
       "    </tr>\n",
       "    <tr>\n",
       "      <th>Revenue</th>\n",
       "      <td>2353090.01</td>\n",
       "      <td>2239718.62</td>\n",
       "      <td>1633977.16</td>\n",
       "      <td>1592391.52</td>\n",
       "    </tr>\n",
       "    <tr>\n",
       "      <th>Profit (Loss) from Other Activities</th>\n",
       "      <td>14868.53</td>\n",
       "      <td>21320.82</td>\n",
       "      <td>15713.74</td>\n",
       "      <td>-36321.08</td>\n",
       "    </tr>\n",
       "    <tr>\n",
       "      <th>Net Profit</th>\n",
       "      <td>119683.94</td>\n",
       "      <td>92950.60</td>\n",
       "      <td>37765.81</td>\n",
       "      <td>80819.10</td>\n",
       "    </tr>\n",
       "    <tr>\n",
       "      <th>EPS (Baht)</th>\n",
       "      <td>4.15</td>\n",
       "      <td>3.20</td>\n",
       "      <td>1.32</td>\n",
       "      <td>2.82</td>\n",
       "    </tr>\n",
       "    <tr>\n",
       "      <th>ROA(%)</th>\n",
       "      <td>10.75</td>\n",
       "      <td>7.56</td>\n",
       "      <td>3.72</td>\n",
       "      <td>7.88</td>\n",
       "    </tr>\n",
       "    <tr>\n",
       "      <th>ROE(%)</th>\n",
       "      <td>14.13</td>\n",
       "      <td>10.60</td>\n",
       "      <td>4.29</td>\n",
       "      <td>10.12</td>\n",
       "    </tr>\n",
       "    <tr>\n",
       "      <th>Net Profit Margin(%)</th>\n",
       "      <td>7.03</td>\n",
       "      <td>5.45</td>\n",
       "      <td>2.44</td>\n",
       "      <td>7.15</td>\n",
       "    </tr>\n",
       "  </tbody>\n",
       "</table>\n",
       "</div>"
      ],
      "text/plain": [
       "                                     Y/E '18 31/12/2018  Y/E '19 31/12/2019  \\\n",
       "Assets                                       2355483.87          2484438.68   \n",
       "Liabilities                                  1036989.52          1183399.06   \n",
       "Equity                                        875083.83           878604.11   \n",
       "Paid-up Capital                                28563.00            28563.00   \n",
       "Revenue                                      2353090.01          2239718.62   \n",
       "Profit (Loss) from Other Activities            14868.53            21320.82   \n",
       "Net Profit                                    119683.94            92950.60   \n",
       "EPS (Baht)                                         4.15                3.20   \n",
       "ROA(%)                                            10.75                7.56   \n",
       "ROE(%)                                            14.13               10.60   \n",
       "Net Profit Margin(%)                               7.03                5.45   \n",
       "\n",
       "                                     Y/E '20 31/12/2020  Q3 '21 30/09/2021  \n",
       "Assets                                       2544182.88         2970002.00  \n",
       "Liabilities                                  1258337.79         1535241.91  \n",
       "Equity                                        882040.40          978628.72  \n",
       "Paid-up Capital                                28563.00           28563.00  \n",
       "Revenue                                      1633977.16         1592391.52  \n",
       "Profit (Loss) from Other Activities            15713.74          -36321.08  \n",
       "Net Profit                                     37765.81           80819.10  \n",
       "EPS (Baht)                                         1.32               2.82  \n",
       "ROA(%)                                             3.72               7.88  \n",
       "ROE(%)                                             4.29              10.12  \n",
       "Net Profit Margin(%)                               2.44               7.15  "
      ]
     },
     "metadata": {},
     "output_type": "display_data"
    },
    {
     "name": "stdout",
     "output_type": "stream",
     "text": [
      "--------------------------------------------------\n",
      "\n",
      "*** PTT | Statistics ***\n"
     ]
    },
    {
     "data": {
      "text/html": [
       "<div>\n",
       "<style scoped>\n",
       "    .dataframe tbody tr th:only-of-type {\n",
       "        vertical-align: middle;\n",
       "    }\n",
       "\n",
       "    .dataframe tbody tr th {\n",
       "        vertical-align: top;\n",
       "    }\n",
       "\n",
       "    .dataframe thead th {\n",
       "        text-align: right;\n",
       "    }\n",
       "</style>\n",
       "<table border=\"1\" class=\"dataframe\">\n",
       "  <thead>\n",
       "    <tr style=\"text-align: right;\">\n",
       "      <th></th>\n",
       "      <th>28/12/2018</th>\n",
       "      <th>30/12/2019</th>\n",
       "      <th>30/12/2020</th>\n",
       "      <th>30/12/2021</th>\n",
       "      <th>03/02/2022</th>\n",
       "    </tr>\n",
       "  </thead>\n",
       "  <tbody>\n",
       "    <tr>\n",
       "      <th>Last Price(Baht)</th>\n",
       "      <td>46.0</td>\n",
       "      <td>44.0</td>\n",
       "      <td>42.5</td>\n",
       "      <td>38.0</td>\n",
       "      <td>38.75</td>\n",
       "    </tr>\n",
       "    <tr>\n",
       "      <th>Market Cap.</th>\n",
       "      <td>1313897.83</td>\n",
       "      <td>1256771.83</td>\n",
       "      <td>1213927.34</td>\n",
       "      <td>1085393.86</td>\n",
       "      <td>1106816.1</td>\n",
       "    </tr>\n",
       "    <tr>\n",
       "      <th>F/S Period (As of date)</th>\n",
       "      <td>30/09/2018</td>\n",
       "      <td>30/09/2019</td>\n",
       "      <td>30/09/2020</td>\n",
       "      <td>30/09/2021</td>\n",
       "      <td>30/09/2021</td>\n",
       "    </tr>\n",
       "    <tr>\n",
       "      <th>P/E</th>\n",
       "      <td>9.7</td>\n",
       "      <td>13.22</td>\n",
       "      <td>28.86</td>\n",
       "      <td>11.55</td>\n",
       "      <td>11.78</td>\n",
       "    </tr>\n",
       "    <tr>\n",
       "      <th>P/BV</th>\n",
       "      <td>1.54</td>\n",
       "      <td>1.45</td>\n",
       "      <td>1.38</td>\n",
       "      <td>1.11</td>\n",
       "      <td>1.13</td>\n",
       "    </tr>\n",
       "    <tr>\n",
       "      <th>Book Value per share (Baht)</th>\n",
       "      <td>29.94</td>\n",
       "      <td>30.31</td>\n",
       "      <td>30.73</td>\n",
       "      <td>34.26</td>\n",
       "      <td>34.26</td>\n",
       "    </tr>\n",
       "    <tr>\n",
       "      <th>Dvd. Yield(%)</th>\n",
       "      <td>4.35</td>\n",
       "      <td>4.55</td>\n",
       "      <td>4.71</td>\n",
       "      <td>2.63</td>\n",
       "      <td>2.58</td>\n",
       "    </tr>\n",
       "  </tbody>\n",
       "</table>\n",
       "</div>"
      ],
      "text/plain": [
       "                             28/12/2018  30/12/2019  30/12/2020  30/12/2021  \\\n",
       "Last Price(Baht)                   46.0        44.0        42.5        38.0   \n",
       "Market Cap.                  1313897.83  1256771.83  1213927.34  1085393.86   \n",
       "F/S Period (As of date)      30/09/2018  30/09/2019  30/09/2020  30/09/2021   \n",
       "P/E                                 9.7       13.22       28.86       11.55   \n",
       "P/BV                               1.54        1.45        1.38        1.11   \n",
       "Book Value per share (Baht)       29.94       30.31       30.73       34.26   \n",
       "Dvd. Yield(%)                      4.35        4.55        4.71        2.63   \n",
       "\n",
       "                             03/02/2022  \n",
       "Last Price(Baht)                  38.75  \n",
       "Market Cap.                   1106816.1  \n",
       "F/S Period (As of date)      30/09/2021  \n",
       "P/E                               11.78  \n",
       "P/BV                               1.13  \n",
       "Book Value per share (Baht)       34.26  \n",
       "Dvd. Yield(%)                      2.58  "
      ]
     },
     "metadata": {},
     "output_type": "display_data"
    }
   ],
   "source": [
    "sym = 'PTT'\n",
    "scraper.show_company_highlights(comp_hl[sym])"
   ]
  },
  {
   "cell_type": "code",
   "execution_count": null,
   "id": "25941bf8",
   "metadata": {},
   "outputs": [],
   "source": []
  }
 ],
 "metadata": {
  "kernelspec": {
   "display_name": "Python 3.8.8 64-bit ('DL': conda)",
   "language": "python",
   "name": "python388jvsc74a57bd05f58e7dbcddfdb99f90b0447783d5390db8cd74aa541842f8b458cd6f0565a39"
  },
  "language_info": {
   "codemirror_mode": {
    "name": "ipython",
    "version": 3
   },
   "file_extension": ".py",
   "mimetype": "text/x-python",
   "name": "python",
   "nbconvert_exporter": "python",
   "pygments_lexer": "ipython3",
   "version": "3.8.8"
  }
 },
 "nbformat": 4,
 "nbformat_minor": 5
}
