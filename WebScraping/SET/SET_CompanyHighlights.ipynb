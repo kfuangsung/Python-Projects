{
 "cells": [
  {
   "cell_type": "code",
   "execution_count": 1,
   "id": "2df98e49",
   "metadata": {},
   "outputs": [],
   "source": [
    "import requests\n",
    "import pandas as pd \n",
    "from bs4 import BeautifulSoup"
   ]
  },
  {
   "cell_type": "code",
   "execution_count": 2,
   "id": "bf02c66a",
   "metadata": {},
   "outputs": [],
   "source": [
    "symbol = \"WHABT\"\n",
    "if '&' in symbol:\n",
    "    symbol_url = symbol.replace('&', '%26')\n",
    "else:\n",
    "    symbol_url = symbol\n",
    "URL = f\"https://www.set.or.th/set/companyhighlight.do?symbol={symbol_url}&ssoPageId=5&language=en&country=US\""
   ]
  },
  {
   "cell_type": "code",
   "execution_count": 3,
   "id": "e39dbb2e",
   "metadata": {},
   "outputs": [
    {
     "data": {
      "text/plain": [
       "True"
      ]
     },
     "execution_count": 3,
     "metadata": {},
     "output_type": "execute_result"
    }
   ],
   "source": [
    "web = requests.get(URL)\n",
    "web.ok"
   ]
  },
  {
   "cell_type": "code",
   "execution_count": 4,
   "id": "dbf5b7ed",
   "metadata": {},
   "outputs": [],
   "source": [
    "soup = BeautifulSoup(web.text, \"lxml\")\n",
    "table = soup.find(\"table\", attrs={\"class\":\"table table-hover table-info\"})"
   ]
  },
  {
   "cell_type": "code",
   "execution_count": 5,
   "id": "3dccbc9b",
   "metadata": {},
   "outputs": [],
   "source": [
    "header = table.find_all(\"thead\")[0]"
   ]
  },
  {
   "cell_type": "code",
   "execution_count": 6,
   "id": "4e08cc9c",
   "metadata": {},
   "outputs": [
    {
     "data": {
      "text/plain": [
       "<thead>\n",
       "<tr align=\"center\" valign=\"middle\">\n",
       "<th height=\"30\"><strong>Period <br/> as of</strong></th>\n",
       "<th><strong>Y/E '18<br/>31/03/2018</strong></th>\n",
       "<th><strong>Y/E '19<br/>31/03/2019</strong></th>\n",
       "<th><strong>Y/E '20<br/>31/03/2020</strong></th>\n",
       "<th><strong>Y/E '21<br/>31/03/2021</strong></th>\n",
       "<th><strong>Q2 '22<br/>30/09/2021</strong></th>\n",
       "</tr>\n",
       "</thead>"
      ]
     },
     "execution_count": 6,
     "metadata": {},
     "output_type": "execute_result"
    }
   ],
   "source": [
    "header"
   ]
  },
  {
   "cell_type": "code",
   "execution_count": 7,
   "id": "260eca1b",
   "metadata": {},
   "outputs": [
    {
     "name": "stdout",
     "output_type": "stream",
     "text": [
      "<th height=\"30\"><strong>Period <br/> as of</strong></th>\n",
      "<th><strong>Y/E '18<br/>31/03/2018</strong></th>\n",
      "<th><strong>Y/E '19<br/>31/03/2019</strong></th>\n",
      "<th><strong>Y/E '20<br/>31/03/2020</strong></th>\n",
      "<th><strong>Y/E '21<br/>31/03/2021</strong></th>\n",
      "<th><strong>Q2 '22<br/>30/09/2021</strong></th>\n"
     ]
    }
   ],
   "source": [
    "for head in header.find_all(\"th\"):\n",
    "    print(head)"
   ]
  },
  {
   "cell_type": "code",
   "execution_count": 5,
   "id": "fd0a0af5",
   "metadata": {},
   "outputs": [
    {
     "data": {
      "text/plain": [
       "[\"Y/E '19 31/12/2019\", \"Y/E '20 31/12/2020\", \"Q3 '21 30/09/2021\"]"
      ]
     },
     "execution_count": 5,
     "metadata": {},
     "output_type": "execute_result"
    }
   ],
   "source": [
    "header = table.find_all(\"thead\")[0]\n",
    "date = []\n",
    "for head in header.find_all(\"th\")[1:-1]:\n",
    "    text = head.get_text(\" \")\n",
    "    if text != '':\n",
    "        date.append(text)\n",
    "date"
   ]
  },
  {
   "cell_type": "code",
   "execution_count": 6,
   "id": "f4269ea2",
   "metadata": {
    "scrolled": false
   },
   "outputs": [],
   "source": [
    "data = {}\n",
    "table_name = \"FinancialData\"\n",
    "data[table_name] = {}\n",
    "data[table_name][\"date\"] = date\n",
    "data[table_name][\"info\"] = {}\n",
    "\n",
    "for row in table.tbody.find_all(\"td\"):\n",
    "    if row.text == \"Last Price(Baht)\": break\n",
    "    \n",
    "    attrs = row.attrs\n",
    "    if attrs.get('style', None) == 'text-align:left;' and not attrs.get('colspan', None) is None:\n",
    "        pass\n",
    "    elif attrs.get('style', None) == 'text-align:left;':\n",
    "        name = row.text \n",
    "        data[table_name][\"info\"][name] = []\n",
    "    else:\n",
    "        info = row.get_text(strip=True)\n",
    "        if info != '':\n",
    "            info = info.replace(',','')\n",
    "            try:\n",
    "                info = float(info)\n",
    "            except:\n",
    "                pass\n",
    "            data[table_name][\"info\"][name].append(info)"
   ]
  },
  {
   "cell_type": "code",
   "execution_count": 7,
   "id": "b5ebab30",
   "metadata": {},
   "outputs": [
    {
     "data": {
      "text/plain": [
       "{'FinancialData': {'date': [\"Y/E '19 31/12/2019\",\n",
       "   \"Y/E '20 31/12/2020\",\n",
       "   \"Q3 '21 30/09/2021\"],\n",
       "  'info': {'Assets': [152176.21, 144979.3, 191619.26],\n",
       "   'Liabilities': [113468.38, 107063.34, 94747.46],\n",
       "   'Equity': [38707.83, 37823.44, 96818.87],\n",
       "   'Paid-up Capital': [90000.0, 90000.0, 120000.0],\n",
       "   'Revenue': [583208.75, 432848.96, 356406.09],\n",
       "   'Profit (Loss) from Other Activities': [927.85, 108.31, 641.4],\n",
       "   'Net Profit': [10895.81, 8791.07, 9120.62],\n",
       "   'EPS (Baht)': [1.21, 0.98, 0.79],\n",
       "   'ROA(%)': [9.59, 8.09, 9.54],\n",
       "   'ROE(%)': [28.15, 22.97, 17.45],\n",
       "   'Net Profit Margin(%)': [1.87, 2.03, 2.56]}}}"
      ]
     },
     "execution_count": 7,
     "metadata": {},
     "output_type": "execute_result"
    }
   ],
   "source": [
    "data"
   ]
  },
  {
   "cell_type": "code",
   "execution_count": 8,
   "id": "dd4cc0f4",
   "metadata": {
    "scrolled": false
   },
   "outputs": [
    {
     "name": "stdout",
     "output_type": "stream",
     "text": [
      "OR | FinancialData\n"
     ]
    },
    {
     "data": {
      "text/html": [
       "<div>\n",
       "<style scoped>\n",
       "    .dataframe tbody tr th:only-of-type {\n",
       "        vertical-align: middle;\n",
       "    }\n",
       "\n",
       "    .dataframe tbody tr th {\n",
       "        vertical-align: top;\n",
       "    }\n",
       "\n",
       "    .dataframe thead th {\n",
       "        text-align: right;\n",
       "    }\n",
       "</style>\n",
       "<table border=\"1\" class=\"dataframe\">\n",
       "  <thead>\n",
       "    <tr style=\"text-align: right;\">\n",
       "      <th></th>\n",
       "      <th>Y/E '19 31/12/2019</th>\n",
       "      <th>Y/E '20 31/12/2020</th>\n",
       "      <th>Q3 '21 30/09/2021</th>\n",
       "    </tr>\n",
       "  </thead>\n",
       "  <tbody>\n",
       "    <tr>\n",
       "      <th>Assets</th>\n",
       "      <td>152176.21</td>\n",
       "      <td>144979.30</td>\n",
       "      <td>191619.26</td>\n",
       "    </tr>\n",
       "    <tr>\n",
       "      <th>Liabilities</th>\n",
       "      <td>113468.38</td>\n",
       "      <td>107063.34</td>\n",
       "      <td>94747.46</td>\n",
       "    </tr>\n",
       "    <tr>\n",
       "      <th>Equity</th>\n",
       "      <td>38707.83</td>\n",
       "      <td>37823.44</td>\n",
       "      <td>96818.87</td>\n",
       "    </tr>\n",
       "    <tr>\n",
       "      <th>Paid-up Capital</th>\n",
       "      <td>90000.00</td>\n",
       "      <td>90000.00</td>\n",
       "      <td>120000.00</td>\n",
       "    </tr>\n",
       "    <tr>\n",
       "      <th>Revenue</th>\n",
       "      <td>583208.75</td>\n",
       "      <td>432848.96</td>\n",
       "      <td>356406.09</td>\n",
       "    </tr>\n",
       "    <tr>\n",
       "      <th>Profit (Loss) from Other Activities</th>\n",
       "      <td>927.85</td>\n",
       "      <td>108.31</td>\n",
       "      <td>641.40</td>\n",
       "    </tr>\n",
       "    <tr>\n",
       "      <th>Net Profit</th>\n",
       "      <td>10895.81</td>\n",
       "      <td>8791.07</td>\n",
       "      <td>9120.62</td>\n",
       "    </tr>\n",
       "    <tr>\n",
       "      <th>EPS (Baht)</th>\n",
       "      <td>1.21</td>\n",
       "      <td>0.98</td>\n",
       "      <td>0.79</td>\n",
       "    </tr>\n",
       "    <tr>\n",
       "      <th>ROA(%)</th>\n",
       "      <td>9.59</td>\n",
       "      <td>8.09</td>\n",
       "      <td>9.54</td>\n",
       "    </tr>\n",
       "    <tr>\n",
       "      <th>ROE(%)</th>\n",
       "      <td>28.15</td>\n",
       "      <td>22.97</td>\n",
       "      <td>17.45</td>\n",
       "    </tr>\n",
       "    <tr>\n",
       "      <th>Net Profit Margin(%)</th>\n",
       "      <td>1.87</td>\n",
       "      <td>2.03</td>\n",
       "      <td>2.56</td>\n",
       "    </tr>\n",
       "  </tbody>\n",
       "</table>\n",
       "</div>"
      ],
      "text/plain": [
       "                                     Y/E '19 31/12/2019  Y/E '20 31/12/2020  \\\n",
       "Assets                                        152176.21           144979.30   \n",
       "Liabilities                                   113468.38           107063.34   \n",
       "Equity                                         38707.83            37823.44   \n",
       "Paid-up Capital                                90000.00            90000.00   \n",
       "Revenue                                       583208.75           432848.96   \n",
       "Profit (Loss) from Other Activities              927.85              108.31   \n",
       "Net Profit                                     10895.81             8791.07   \n",
       "EPS (Baht)                                         1.21                0.98   \n",
       "ROA(%)                                             9.59                8.09   \n",
       "ROE(%)                                            28.15               22.97   \n",
       "Net Profit Margin(%)                               1.87                2.03   \n",
       "\n",
       "                                     Q3 '21 30/09/2021  \n",
       "Assets                                       191619.26  \n",
       "Liabilities                                   94747.46  \n",
       "Equity                                        96818.87  \n",
       "Paid-up Capital                              120000.00  \n",
       "Revenue                                      356406.09  \n",
       "Profit (Loss) from Other Activities             641.40  \n",
       "Net Profit                                     9120.62  \n",
       "EPS (Baht)                                        0.79  \n",
       "ROA(%)                                            9.54  \n",
       "ROE(%)                                           17.45  \n",
       "Net Profit Margin(%)                              2.56  "
      ]
     },
     "execution_count": 8,
     "metadata": {},
     "output_type": "execute_result"
    }
   ],
   "source": [
    "table_name = \"FinancialData\"\n",
    "print(f\"{symbol} | {table_name}\")\n",
    "pd.DataFrame(data[table_name][\"info\"], index=data[table_name][\"date\"]).T"
   ]
  },
  {
   "cell_type": "code",
   "execution_count": 9,
   "id": "fec98ff8",
   "metadata": {},
   "outputs": [
    {
     "data": {
      "text/plain": [
       "['30/12/2021', '03/02/2022']"
      ]
     },
     "execution_count": 9,
     "metadata": {},
     "output_type": "execute_result"
    }
   ],
   "source": [
    "header = table.find_all(\"thead\")[1]\n",
    "date = []\n",
    "for head in header.find_all(\"th\")[1:]:\n",
    "    text = head.get_text(\" \")\n",
    "    if text != '':\n",
    "        date.append(text)\n",
    "date"
   ]
  },
  {
   "cell_type": "code",
   "execution_count": 10,
   "id": "03271db7",
   "metadata": {},
   "outputs": [
    {
     "name": "stdout",
     "output_type": "stream",
     "text": [
      "59 <td height=\"15\" style=\"text-align:left;\">Last Price(Baht)</td>\n"
     ]
    }
   ],
   "source": [
    "for i, row in enumerate(table.tbody.find_all(\"td\")):\n",
    "    if row.text == \"Last Price(Baht)\": \n",
    "        print(i, row)\n",
    "        index = i\n",
    "        break"
   ]
  },
  {
   "cell_type": "code",
   "execution_count": 11,
   "id": "730f0bd9",
   "metadata": {},
   "outputs": [],
   "source": [
    "rows = table.tbody.find_all(\"td\")[index:]\n",
    "\n",
    "table_name = \"Statistics\"\n",
    "data[table_name] = {}\n",
    "data[table_name][\"date\"] = date\n",
    "data[table_name][\"info\"] = {}\n",
    "\n",
    "for row in rows:\n",
    "    attrs = row.attrs\n",
    "    if attrs.get('style', None) == 'text-align:left;' and attrs.get('colspan', None) == '5':\n",
    "        pass\n",
    "    elif attrs.get('style', None) == 'text-align:left;':\n",
    "        name = row.text \n",
    "        data[table_name][\"info\"][name] = []\n",
    "    else:\n",
    "        info = row.get_text(strip=True)\n",
    "        if info != '':\n",
    "            info = info.replace(',','')\n",
    "            try:\n",
    "                info = float(info)\n",
    "            except:\n",
    "                pass\n",
    "            data[table_name][\"info\"][name].append(info)"
   ]
  },
  {
   "cell_type": "code",
   "execution_count": 12,
   "id": "8392b44e",
   "metadata": {},
   "outputs": [
    {
     "data": {
      "text/plain": [
       "{'date': ['30/12/2021', '03/02/2022'],\n",
       " 'info': {'Last Price(Baht)': [27.0, 24.5],\n",
       "  'Market Cap.': [324000.0, 294000.0],\n",
       "  'F/S Period (As of date)': ['30/09/2021', '30/09/2021'],\n",
       "  'P/E': [26.9, 24.41],\n",
       "  'P/BV': [3.35, 3.04],\n",
       "  'Book Value per share (Baht)': [8.07, 8.07],\n",
       "  'Dvd. Yield(%)': [0.36, 0.39]}}"
      ]
     },
     "execution_count": 12,
     "metadata": {},
     "output_type": "execute_result"
    }
   ],
   "source": [
    "data[table_name]"
   ]
  },
  {
   "cell_type": "code",
   "execution_count": 13,
   "id": "ec2daf41",
   "metadata": {},
   "outputs": [
    {
     "name": "stdout",
     "output_type": "stream",
     "text": [
      "OR | Statistics\n"
     ]
    },
    {
     "data": {
      "text/html": [
       "<div>\n",
       "<style scoped>\n",
       "    .dataframe tbody tr th:only-of-type {\n",
       "        vertical-align: middle;\n",
       "    }\n",
       "\n",
       "    .dataframe tbody tr th {\n",
       "        vertical-align: top;\n",
       "    }\n",
       "\n",
       "    .dataframe thead th {\n",
       "        text-align: right;\n",
       "    }\n",
       "</style>\n",
       "<table border=\"1\" class=\"dataframe\">\n",
       "  <thead>\n",
       "    <tr style=\"text-align: right;\">\n",
       "      <th></th>\n",
       "      <th>30/12/2021</th>\n",
       "      <th>03/02/2022</th>\n",
       "    </tr>\n",
       "  </thead>\n",
       "  <tbody>\n",
       "    <tr>\n",
       "      <th>Last Price(Baht)</th>\n",
       "      <td>27.0</td>\n",
       "      <td>24.5</td>\n",
       "    </tr>\n",
       "    <tr>\n",
       "      <th>Market Cap.</th>\n",
       "      <td>324000.0</td>\n",
       "      <td>294000.0</td>\n",
       "    </tr>\n",
       "    <tr>\n",
       "      <th>F/S Period (As of date)</th>\n",
       "      <td>30/09/2021</td>\n",
       "      <td>30/09/2021</td>\n",
       "    </tr>\n",
       "    <tr>\n",
       "      <th>P/E</th>\n",
       "      <td>26.9</td>\n",
       "      <td>24.41</td>\n",
       "    </tr>\n",
       "    <tr>\n",
       "      <th>P/BV</th>\n",
       "      <td>3.35</td>\n",
       "      <td>3.04</td>\n",
       "    </tr>\n",
       "    <tr>\n",
       "      <th>Book Value per share (Baht)</th>\n",
       "      <td>8.07</td>\n",
       "      <td>8.07</td>\n",
       "    </tr>\n",
       "    <tr>\n",
       "      <th>Dvd. Yield(%)</th>\n",
       "      <td>0.36</td>\n",
       "      <td>0.39</td>\n",
       "    </tr>\n",
       "  </tbody>\n",
       "</table>\n",
       "</div>"
      ],
      "text/plain": [
       "                             30/12/2021  03/02/2022\n",
       "Last Price(Baht)                   27.0        24.5\n",
       "Market Cap.                    324000.0    294000.0\n",
       "F/S Period (As of date)      30/09/2021  30/09/2021\n",
       "P/E                                26.9       24.41\n",
       "P/BV                               3.35        3.04\n",
       "Book Value per share (Baht)        8.07        8.07\n",
       "Dvd. Yield(%)                      0.36        0.39"
      ]
     },
     "execution_count": 13,
     "metadata": {},
     "output_type": "execute_result"
    }
   ],
   "source": [
    "table_name = \"Statistics\"\n",
    "print(f\"{symbol} | {table_name}\")\n",
    "pd.DataFrame(data[table_name][\"info\"], index=data[table_name][\"date\"]).T"
   ]
  },
  {
   "cell_type": "code",
   "execution_count": null,
   "id": "e5880a53",
   "metadata": {},
   "outputs": [],
   "source": []
  }
 ],
 "metadata": {
  "kernelspec": {
   "display_name": "Python 3.8.8 64-bit ('DL': conda)",
   "language": "python",
   "name": "python388jvsc74a57bd05f58e7dbcddfdb99f90b0447783d5390db8cd74aa541842f8b458cd6f0565a39"
  },
  "language_info": {
   "codemirror_mode": {
    "name": "ipython",
    "version": 3
   },
   "file_extension": ".py",
   "mimetype": "text/x-python",
   "name": "python",
   "nbconvert_exporter": "python",
   "pygments_lexer": "ipython3",
   "version": "3.8.8"
  }
 },
 "nbformat": 4,
 "nbformat_minor": 5
}
