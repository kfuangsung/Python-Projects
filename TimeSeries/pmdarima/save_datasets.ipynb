{
 "cells": [
  {
   "cell_type": "code",
   "execution_count": 1,
   "id": "6f542197",
   "metadata": {},
   "outputs": [],
   "source": [
    "import warnings\n",
    "warnings.simplefilter(action='ignore', category=FutureWarning)"
   ]
  },
  {
   "cell_type": "code",
   "execution_count": 2,
   "id": "c43ca718",
   "metadata": {},
   "outputs": [],
   "source": [
    "import os \n",
    "import pmdarima as pm"
   ]
  },
  {
   "cell_type": "code",
   "execution_count": 3,
   "id": "2ed365ec",
   "metadata": {},
   "outputs": [],
   "source": [
    "data_path = '../ts_data/'\n",
    "os.makedirs(data_path, exist_ok=True)"
   ]
  },
  {
   "cell_type": "code",
   "execution_count": 4,
   "id": "563ca2c3",
   "metadata": {},
   "outputs": [],
   "source": [
    "datasets = {pm.datasets.load_airpassengers : 'air_passenger',\n",
    "            pm.datasets.load_ausbeer : 'beer',\n",
    "            pm.datasets.load_austres : 'resident',\n",
    "            pm.datasets.load_gasoline : 'gasoline',\n",
    "            pm.datasets.load_heartrate : 'heart_rate',\n",
    "            pm.datasets.load_lynx : 'lynx',\n",
    "            pm.datasets.load_sunspots : 'sunspot',\n",
    "            pm.datasets.load_taylor : 'electricity',\n",
    "            pm.datasets.load_wineind : 'wine',\n",
    "            pm.datasets.load_woolyrnq : 'wool'}"
   ]
  },
  {
   "cell_type": "code",
   "execution_count": 5,
   "id": "7ba2cf50",
   "metadata": {},
   "outputs": [],
   "source": [
    "for func, name in datasets.items():\n",
    "    file_path = os.path.join(data_path, f\"{name}.csv\")\n",
    "    func(as_series=True).to_csv(file_path, header=False, index=False)"
   ]
  }
 ],
 "metadata": {
  "kernelspec": {
   "display_name": "Python 3.8.8 64-bit ('DL': conda)",
   "language": "python",
   "name": "python388jvsc74a57bd05f58e7dbcddfdb99f90b0447783d5390db8cd74aa541842f8b458cd6f0565a39"
  },
  "language_info": {
   "codemirror_mode": {
    "name": "ipython",
    "version": 3
   },
   "file_extension": ".py",
   "mimetype": "text/x-python",
   "name": "python",
   "nbconvert_exporter": "python",
   "pygments_lexer": "ipython3",
   "version": "3.8.8"
  }
 },
 "nbformat": 4,
 "nbformat_minor": 5
}
