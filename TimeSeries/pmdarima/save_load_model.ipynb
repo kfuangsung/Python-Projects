{
 "cells": [
  {
   "cell_type": "code",
   "execution_count": 1,
   "id": "f9268929",
   "metadata": {},
   "outputs": [],
   "source": [
    "import pandas as pd \n",
    "import pmdarima as pm \n",
    "import joblib"
   ]
  },
  {
   "cell_type": "code",
   "execution_count": 2,
   "id": "f742d703",
   "metadata": {},
   "outputs": [
    {
     "data": {
      "text/html": [
       "<div>\n",
       "<style scoped>\n",
       "    .dataframe tbody tr th:only-of-type {\n",
       "        vertical-align: middle;\n",
       "    }\n",
       "\n",
       "    .dataframe tbody tr th {\n",
       "        vertical-align: top;\n",
       "    }\n",
       "\n",
       "    .dataframe thead th {\n",
       "        text-align: right;\n",
       "    }\n",
       "</style>\n",
       "<table border=\"1\" class=\"dataframe\">\n",
       "  <thead>\n",
       "    <tr style=\"text-align: right;\">\n",
       "      <th></th>\n",
       "      <th>0</th>\n",
       "    </tr>\n",
       "  </thead>\n",
       "  <tbody>\n",
       "    <tr>\n",
       "      <th>0</th>\n",
       "      <td>58.0</td>\n",
       "    </tr>\n",
       "    <tr>\n",
       "      <th>1</th>\n",
       "      <td>62.6</td>\n",
       "    </tr>\n",
       "    <tr>\n",
       "      <th>2</th>\n",
       "      <td>70.0</td>\n",
       "    </tr>\n",
       "    <tr>\n",
       "      <th>3</th>\n",
       "      <td>55.7</td>\n",
       "    </tr>\n",
       "    <tr>\n",
       "      <th>4</th>\n",
       "      <td>85.0</td>\n",
       "    </tr>\n",
       "    <tr>\n",
       "      <th>...</th>\n",
       "      <td>...</td>\n",
       "    </tr>\n",
       "    <tr>\n",
       "      <th>2815</th>\n",
       "      <td>71.8</td>\n",
       "    </tr>\n",
       "    <tr>\n",
       "      <th>2816</th>\n",
       "      <td>50.3</td>\n",
       "    </tr>\n",
       "    <tr>\n",
       "      <th>2817</th>\n",
       "      <td>55.8</td>\n",
       "    </tr>\n",
       "    <tr>\n",
       "      <th>2818</th>\n",
       "      <td>33.3</td>\n",
       "    </tr>\n",
       "    <tr>\n",
       "      <th>2819</th>\n",
       "      <td>33.4</td>\n",
       "    </tr>\n",
       "  </tbody>\n",
       "</table>\n",
       "<p>2820 rows × 1 columns</p>\n",
       "</div>"
      ],
      "text/plain": [
       "         0\n",
       "0     58.0\n",
       "1     62.6\n",
       "2     70.0\n",
       "3     55.7\n",
       "4     85.0\n",
       "...    ...\n",
       "2815  71.8\n",
       "2816  50.3\n",
       "2817  55.8\n",
       "2818  33.3\n",
       "2819  33.4\n",
       "\n",
       "[2820 rows x 1 columns]"
      ]
     },
     "execution_count": 2,
     "metadata": {},
     "output_type": "execute_result"
    }
   ],
   "source": [
    "data = pd.read_csv('../ts_data/sunspot.csv', header=None)\n",
    "data "
   ]
  },
  {
   "cell_type": "code",
   "execution_count": 3,
   "id": "122b31b5",
   "metadata": {},
   "outputs": [
    {
     "name": "stdout",
     "output_type": "stream",
     "text": [
      "Performing stepwise search to minimize aic\n",
      " ARIMA(2,1,2)(0,0,0)[0] intercept   : AIC=23502.990, Time=3.20 sec\n",
      " ARIMA(0,1,0)(0,0,0)[0] intercept   : AIC=24040.854, Time=0.08 sec\n",
      " ARIMA(1,1,0)(0,0,0)[0] intercept   : AIC=23775.434, Time=0.16 sec\n",
      " ARIMA(0,1,1)(0,0,0)[0] intercept   : AIC=23616.338, Time=0.47 sec\n",
      " ARIMA(0,1,0)(0,0,0)[0]             : AIC=24038.855, Time=0.06 sec\n",
      " ARIMA(1,1,2)(0,0,0)[0] intercept   : AIC=23575.114, Time=1.12 sec\n",
      " ARIMA(2,1,1)(0,0,0)[0] intercept   : AIC=23573.817, Time=1.01 sec\n",
      " ARIMA(3,1,2)(0,0,0)[0] intercept   : AIC=23501.956, Time=4.37 sec\n",
      " ARIMA(3,1,1)(0,0,0)[0] intercept   : AIC=23572.876, Time=1.44 sec\n",
      " ARIMA(4,1,2)(0,0,0)[0] intercept   : AIC=23501.844, Time=5.30 sec\n",
      " ARIMA(4,1,1)(0,0,0)[0] intercept   : AIC=23574.802, Time=1.33 sec\n",
      " ARIMA(5,1,2)(0,0,0)[0] intercept   : AIC=23577.848, Time=3.62 sec\n",
      " ARIMA(4,1,3)(0,0,0)[0] intercept   : AIC=inf, Time=6.14 sec\n",
      " ARIMA(3,1,3)(0,0,0)[0] intercept   : AIC=23578.458, Time=3.02 sec\n",
      " ARIMA(5,1,1)(0,0,0)[0] intercept   : AIC=23576.161, Time=3.34 sec\n",
      " ARIMA(5,1,3)(0,0,0)[0] intercept   : AIC=23573.078, Time=6.73 sec\n",
      " ARIMA(4,1,2)(0,0,0)[0]             : AIC=23499.543, Time=2.69 sec\n",
      " ARIMA(3,1,2)(0,0,0)[0]             : AIC=23499.958, Time=2.14 sec\n",
      " ARIMA(4,1,1)(0,0,0)[0]             : AIC=23572.804, Time=0.84 sec\n",
      " ARIMA(5,1,2)(0,0,0)[0]             : AIC=23575.850, Time=1.93 sec\n",
      " ARIMA(4,1,3)(0,0,0)[0]             : AIC=inf, Time=3.53 sec\n",
      " ARIMA(3,1,1)(0,0,0)[0]             : AIC=23570.878, Time=0.80 sec\n",
      " ARIMA(3,1,3)(0,0,0)[0]             : AIC=23576.461, Time=1.45 sec\n",
      " ARIMA(5,1,1)(0,0,0)[0]             : AIC=23574.163, Time=1.34 sec\n",
      " ARIMA(5,1,3)(0,0,0)[0]             : AIC=23569.520, Time=3.45 sec\n",
      "\n",
      "Best model:  ARIMA(4,1,2)(0,0,0)[0]          \n",
      "Total fit time: 59.579 seconds\n"
     ]
    }
   ],
   "source": [
    "model = pm.auto_arima(data, trace=True)"
   ]
  },
  {
   "cell_type": "code",
   "execution_count": 4,
   "id": "012584ba",
   "metadata": {},
   "outputs": [
    {
     "data": {
      "text/plain": [
       "['sunspot_arima.pkl']"
      ]
     },
     "execution_count": 4,
     "metadata": {},
     "output_type": "execute_result"
    }
   ],
   "source": [
    "pickle_file = 'sunspot_arima.pkl'\n",
    "# save model\n",
    "joblib.dump(model, pickle_file, compress=3)"
   ]
  },
  {
   "cell_type": "code",
   "execution_count": 5,
   "id": "ae6c822a",
   "metadata": {},
   "outputs": [],
   "source": [
    "# load model\n",
    "loaded_model = joblib.load(pickle_file)"
   ]
  },
  {
   "cell_type": "code",
   "execution_count": 6,
   "id": "eca49a4c",
   "metadata": {},
   "outputs": [
    {
     "name": "stdout",
     "output_type": "stream",
     "text": [
      "                               SARIMAX Results                                \n",
      "==============================================================================\n",
      "Dep. Variable:                      y   No. Observations:                 2820\n",
      "Model:               SARIMAX(4, 1, 2)   Log Likelihood              -11742.771\n",
      "Date:                Mon, 21 Mar 2022   AIC                          23499.543\n",
      "Time:                        18:42:12   BIC                          23541.152\n",
      "Sample:                             0   HQIC                         23514.557\n",
      "                               - 2820                                         \n",
      "Covariance Type:                  opg                                         \n",
      "==============================================================================\n",
      "                 coef    std err          z      P>|z|      [0.025      0.975]\n",
      "------------------------------------------------------------------------------\n",
      "ar.L1          1.3789      0.025     55.909      0.000       1.331       1.427\n",
      "ar.L2         -0.3889      0.027    -14.548      0.000      -0.441      -0.336\n",
      "ar.L3         -0.0053      0.025     -0.215      0.829      -0.054       0.043\n",
      "ar.L4         -0.0348      0.017     -2.020      0.043      -0.069      -0.001\n",
      "ma.L1         -1.8147      0.020    -92.848      0.000      -1.853      -1.776\n",
      "ma.L2          0.8531      0.020     43.012      0.000       0.814       0.892\n",
      "sigma2       242.9924      4.119     59.000      0.000     234.920     251.065\n",
      "===================================================================================\n",
      "Ljung-Box (L1) (Q):                   0.00   Jarque-Bera (JB):              1158.53\n",
      "Prob(Q):                              0.96   Prob(JB):                         0.00\n",
      "Heteroskedasticity (H):               1.36   Skew:                             0.29\n",
      "Prob(H) (two-sided):                  0.00   Kurtosis:                         6.09\n",
      "===================================================================================\n",
      "\n",
      "Warnings:\n",
      "[1] Covariance matrix calculated using the outer product of gradients (complex-step).\n"
     ]
    }
   ],
   "source": [
    "print(loaded_model.summary())"
   ]
  }
 ],
 "metadata": {
  "kernelspec": {
   "display_name": "Python 3.8.8 64-bit ('DL': conda)",
   "language": "python",
   "name": "python388jvsc74a57bd05f58e7dbcddfdb99f90b0447783d5390db8cd74aa541842f8b458cd6f0565a39"
  },
  "language_info": {
   "codemirror_mode": {
    "name": "ipython",
    "version": 3
   },
   "file_extension": ".py",
   "mimetype": "text/x-python",
   "name": "python",
   "nbconvert_exporter": "python",
   "pygments_lexer": "ipython3",
   "version": "3.8.8"
  }
 },
 "nbformat": 4,
 "nbformat_minor": 5
}
