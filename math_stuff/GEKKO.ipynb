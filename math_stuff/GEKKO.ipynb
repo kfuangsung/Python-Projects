{
 "cells": [
  {
   "cell_type": "code",
   "execution_count": 1,
   "id": "271e9462",
   "metadata": {},
   "outputs": [],
   "source": [
    "import numpy as np \n",
    "import matplotlib.pyplot as plt\n",
    "from gekko import GEKKO\n",
    "\n",
    "plt.style.use('bmh')"
   ]
  },
  {
   "cell_type": "markdown",
   "id": "eba64544",
   "metadata": {},
   "source": [
    "# Solver selection\n",
    "\n",
    "solve $y^2 = 1$ with APOPT solver."
   ]
  },
  {
   "cell_type": "code",
   "execution_count": 2,
   "id": "a9a68828",
   "metadata": {},
   "outputs": [],
   "source": [
    "m = GEKKO() # create model\n",
    "y = m.Var(value=2) # create variable y=2\n",
    "m.Equation(y**2 == 1) # define equation\n",
    "m.options.SOLVER = 1 # 1: APOPT, 2: BPOPT, 3: IPOPT default is 3."
   ]
  },
  {
   "cell_type": "code",
   "execution_count": 3,
   "id": "89e23975",
   "metadata": {},
   "outputs": [
    {
     "name": "stdout",
     "output_type": "stream",
     "text": [
      "apm 124.120.13.111_gk_model0 <br><pre> ----------------------------------------------------------------\n",
      " APMonitor, Version 1.0.1\n",
      " APMonitor Optimization Suite\n",
      " ----------------------------------------------------------------\n",
      " \n",
      " \n",
      " --------- APM Model Size ------------\n",
      " Each time step contains\n",
      "   Objects      :            0\n",
      "   Constants    :            0\n",
      "   Variables    :            1\n",
      "   Intermediates:            0\n",
      "   Connections  :            0\n",
      "   Equations    :            1\n",
      "   Residuals    :            1\n",
      " \n",
      " Number of state variables:              1\n",
      " Number of total equations: -            1\n",
      " Number of slack variables: -            0\n",
      " ---------------------------------------\n",
      " Degrees of freedom       :              0\n",
      " \n",
      " ----------------------------------------------\n",
      " Steady State Optimization with APOPT Solver\n",
      " ----------------------------------------------\n",
      " \n",
      " Iter    Objective  Convergence\n",
      "    0  5.62500E-21  3.75000E-01\n",
      "    1  5.06250E-22  1.40625E-01\n",
      "    2  6.09849E-24  1.26562E-02\n",
      "    3  9.29223E-28  1.52462E-04\n",
      "    4  9.29223E-28  1.52462E-04\n",
      " Successful solution\n",
      " \n",
      " ---------------------------------------------------\n",
      " Solver         :  APOPT (v1.0)\n",
      " Solution time  :   1.790000000619330E-002 sec\n",
      " Objective      :   0.000000000000000E+000\n",
      " Successful solution\n",
      " ---------------------------------------------------\n",
      " \n"
     ]
    }
   ],
   "source": [
    "m.solve()"
   ]
  },
  {
   "cell_type": "code",
   "execution_count": 4,
   "id": "1b87678f",
   "metadata": {},
   "outputs": [
    {
     "data": {
      "text/plain": [
       "[1.0000000465]"
      ]
     },
     "execution_count": 4,
     "metadata": {},
     "output_type": "execute_result"
    }
   ],
   "source": [
    "y.value"
   ]
  },
  {
   "cell_type": "markdown",
   "id": "58170cd4",
   "metadata": {},
   "source": [
    "# Solve linear equations\n",
    "\n",
    "$$3x + 2y = 1$$\n",
    "$$x + 2y = 0$$"
   ]
  },
  {
   "cell_type": "code",
   "execution_count": 5,
   "id": "f4b9ab40",
   "metadata": {},
   "outputs": [
    {
     "data": {
      "text/plain": [
       "[<gekko.gekko.EquationObj at 0x7fc9dc7fd580>,\n",
       " <gekko.gekko.EquationObj at 0x7fc9dc7fd640>]"
      ]
     },
     "execution_count": 5,
     "metadata": {},
     "output_type": "execute_result"
    }
   ],
   "source": [
    "m = GEKKO()\n",
    "x = m.Var()\n",
    "y = m.Var()\n",
    "m.Equations([3*x + 2*y == 1,\n",
    "             x + 2*y == 0])"
   ]
  },
  {
   "cell_type": "code",
   "execution_count": 6,
   "id": "51b3cc8c",
   "metadata": {},
   "outputs": [
    {
     "name": "stdout",
     "output_type": "stream",
     "text": [
      "apm 124.120.13.111_gk_model1 <br><pre> ----------------------------------------------------------------\n",
      " APMonitor, Version 1.0.1\n",
      " APMonitor Optimization Suite\n",
      " ----------------------------------------------------------------\n",
      " \n",
      " \n",
      " Warning: there is insufficient data in CSV file 124.120.13.111_gk_model1.csv\n",
      " \n",
      " --------- APM Model Size ------------\n",
      " Each time step contains\n",
      "   Objects      :            0\n",
      "   Constants    :            0\n",
      "   Variables    :            2\n",
      "   Intermediates:            0\n",
      "   Connections  :            0\n",
      "   Equations    :            2\n",
      "   Residuals    :            2\n",
      " \n",
      " Number of state variables:              2\n",
      " Number of total equations: -            2\n",
      " Number of slack variables: -            0\n",
      " ---------------------------------------\n",
      " Degrees of freedom       :              0\n",
      " \n",
      " **********************************************\n",
      " Steady State Optimization with Interior Point Solver\n",
      " **********************************************\n",
      "  \n",
      "  \n",
      " Info: Exact Hessian\n",
      "\n",
      "******************************************************************************\n",
      "This program contains Ipopt, a library for large-scale nonlinear optimization.\n",
      " Ipopt is released as open source code under the Eclipse Public License (EPL).\n",
      "         For more information visit http://projects.coin-or.org/Ipopt\n",
      "******************************************************************************\n",
      "\n",
      "This is Ipopt version 3.12.10, running with linear solver ma57.\n",
      "\n",
      "Number of nonzeros in equality constraint Jacobian...:        4\n",
      "Number of nonzeros in inequality constraint Jacobian.:        0\n",
      "Number of nonzeros in Lagrangian Hessian.............:        0\n",
      "\n",
      "Total number of variables............................:        2\n",
      "                     variables with only lower bounds:        0\n",
      "                variables with lower and upper bounds:        0\n",
      "                     variables with only upper bounds:        0\n",
      "Total number of equality constraints.................:        2\n",
      "Total number of inequality constraints...............:        0\n",
      "        inequality constraints with only lower bounds:        0\n",
      "   inequality constraints with lower and upper bounds:        0\n",
      "        inequality constraints with only upper bounds:        0\n",
      "\n",
      "iter    objective    inf_pr   inf_du lg(mu)  ||d||  lg(rg) alpha_du alpha_pr  ls\n",
      "   0  0.0000000e+00 1.00e+00 0.00e+00   0.0 0.00e+00    -  0.00e+00 0.00e+00   0\n",
      "   1  0.0000000e+00 0.00e+00 0.00e+00 -11.0 5.00e-01    -  1.00e+00 1.00e+00h  1\n",
      "\n",
      "Number of Iterations....: 1\n",
      "\n",
      "                                   (scaled)                 (unscaled)\n",
      "Objective...............:   0.0000000000000000e+00    0.0000000000000000e+00\n",
      "Dual infeasibility......:   0.0000000000000000e+00    0.0000000000000000e+00\n",
      "Constraint violation....:   0.0000000000000000e+00    0.0000000000000000e+00\n",
      "Complementarity.........:   0.0000000000000000e+00    0.0000000000000000e+00\n",
      "Overall NLP error.......:   0.0000000000000000e+00    0.0000000000000000e+00\n",
      "\n",
      "\n",
      "Number of objective function evaluations             = 2\n",
      "Number of objective gradient evaluations             = 2\n",
      "Number of equality constraint evaluations            = 2\n",
      "Number of inequality constraint evaluations          = 0\n",
      "Number of equality constraint Jacobian evaluations   = 2\n",
      "Number of inequality constraint Jacobian evaluations = 0\n",
      "Number of Lagrangian Hessian evaluations             = 1\n",
      "Total CPU secs in IPOPT (w/o function evaluations)   =      0.000\n",
      "Total CPU secs in NLP function evaluations           =      0.000\n",
      "\n",
      "EXIT: Optimal Solution Found.\n",
      " \n",
      " The solution was found.\n",
      " \n",
      " The final value of the objective function is   0.000000000000000E+000\n",
      " \n",
      " ---------------------------------------------------\n",
      " Solver         :  IPOPT (v3.12)\n",
      " Solution time  :   4.300000000512227E-003 sec\n",
      " Objective      :   0.000000000000000E+000\n",
      " Successful solution\n",
      " ---------------------------------------------------\n",
      " \n"
     ]
    }
   ],
   "source": [
    "m.solve()"
   ]
  },
  {
   "cell_type": "code",
   "execution_count": 7,
   "id": "e0603361",
   "metadata": {},
   "outputs": [
    {
     "name": "stdout",
     "output_type": "stream",
     "text": [
      "[0.5] [-0.25]\n"
     ]
    }
   ],
   "source": [
    "print(x.value, y.value)"
   ]
  },
  {
   "cell_type": "code",
   "execution_count": 8,
   "id": "4e507eb3",
   "metadata": {},
   "outputs": [
    {
     "data": {
      "text/plain": [
       "[<gekko.gekko.EquationObj at 0x7fc9dc8070d0>,\n",
       " <gekko.gekko.EquationObj at 0x7fc9dc8072e0>,\n",
       " <gekko.gekko.EquationObj at 0x7fc9dc807340>]"
      ]
     },
     "execution_count": 8,
     "metadata": {},
     "output_type": "execute_result"
    }
   ],
   "source": [
    "# we can use inequality as well\n",
    "m = GEKKO()\n",
    "x = m.Var()\n",
    "y = m.Var()\n",
    "z = m.Var()\n",
    "m.Obj(x**2) # objective for inequality case --> minimize x**2\n",
    "m.Equations([3*x + 2*y == 1,\n",
    "             x + 2*y < 0,\n",
    "             x + z == 0])"
   ]
  },
  {
   "cell_type": "code",
   "execution_count": 9,
   "id": "ab4c04ab",
   "metadata": {},
   "outputs": [
    {
     "name": "stdout",
     "output_type": "stream",
     "text": [
      "apm 124.120.13.111_gk_model2 <br><pre> ----------------------------------------------------------------\n",
      " APMonitor, Version 1.0.1\n",
      " APMonitor Optimization Suite\n",
      " ----------------------------------------------------------------\n",
      " \n",
      " \n",
      " Warning: there is insufficient data in CSV file 124.120.13.111_gk_model2.csv\n",
      " \n",
      " --------- APM Model Size ------------\n",
      " Each time step contains\n",
      "   Objects      :            0\n",
      "   Constants    :            0\n",
      "   Variables    :            4\n",
      "   Intermediates:            0\n",
      "   Connections  :            0\n",
      "   Equations    :            4\n",
      "   Residuals    :            4\n",
      " \n",
      " Number of state variables:              4\n",
      " Number of total equations: -            3\n",
      " Number of slack variables: -            1\n",
      " ---------------------------------------\n",
      " Degrees of freedom       :              0\n",
      " \n",
      " **********************************************\n",
      " Steady State Optimization with Interior Point Solver\n",
      " **********************************************\n",
      "  \n",
      "  \n",
      " Info: Exact Hessian\n",
      "\n",
      "******************************************************************************\n",
      "This program contains Ipopt, a library for large-scale nonlinear optimization.\n",
      " Ipopt is released as open source code under the Eclipse Public License (EPL).\n",
      "         For more information visit http://projects.coin-or.org/Ipopt\n",
      "******************************************************************************\n",
      "\n",
      "This is Ipopt version 3.12.10, running with linear solver ma57.\n",
      "\n",
      "Number of nonzeros in equality constraint Jacobian...:        7\n",
      "Number of nonzeros in inequality constraint Jacobian.:        0\n",
      "Number of nonzeros in Lagrangian Hessian.............:        1\n",
      "\n",
      "Total number of variables............................:        4\n",
      "                     variables with only lower bounds:        1\n",
      "                variables with lower and upper bounds:        0\n",
      "                     variables with only upper bounds:        0\n",
      "Total number of equality constraints.................:        3\n",
      "Total number of inequality constraints...............:        0\n",
      "        inequality constraints with only lower bounds:        0\n",
      "   inequality constraints with lower and upper bounds:        0\n",
      "        inequality constraints with only upper bounds:        0\n",
      "\n",
      "iter    objective    inf_pr   inf_du lg(mu)  ||d||  lg(rg) alpha_du alpha_pr  ls\n",
      "   0  0.0000000e+00 1.00e+00 4.85e-01   0.0 0.00e+00    -  0.00e+00 0.00e+00   0\n",
      "   1  2.5249375e-01 1.11e-16 1.00e-13  -8.0 5.02e-01    -  1.00e+00 1.00e+00h  1\n",
      "   2  2.5001225e-01 3.38e-17 2.50e-14  -8.6 4.95e-03    -  1.00e+00 1.00e+00f  1\n",
      "   3  2.5000000e-01 2.22e-16 1.11e-16 -10.9 2.45e-05    -  1.00e+00 1.00e+00f  1\n",
      "\n",
      "Number of Iterations....: 3\n",
      "\n",
      "                                   (scaled)                 (unscaled)\n",
      "Objective...............:   2.4999999531268643e-01    2.4999999531268643e-01\n",
      "Dual infeasibility......:   1.1102230246251565e-16    1.1102230246251565e-16\n",
      "Constraint violation....:   2.2204460492503131e-16    2.2204460492503131e-16\n",
      "Complementarity.........:   3.1268632572374426e-10    3.1268632572374426e-10\n",
      "Overall NLP error.......:   3.1268632572374426e-10    3.1268632572374426e-10\n",
      "\n",
      "\n",
      "Number of objective function evaluations             = 4\n",
      "Number of objective gradient evaluations             = 4\n",
      "Number of equality constraint evaluations            = 4\n",
      "Number of inequality constraint evaluations          = 0\n",
      "Number of equality constraint Jacobian evaluations   = 4\n",
      "Number of inequality constraint Jacobian evaluations = 0\n",
      "Number of Lagrangian Hessian evaluations             = 3\n",
      "Total CPU secs in IPOPT (w/o function evaluations)   =      0.003\n",
      "Total CPU secs in NLP function evaluations           =      0.000\n",
      "\n",
      "EXIT: Optimal Solution Found.\n",
      " \n",
      " The solution was found.\n",
      " \n",
      " The final value of the objective function is   0.249999995312686     \n",
      " \n",
      " ---------------------------------------------------\n",
      " Solver         :  IPOPT (v3.12)\n",
      " Solution time  :   6.499999988591298E-003 sec\n",
      " Objective      :   0.249999995312686     \n",
      " Successful solution\n",
      " ---------------------------------------------------\n",
      " \n"
     ]
    }
   ],
   "source": [
    "m.solve()"
   ]
  },
  {
   "cell_type": "code",
   "execution_count": 10,
   "id": "aff22530",
   "metadata": {},
   "outputs": [
    {
     "name": "stdout",
     "output_type": "stream",
     "text": [
      "[0.49999999531] [-0.24999999297] [-0.49999999531]\n"
     ]
    }
   ],
   "source": [
    "print(x.value, y.value, z.value)"
   ]
  },
  {
   "cell_type": "markdown",
   "id": "217a30b0",
   "metadata": {},
   "source": [
    "# Solve Non-linear equations\n",
    "\n",
    "$$x + 2y = 0$$\n",
    "$$x^2 + y^2 = 1$$"
   ]
  },
  {
   "cell_type": "code",
   "execution_count": 11,
   "id": "b473e775",
   "metadata": {},
   "outputs": [
    {
     "data": {
      "text/plain": [
       "[<gekko.gekko.EquationObj at 0x7fc9dc807f10>,\n",
       " <gekko.gekko.EquationObj at 0x7fc9dc807d60>]"
      ]
     },
     "execution_count": 11,
     "metadata": {},
     "output_type": "execute_result"
    }
   ],
   "source": [
    "m = GEKKO()\n",
    "x = m.Var(value=1)\n",
    "y = m.Var(value=1)\n",
    "m.Equations([x + 2*y == 0,\n",
    "             x**2 + y**2 == 1])"
   ]
  },
  {
   "cell_type": "code",
   "execution_count": 12,
   "id": "674708c4",
   "metadata": {
    "scrolled": true
   },
   "outputs": [
    {
     "name": "stdout",
     "output_type": "stream",
     "text": [
      "apm 124.120.13.111_gk_model3 <br><pre> ----------------------------------------------------------------\n",
      " APMonitor, Version 1.0.1\n",
      " APMonitor Optimization Suite\n",
      " ----------------------------------------------------------------\n",
      " \n",
      " \n",
      " --------- APM Model Size ------------\n",
      " Each time step contains\n",
      "   Objects      :            0\n",
      "   Constants    :            0\n",
      "   Variables    :            2\n",
      "   Intermediates:            0\n",
      "   Connections  :            0\n",
      "   Equations    :            2\n",
      "   Residuals    :            2\n",
      " \n",
      " Number of state variables:              2\n",
      " Number of total equations: -            2\n",
      " Number of slack variables: -            0\n",
      " ---------------------------------------\n",
      " Degrees of freedom       :              0\n",
      " \n",
      " **********************************************\n",
      " Steady State Optimization with Interior Point Solver\n",
      " **********************************************\n",
      "  \n",
      "  \n",
      " Info: Exact Hessian\n",
      "\n",
      "******************************************************************************\n",
      "This program contains Ipopt, a library for large-scale nonlinear optimization.\n",
      " Ipopt is released as open source code under the Eclipse Public License (EPL).\n",
      "         For more information visit http://projects.coin-or.org/Ipopt\n",
      "******************************************************************************\n",
      "\n",
      "This is Ipopt version 3.12.10, running with linear solver ma57.\n",
      "\n",
      "Number of nonzeros in equality constraint Jacobian...:        4\n",
      "Number of nonzeros in inequality constraint Jacobian.:        0\n",
      "Number of nonzeros in Lagrangian Hessian.............:        2\n",
      "\n",
      "Total number of variables............................:        2\n",
      "                     variables with only lower bounds:        0\n",
      "                variables with lower and upper bounds:        0\n",
      "                     variables with only upper bounds:        0\n",
      "Total number of equality constraints.................:        2\n",
      "Total number of inequality constraints...............:        0\n",
      "        inequality constraints with only lower bounds:        0\n",
      "   inequality constraints with lower and upper bounds:        0\n",
      "        inequality constraints with only upper bounds:        0\n",
      "\n",
      "iter    objective    inf_pr   inf_du lg(mu)  ||d||  lg(rg) alpha_du alpha_pr  ls\n",
      "   0  0.0000000e+00 3.00e+00 0.00e+00   0.0 0.00e+00    -  0.00e+00 0.00e+00   0\n",
      "   1  0.0000000e+00 2.25e+00 0.00e+00 -11.0 2.50e+00    -  1.00e+00 2.50e-01h  3\n",
      "   2  0.0000000e+00 1.09e+00 0.00e+00 -11.0 1.02e+00    -  1.00e+00 1.00e+00h  1\n",
      "   3  0.0000000e+00 1.41e-01 0.00e+00 -11.0 3.36e-01    -  1.00e+00 1.00e+00h  1\n",
      "   4  0.0000000e+00 4.37e-03 0.00e+00 -11.0 5.91e-02    -  1.00e+00 1.00e+00h  1\n",
      "   5  0.0000000e+00 4.75e-06 0.00e+00 -11.0 1.95e-03    -  1.00e+00 1.00e+00h  1\n",
      "   6  0.0000000e+00 5.65e-12 0.00e+00 -11.0 2.13e-06    -  1.00e+00 1.00e+00h  1\n",
      "\n",
      "Number of Iterations....: 6\n",
      "\n",
      "                                   (scaled)                 (unscaled)\n",
      "Objective...............:   0.0000000000000000e+00    0.0000000000000000e+00\n",
      "Dual infeasibility......:   0.0000000000000000e+00    0.0000000000000000e+00\n",
      "Constraint violation....:   5.6519233737617469e-12    5.6519233737617469e-12\n",
      "Complementarity.........:   0.0000000000000000e+00    0.0000000000000000e+00\n",
      "Overall NLP error.......:   5.6519233737617469e-12    5.6519233737617469e-12\n",
      "\n",
      "\n",
      "Number of objective function evaluations             = 10\n",
      "Number of objective gradient evaluations             = 7\n",
      "Number of equality constraint evaluations            = 10\n",
      "Number of inequality constraint evaluations          = 0\n",
      "Number of equality constraint Jacobian evaluations   = 7\n",
      "Number of inequality constraint Jacobian evaluations = 0\n",
      "Number of Lagrangian Hessian evaluations             = 6\n",
      "Total CPU secs in IPOPT (w/o function evaluations)   =      0.003\n",
      "Total CPU secs in NLP function evaluations           =      0.000\n",
      "\n",
      "EXIT: Optimal Solution Found.\n",
      " \n",
      " The solution was found.\n",
      " \n",
      " The final value of the objective function is   0.000000000000000E+000\n",
      " \n",
      " ---------------------------------------------------\n",
      " Solver         :  IPOPT (v3.12)\n",
      " Solution time  :   6.499999988591298E-003 sec\n",
      " Objective      :   0.000000000000000E+000\n",
      " Successful solution\n",
      " ---------------------------------------------------\n",
      " \n"
     ]
    }
   ],
   "source": [
    "m.solve()"
   ]
  },
  {
   "cell_type": "code",
   "execution_count": 13,
   "id": "ab4728a6",
   "metadata": {},
   "outputs": [
    {
     "name": "stdout",
     "output_type": "stream",
     "text": [
      "[0.894427191] [-0.4472135955]\n"
     ]
    }
   ],
   "source": [
    "print(x.value, y.value)"
   ]
  },
  {
   "cell_type": "code",
   "execution_count": 14,
   "id": "784f036d",
   "metadata": {},
   "outputs": [
    {
     "data": {
      "text/plain": [
       "[<gekko.gekko.EquationObj at 0x7fc9dc810430>,\n",
       " <gekko.gekko.EquationObj at 0x7fc9dc810460>]"
      ]
     },
     "execution_count": 14,
     "metadata": {},
     "output_type": "execute_result"
    }
   ],
   "source": [
    "m = GEKKO()\n",
    "x = m.Var()\n",
    "y = m.Var()\n",
    "m.Obj(x) # minimize x\n",
    "# m.Obj(-x) # maximize x\n",
    "m.Equations([x + 2*y == 0,\n",
    "             x**2 + y**2 < 1])"
   ]
  },
  {
   "cell_type": "code",
   "execution_count": 15,
   "id": "8078c435",
   "metadata": {
    "scrolled": true
   },
   "outputs": [
    {
     "name": "stdout",
     "output_type": "stream",
     "text": [
      "apm 124.120.13.111_gk_model4 <br><pre> ----------------------------------------------------------------\n",
      " APMonitor, Version 1.0.1\n",
      " APMonitor Optimization Suite\n",
      " ----------------------------------------------------------------\n",
      " \n",
      " \n",
      " Warning: there is insufficient data in CSV file 124.120.13.111_gk_model4.csv\n",
      " \n",
      " --------- APM Model Size ------------\n",
      " Each time step contains\n",
      "   Objects      :            0\n",
      "   Constants    :            0\n",
      "   Variables    :            3\n",
      "   Intermediates:            0\n",
      "   Connections  :            0\n",
      "   Equations    :            3\n",
      "   Residuals    :            3\n",
      " \n",
      " Number of state variables:              3\n",
      " Number of total equations: -            2\n",
      " Number of slack variables: -            1\n",
      " ---------------------------------------\n",
      " Degrees of freedom       :              0\n",
      " \n",
      " **********************************************\n",
      " Steady State Optimization with Interior Point Solver\n",
      " **********************************************\n",
      "  \n",
      "  \n",
      " Info: Exact Hessian\n",
      "\n",
      "******************************************************************************\n",
      "This program contains Ipopt, a library for large-scale nonlinear optimization.\n",
      " Ipopt is released as open source code under the Eclipse Public License (EPL).\n",
      "         For more information visit http://projects.coin-or.org/Ipopt\n",
      "******************************************************************************\n",
      "\n",
      "This is Ipopt version 3.12.10, running with linear solver ma57.\n",
      "\n",
      "Number of nonzeros in equality constraint Jacobian...:        5\n",
      "Number of nonzeros in inequality constraint Jacobian.:        0\n",
      "Number of nonzeros in Lagrangian Hessian.............:        2\n",
      "\n",
      "Total number of variables............................:        3\n",
      "                     variables with only lower bounds:        1\n",
      "                variables with lower and upper bounds:        0\n",
      "                     variables with only upper bounds:        0\n",
      "Total number of equality constraints.................:        2\n",
      "Total number of inequality constraints...............:        0\n",
      "        inequality constraints with only lower bounds:        0\n",
      "   inequality constraints with lower and upper bounds:        0\n",
      "        inequality constraints with only upper bounds:        0\n",
      "\n",
      "iter    objective    inf_pr   inf_du lg(mu)  ||d||  lg(rg) alpha_du alpha_pr  ls\n",
      "   0  0.0000000e+00 9.90e-01 8.00e-01   0.0 0.00e+00    -  0.00e+00 0.00e+00   0\n",
      "   1 -4.0000000e-01 2.00e-01 1.04e+00  -0.0 9.90e-01    -  7.60e-01 1.00e+00f  1\n",
      "   2 -9.3060010e-01 3.52e-01 7.31e-01  -8.0 7.31e-01   0.0 1.00e+00 1.00e+00f  1\n",
      "   3 -8.9542191e-01 4.92e-03 2.50e-02  -0.9 2.69e-01    -  1.00e+00 9.90e-01h  1\n",
      "   4 -8.9439949e-01 1.31e-06 2.75e-05  -8.9 2.63e-03    -  1.00e+00 1.00e+00h  1\n",
      "   5 -8.9442719e-01 9.59e-10 1.62e-09 -10.5 6.32e-05    -  1.00e+00 1.00e+00h  1\n",
      "\n",
      "Number of Iterations....: 5\n",
      "\n",
      "                                   (scaled)                 (unscaled)\n",
      "Objective...............:  -8.9442719402538251e-01   -8.9442719402538251e-01\n",
      "Dual infeasibility......:   1.6182299944489387e-09    1.6182299944489387e-09\n",
      "Constraint violation....:   9.5919633497640929e-10    9.5919633497640929e-10\n",
      "Complementarity.........:   1.8756349301224044e-09    1.8756349301224044e-09\n",
      "Overall NLP error.......:   1.8756349301224044e-09    1.8756349301224044e-09\n",
      "\n",
      "\n",
      "Number of objective function evaluations             = 6\n",
      "Number of objective gradient evaluations             = 6\n",
      "Number of equality constraint evaluations            = 6\n",
      "Number of inequality constraint evaluations          = 0\n",
      "Number of equality constraint Jacobian evaluations   = 6\n",
      "Number of inequality constraint Jacobian evaluations = 0\n",
      "Number of Lagrangian Hessian evaluations             = 5\n",
      "Total CPU secs in IPOPT (w/o function evaluations)   =      0.002\n",
      "Total CPU secs in NLP function evaluations           =      0.000\n",
      "\n",
      "EXIT: Optimal Solution Found.\n",
      " \n",
      " The solution was found.\n",
      " \n",
      " The final value of the objective function is  -0.894427194025383     \n",
      " \n",
      " ---------------------------------------------------\n",
      " Solver         :  IPOPT (v3.12)\n",
      " Solution time  :   8.299999986775219E-003 sec\n",
      " Objective      :  -0.894427194025383     \n",
      " Successful solution\n",
      " ---------------------------------------------------\n",
      " \n"
     ]
    }
   ],
   "source": [
    "m.solve()"
   ]
  },
  {
   "cell_type": "code",
   "execution_count": 16,
   "id": "637a8419",
   "metadata": {},
   "outputs": [
    {
     "name": "stdout",
     "output_type": "stream",
     "text": [
      "[-0.89442719403] [0.44721359701]\n"
     ]
    }
   ],
   "source": [
    "print(x.value, y.value)"
   ]
  },
  {
   "cell_type": "markdown",
   "id": "7cb5e1d4",
   "metadata": {},
   "source": [
    "# Interpolation with Cubic Spline"
   ]
  },
  {
   "cell_type": "code",
   "execution_count": 17,
   "id": "fd68e7e6",
   "metadata": {},
   "outputs": [],
   "source": [
    "xs = np.array([0,1,2,3,4,5])\n",
    "ys = np.array([0.1,0.2,0.3,0.5,1.0,0.9])"
   ]
  },
  {
   "cell_type": "code",
   "execution_count": 18,
   "id": "7d696fed",
   "metadata": {},
   "outputs": [
    {
     "data": {
      "image/png": "[encoded data removed]",
      "text/plain": [
       "<Figure size 720x360 with 1 Axes>"
      ]
     },
     "metadata": {
      "needs_background": "light"
     },
     "output_type": "display_data"
    }
   ],
   "source": [
    "plt.figure(figsize=(10, 5))\n",
    "plt.plot(xs, ys, marker='o', linestyle='')\n",
    "plt.tight_layout()\n",
    "plt.show()"
   ]
  },
  {
   "cell_type": "code",
   "execution_count": 19,
   "id": "5abc6c84",
   "metadata": {},
   "outputs": [
    {
     "name": "stdout",
     "output_type": "stream",
     "text": [
      " ----------------------------------------------------------------\n",
      " APMonitor, Version 1.0.1\n",
      " APMonitor Optimization Suite\n",
      " ----------------------------------------------------------------\n",
      " \n",
      " \n",
      " --------- APM Model Size ------------\n",
      " Each time step contains\n",
      "   Objects      :            1\n",
      "   Constants    :            0\n",
      "   Variables    :            2\n",
      "   Intermediates:            0\n",
      "   Connections  :            2\n",
      "   Equations    :            0\n",
      "   Residuals    :            0\n",
      " \n",
      " Number of state variables:            100\n",
      " Number of total equations: -          100\n",
      " Number of slack variables: -            0\n",
      " ---------------------------------------\n",
      " Degrees of freedom       :              0\n",
      " \n",
      " solver            3  not supported\n",
      " using default solver: APOPT\n",
      " ----------------------------------------------\n",
      " Model Parameter Estimation with APOPT Solver\n",
      " ----------------------------------------------\n",
      " \n",
      " Iter    Objective  Convergence\n",
      "    0  2.16125E-35  1.03449E+00\n",
      "    1  2.16125E-35  1.03449E+00\n",
      " Successful solution\n",
      " \n",
      " ---------------------------------------------------\n",
      " Solver         :  IPOPT (v3.12)\n",
      " Solution time  :   2.299999998649582E-002 sec\n",
      " Objective      :   0.000000000000000E+000\n",
      " Successful solution\n",
      " ---------------------------------------------------\n",
      " \n",
      "\n"
     ]
    }
   ],
   "source": [
    "# Interpolation\n",
    "\n",
    "m = GEKKO(remote=False) # solve locally is faster\n",
    "m.x = m.Param(value=np.linspace(0, 5, 100))\n",
    "m.y = m.Var()\n",
    "m.options.IMODE = 2\n",
    "m.cspline(m.x, m.y, xs, ys)\n",
    "m.solve()"
   ]
  },
  {
   "cell_type": "code",
   "execution_count": 20,
   "id": "19a95ae5",
   "metadata": {},
   "outputs": [
    {
     "data": {
      "image/png": "[encoded data removed]",
      "text/plain": [
       "<Figure size 720x360 with 1 Axes>"
      ]
     },
     "metadata": {
      "needs_background": "light"
     },
     "output_type": "display_data"
    }
   ],
   "source": [
    "fig, ax = plt.subplots(figsize=(10,5))\n",
    "ax.plot(xs ,ys, linestyle='', marker='o', markersize=10, label='Actual')\n",
    "ax.plot(m.x, m.y, linestyle='--', label='Cubic Spline')\n",
    "ax.legend()\n",
    "plt.tight_layout()\n",
    "plt.show()"
   ]
  },
  {
   "cell_type": "code",
   "execution_count": 21,
   "id": "7bf64e9d",
   "metadata": {
    "scrolled": true
   },
   "outputs": [
    {
     "name": "stdout",
     "output_type": "stream",
     "text": [
      " ----------------------------------------------------------------\n",
      " APMonitor, Version 1.0.1\n",
      " APMonitor Optimization Suite\n",
      " ----------------------------------------------------------------\n",
      " \n",
      " \n",
      " --------- APM Model Size ------------\n",
      " Each time step contains\n",
      "   Objects      :            1\n",
      "   Constants    :            0\n",
      "   Variables    :            2\n",
      "   Intermediates:            0\n",
      "   Connections  :            2\n",
      "   Equations    :            1\n",
      "   Residuals    :            1\n",
      " \n",
      " Number of state variables:              2\n",
      " Number of total equations: -            1\n",
      " Number of slack variables: -            0\n",
      " ---------------------------------------\n",
      " Degrees of freedom       :              1\n",
      " \n",
      " solver            3  not supported\n",
      " using default solver: APOPT\n",
      " ----------------------------------------------\n",
      " Steady State Optimization with APOPT Solver\n",
      " ----------------------------------------------\n",
      " \n",
      " Iter    Objective  Convergence\n",
      "    0 -1.08659E-01  1.00000E-01\n",
      "    1 -5.92987E-01  9.73350E-07\n",
      "    2 -1.91896E+00  3.07013E-01\n",
      "    3 -2.93289E-01  1.68110E+00\n",
      "    4  1.65714E+00  4.67729E-03\n",
      "    5  6.75892E+00  2.38981E-01\n",
      "    6  3.22453E+00  1.86500E-01\n",
      "    7 -3.85555E-01  4.67729E-03\n",
      "    8 -1.05375E+00  2.93367E-02\n",
      "    9 -1.21091E+00  1.53745E-01\n",
      " \n",
      " Iter    Objective  Convergence\n",
      "   10 -2.33135E-01  2.45319E-01\n",
      "   11 -9.89419E-01  1.82485E-01\n",
      "   12 -1.02797E+00  1.02905E-02\n",
      "   13 -1.03433E+00  1.52412E-03\n",
      "   14 -1.03455E+00  5.20282E-05\n",
      "   15 -1.03455E+00  6.73997E-08\n",
      "   16 -1.03455E+00  3.99879E-12\n",
      "   17 -1.03455E+00  3.99879E-12\n",
      " Successful solution\n",
      " \n",
      " ---------------------------------------------------\n",
      " Solver         :  IPOPT (v3.12)\n",
      " Solution time  :   2.079999999841675E-002 sec\n",
      " Objective      :   -1.03454810219232     \n",
      " Successful solution\n",
      " ---------------------------------------------------\n",
      " \n",
      "\n"
     ]
    }
   ],
   "source": [
    "# find maximum point\n",
    "\n",
    "p = GEKKO(remote=False)\n",
    "p.x = p.Var(lb=0, ub=5) # set lower/upper bound\n",
    "p.y = p.Var()\n",
    "p.Obj(-p.y) # maxmimize y\n",
    "p.cspline(p.x, p.y, xs, ys)\n",
    "p.solve()"
   ]
  },
  {
   "cell_type": "code",
   "execution_count": 22,
   "id": "24713260",
   "metadata": {},
   "outputs": [
    {
     "data": {
      "image/png": "[encoded data removed]",
      "text/plain": [
       "<Figure size 720x360 with 1 Axes>"
      ]
     },
     "metadata": {
      "needs_background": "light"
     },
     "output_type": "display_data"
    }
   ],
   "source": [
    "fig, ax = plt.subplots(figsize=(10,5))\n",
    "ax.plot(xs ,ys, linestyle='', marker='o', markersize=10, label='Actual')\n",
    "ax.plot(m.x, m.y, linestyle='--', label='Cubic Spline')\n",
    "ax.plot(p.x, p.y, linestyle='', marker='X', label='Maximum', markersize=20)\n",
    "ax.legend()\n",
    "plt.tight_layout()\n",
    "plt.show()"
   ]
  },
  {
   "cell_type": "markdown",
   "id": "3f76aba0",
   "metadata": {},
   "source": [
    "# Linear and Polynomial Regression"
   ]
  },
  {
   "cell_type": "code",
   "execution_count": 23,
   "id": "b9660bd3",
   "metadata": {},
   "outputs": [
    {
     "data": {
      "image/png": "[encoded data removed]",
      "text/plain": [
       "<Figure size 432x288 with 1 Axes>"
      ]
     },
     "metadata": {
      "needs_background": "light"
     },
     "output_type": "display_data"
    }
   ],
   "source": [
    "xs = np.array([0,1,2,3,4,5])\n",
    "ys = np.array([0.1,0.2,0.3,0.5,0.8,2.0])\n",
    "\n",
    "plt.scatter(xs, ys)\n",
    "plt.tight_layout()\n",
    "plt.show()"
   ]
  },
  {
   "cell_type": "code",
   "execution_count": 24,
   "id": "07e306c9",
   "metadata": {},
   "outputs": [
    {
     "data": {
      "text/plain": [
       "<gekko.gekko.EquationObj at 0x7fc9dc7dc4c0>"
      ]
     },
     "execution_count": 24,
     "metadata": {},
     "output_type": "execute_result"
    }
   ],
   "source": [
    "m = GEKKO(remote=False)\n",
    "m.options.IMODE = 2\n",
    "c = [m.FV(value=0) for i in range(4)] # Fixed variables --> 4 coefficients for cubic\n",
    "x = m.Param(value=xs) \n",
    "y = m.CV(value=ys) # Fixed variables\n",
    "y.FSTATUS = 1 # feedback status\n",
    "m.Equation(y == c[0] + c[1]*x + c[2]*x**2 + c[3]*x**3)"
   ]
  },
  {
   "cell_type": "code",
   "execution_count": 25,
   "id": "1b6e1f0e",
   "metadata": {},
   "outputs": [],
   "source": [
    "# Linear regression\n",
    "# set only the first two coefficents to active\n",
    "c[0].STATUS = 1\n",
    "c[1].STATUS = 1\n",
    "m.solve(disp=False)\n",
    "p1 = [c[1].value[0],c[0].value[0]]\n",
    "\n",
    "# Quadratic\n",
    "c[2].STATUS = 1 \n",
    "m.solve(disp=False)\n",
    "p2 = [c[2].value[0],c[1].value[0],c[0].value[0]]\n",
    "\n",
    "# Cubic\n",
    "c[3].STATUS = 1  \n",
    "m.solve(disp=False)\n",
    "p3 = [c[3].value[0],c[2].value[0],c[1].value[0],c[0].value[0]]"
   ]
  },
  {
   "cell_type": "code",
   "execution_count": 26,
   "id": "789699c0",
   "metadata": {},
   "outputs": [
    {
     "name": "stdout",
     "output_type": "stream",
     "text": [
      "[0.2, -2.602085214e-18]\n",
      "[0.11036094675, -0.17200473373, 0.1005]\n",
      "[0.03, -0.11666666667, 0.21333333333, 0.0995]\n"
     ]
    },
    {
     "data": {
      "image/png": "[encoded data removed]",
      "text/plain": [
       "<Figure size 720x360 with 1 Axes>"
      ]
     },
     "metadata": {
      "needs_background": "light"
     },
     "output_type": "display_data"
    }
   ],
   "source": [
    "fig, ax = plt.subplots(figsize=(10,5))\n",
    "\n",
    "ax.plot(xs, ys, linestyle='', marker='o', markersize=10, label='Actual')\n",
    "\n",
    "names = ['Linear', 'Quadratic', 'Cubic']\n",
    "styles = ['-', '--', ':']\n",
    "ps = [p1, p2, p3]\n",
    "x_vals = np.linspace(0, 5, 100)\n",
    "for i in range(len(names)):\n",
    "    print(ps[i])\n",
    "    ax.plot(x_vals, np.polyval(ps[i], x_vals), linestyle=styles[i], label=names[i])\n",
    "\n",
    "ax.legend()\n",
    "plt.tight_layout()\n",
    "plt.show()"
   ]
  },
  {
   "cell_type": "markdown",
   "id": "30b8f842",
   "metadata": {},
   "source": [
    "# Nonlinear Regression"
   ]
  },
  {
   "cell_type": "code",
   "execution_count": 27,
   "id": "45170379",
   "metadata": {},
   "outputs": [
    {
     "data": {
      "image/png": "[encoded data removed]",
      "text/plain": [
       "<Figure size 432x288 with 1 Axes>"
      ]
     },
     "metadata": {
      "needs_background": "light"
     },
     "output_type": "display_data"
    }
   ],
   "source": [
    "xs = np.array([0,1,2,3,4,5])\n",
    "ys = np.array([0.1,0.2,0.3,0.5,0.8,2.0])\n",
    "\n",
    "plt.scatter(xs, ys)\n",
    "plt.tight_layout()\n",
    "plt.show()"
   ]
  },
  {
   "cell_type": "code",
   "execution_count": 28,
   "id": "3a6bf648",
   "metadata": {},
   "outputs": [],
   "source": [
    "m = GEKKO(remote=False)\n",
    "\n",
    "x = m.Param(value=xs)\n",
    "a = m.FV()\n",
    "a.STATUS = 1\n",
    "\n",
    "y = m.CV(value=ys)\n",
    "y.FSTATUS = 1\n",
    "\n",
    "m.Equation(y == 0.1 * m.exp(a*x))\n",
    "m.options.IMODE = 2\n",
    "m.options.EV_TYPE = 2"
   ]
  },
  {
   "cell_type": "code",
   "execution_count": 29,
   "id": "92e54bf9",
   "metadata": {},
   "outputs": [
    {
     "name": "stdout",
     "output_type": "stream",
     "text": [
      " ----------------------------------------------------------------\n",
      " APMonitor, Version 1.0.1\n",
      " APMonitor Optimization Suite\n",
      " ----------------------------------------------------------------\n",
      " \n",
      " \n",
      " --------- APM Model Size ------------\n",
      " Each time step contains\n",
      "   Objects      :            0\n",
      "   Constants    :            0\n",
      "   Variables    :            3\n",
      "   Intermediates:            0\n",
      "   Connections  :            0\n",
      "   Equations    :            1\n",
      "   Residuals    :            1\n",
      " \n",
      " Number of state variables:              7\n",
      " Number of total equations: -            6\n",
      " Number of slack variables: -            0\n",
      " ---------------------------------------\n",
      " Degrees of freedom       :              1\n",
      " \n",
      " solver            3  not supported\n",
      " using default solver: APOPT\n",
      " ----------------------------------------------\n",
      " Model Parameter Estimation with APOPT Solver\n",
      " ----------------------------------------------\n",
      " \n",
      " Iter    Objective  Convergence\n",
      "    0  6.99316E+01  9.50000E-01\n",
      "    1  3.36638E+01  2.03003E-01\n",
      "    2  2.48568E+00  1.73818E-02\n",
      "    3  1.99812E+00  6.77716E-02\n",
      "    4  1.81091E+00  1.06414E-02\n",
      "    5  1.80908E+00  4.93154E-05\n",
      "    6  1.80906E+00  1.43168E-06\n",
      "    7  1.80906E+00  9.44964E-10\n",
      "    8  1.80906E+00  1.11022E-16\n",
      "    9  1.80906E+00  1.11022E-16\n",
      " Successful solution\n",
      " \n",
      " ---------------------------------------------------\n",
      " Solver         :  IPOPT (v3.12)\n",
      " Solution time  :   2.059999998891726E-002 sec\n",
      " Objective      :    1.80906313368288     \n",
      " Successful solution\n",
      " ---------------------------------------------------\n",
      " \n",
      "\n"
     ]
    }
   ],
   "source": [
    "m.solve()"
   ]
  },
  {
   "cell_type": "code",
   "execution_count": 30,
   "id": "f1c9bd66",
   "metadata": {},
   "outputs": [
    {
     "data": {
      "text/plain": [
       "[0.58628748154, 0.58628748154, 0.58628748154, 0.58628748154, 0.58628748154, 0.58628748154]"
      ]
     },
     "execution_count": 30,
     "metadata": {},
     "output_type": "execute_result"
    }
   ],
   "source": [
    "a.value"
   ]
  },
  {
   "cell_type": "code",
   "execution_count": 31,
   "id": "1a116d24",
   "metadata": {},
   "outputs": [
    {
     "data": {
      "text/plain": [
       "[0.1, 0.17973034917, 0.32302998414, 0.58058291843, 1.0434837065, 1.8754569093]"
      ]
     },
     "execution_count": 31,
     "metadata": {},
     "output_type": "execute_result"
    }
   ],
   "source": [
    "y.value"
   ]
  },
  {
   "cell_type": "code",
   "execution_count": 32,
   "id": "d5b2cb90",
   "metadata": {},
   "outputs": [
    {
     "data": {
      "image/png": "[encoded data removed]",
      "text/plain": [
       "<Figure size 720x360 with 1 Axes>"
      ]
     },
     "metadata": {
      "needs_background": "light"
     },
     "output_type": "display_data"
    }
   ],
   "source": [
    "fig, ax = plt.subplots(figsize=(10,5))\n",
    "\n",
    "ax.plot(xs, ys, linestyle='', marker='o', label='Actual')\n",
    "ax.plot(x, y, label='Regression')\n",
    "ax.legend()\n",
    "\n",
    "plt.tight_layout()\n",
    "plt.show()"
   ]
  },
  {
   "cell_type": "markdown",
   "id": "0070c2a4",
   "metadata": {},
   "source": [
    "# Solve Differential Equations"
   ]
  },
  {
   "cell_type": "markdown",
   "id": "85bb53fa",
   "metadata": {},
   "source": [
    "$$ k \\frac{dy}{dt} = -ty $$\n",
    "$$ y(0) = 5 $$\n",
    "where $k=10$ solve for time 0 to 20"
   ]
  },
  {
   "cell_type": "code",
   "execution_count": 33,
   "id": "ca086fc1",
   "metadata": {},
   "outputs": [],
   "source": [
    "m = GEKKO(remote=False)\n",
    "k = 10\n",
    "m.time = np.linspace(0, 20, 100)\n",
    "\n",
    "y = m.Var(value=5)\n",
    "t = m.Param(value=m.time)\n",
    "m.Equation(k * y.dt() == -t * y)\n",
    "m.options.IMODE = 4"
   ]
  },
  {
   "cell_type": "code",
   "execution_count": 34,
   "id": "3c32bcb7",
   "metadata": {},
   "outputs": [
    {
     "name": "stdout",
     "output_type": "stream",
     "text": [
      " ----------------------------------------------------------------\n",
      " APMonitor, Version 1.0.1\n",
      " APMonitor Optimization Suite\n",
      " ----------------------------------------------------------------\n",
      " \n",
      " \n",
      " --------- APM Model Size ------------\n",
      " Each time step contains\n",
      "   Objects      :            0\n",
      "   Constants    :            0\n",
      "   Variables    :            2\n",
      "   Intermediates:            0\n",
      "   Connections  :            0\n",
      "   Equations    :            1\n",
      "   Residuals    :            1\n",
      " \n",
      " Number of state variables:            198\n",
      " Number of total equations: -          198\n",
      " Number of slack variables: -            0\n",
      " ---------------------------------------\n",
      " Degrees of freedom       :              0\n",
      " \n",
      " solver            3  not supported\n",
      " using default solver: APOPT\n",
      " ----------------------------------------------\n",
      " Dynamic Simulation with APOPT Solver\n",
      " ----------------------------------------------\n",
      " \n",
      " Iter    Objective  Convergence\n",
      "    0  3.27323E-33  1.40467E+00\n",
      "    1  3.27323E-33  1.40467E+00\n",
      " Successful solution\n",
      " \n",
      " ---------------------------------------------------\n",
      " Solver         :  IPOPT (v3.12)\n",
      " Solution time  :   2.159999997820705E-002 sec\n",
      " Objective      :   0.000000000000000E+000\n",
      " Successful solution\n",
      " ---------------------------------------------------\n",
      " \n",
      "\n"
     ]
    }
   ],
   "source": [
    "m.solve()"
   ]
  },
  {
   "cell_type": "code",
   "execution_count": 35,
   "id": "412f587b",
   "metadata": {},
   "outputs": [
    {
     "data": {
      "image/png": "[encoded data removed]",
      "text/plain": [
       "<Figure size 432x288 with 1 Axes>"
      ]
     },
     "metadata": {
      "needs_background": "light"
     },
     "output_type": "display_data"
    }
   ],
   "source": [
    "plt.plot(m.time, y.value)\n",
    "plt.tight_layout()\n",
    "plt.show()"
   ]
  },
  {
   "cell_type": "markdown",
   "id": "cc80291c",
   "metadata": {},
   "source": [
    "# Nonlinear Programming Optimization"
   ]
  },
  {
   "cell_type": "markdown",
   "id": "2ea3dbb7",
   "metadata": {},
   "source": [
    "$$  min \\quad x_1x_4(x_1+x_2+x_3)+x_3 $$\n",
    "$$ subject \\; to \\quad x_1 x_2 x_3 x_4 \\geq 25 $$\n",
    "$$ x_1^2 + x_2^2 + x_3^2 + x_4^2 = 40 $$\n",
    "$$ 1 \\leq x_1, x_2, x_3, x_4 \\leq 5 $$\n",
    "$$ x_0 = (1,5,5,1) $$"
   ]
  },
  {
   "cell_type": "code",
   "execution_count": 36,
   "id": "a6fd9b8d",
   "metadata": {},
   "outputs": [],
   "source": [
    "m = GEKKO(remote=False)\n",
    "\n",
    "x1 = m.Var(value=1, lb=1, ub=5)\n",
    "x2 = m.Var(value=5, lb=1, ub=5)\n",
    "x3 = m.Var(value=5, lb=1, ub=5)\n",
    "x4 = m.Var(value=1, lb=1, ub=5)\n",
    "\n",
    "m.Equation(x1*x2*x3*x4 >= 25)\n",
    "m.Equation(x1**2 + x2**2 + x3**2 + x4**2 == 40)\n",
    "m.Obj(x1*x4*(x1+x2+x3)+x3)"
   ]
  },
  {
   "cell_type": "code",
   "execution_count": 37,
   "id": "801c2911",
   "metadata": {},
   "outputs": [
    {
     "name": "stdout",
     "output_type": "stream",
     "text": [
      " ----------------------------------------------------------------\n",
      " APMonitor, Version 1.0.1\n",
      " APMonitor Optimization Suite\n",
      " ----------------------------------------------------------------\n",
      " \n",
      " \n",
      " --------- APM Model Size ------------\n",
      " Each time step contains\n",
      "   Objects      :            0\n",
      "   Constants    :            0\n",
      "   Variables    :            5\n",
      "   Intermediates:            0\n",
      "   Connections  :            0\n",
      "   Equations    :            3\n",
      "   Residuals    :            3\n",
      " \n",
      " Number of state variables:              5\n",
      " Number of total equations: -            2\n",
      " Number of slack variables: -            1\n",
      " ---------------------------------------\n",
      " Degrees of freedom       :              2\n",
      " \n",
      " solver            3  not supported\n",
      " using default solver: APOPT\n",
      " ----------------------------------------------\n",
      " Steady State Optimization with APOPT Solver\n",
      " ----------------------------------------------\n",
      " \n",
      " Iter    Objective  Convergence\n",
      "    0  1.67676E+01  1.87500E-01\n",
      "    1  2.04736E+01  4.88281E-02\n",
      "    2  1.75530E+01  2.17630E-02\n",
      "    3  1.70459E+01  9.65302E-03\n",
      "    4  1.70140E+01  2.04419E-04\n",
      "    5  1.70140E+01  4.22153E-08\n",
      "    6  1.70140E+01  6.48259E-13\n",
      "    7  1.70140E+01  6.48259E-13\n",
      " Successful solution\n",
      " \n",
      " ---------------------------------------------------\n",
      " Solver         :  IPOPT (v3.12)\n",
      " Solution time  :   2.260000002570450E-002 sec\n",
      " Objective      :    17.0140172891559     \n",
      " Successful solution\n",
      " ---------------------------------------------------\n",
      " \n",
      "\n"
     ]
    }
   ],
   "source": [
    "m.solve()"
   ]
  },
  {
   "cell_type": "code",
   "execution_count": 38,
   "id": "b80e76d1",
   "metadata": {},
   "outputs": [
    {
     "name": "stdout",
     "output_type": "stream",
     "text": [
      "[1.0] [4.742999637] [3.8211499845] [1.3794082931]\n"
     ]
    }
   ],
   "source": [
    "print(x1.value, x2.value, x3.value, x4.value)"
   ]
  },
  {
   "cell_type": "markdown",
   "id": "1577c35c",
   "metadata": {},
   "source": [
    "# Mixed Integer Nonlinear Programming"
   ]
  },
  {
   "cell_type": "markdown",
   "id": "78aa803f",
   "metadata": {},
   "source": [
    "$$  min \\quad x_1x_4(x_1+x_2+x_3)+x_3 $$\n",
    "$$ subject \\; to \\quad x_1 x_2 x_3 x_4 \\geq 25 $$\n",
    "$$ x_1^2 + x_2^2 + x_3^2 + x_4^2 = 40 $$\n",
    "$$ 1 \\leq x_1, x_2, x_3, x_4 \\leq 5 $$\n",
    "$$ x_3, x_4 \\in \\mathbb{Z} $$\n",
    "$$ x_0 = (1,5,5,1) $$"
   ]
  },
  {
   "cell_type": "code",
   "execution_count": 39,
   "id": "cbc42a84",
   "metadata": {},
   "outputs": [],
   "source": [
    "m = GEKKO(remote=False)\n",
    "m.options.SOLVER = 1 # APOPT is also the only solver that handles Mixed Integer problems.\n",
    "\n",
    "x1 = m.Var(value=1, lb=1, ub=5)\n",
    "x2 = m.Var(value=5, lb=1, ub=5)\n",
    "x3 = m.Var(value=5, lb=1, ub=5, integer=True) # constraint to Integer\n",
    "x4 = m.Var(value=1, lb=1, ub=5, integer=True)\n",
    "\n",
    "m.Equation(x1*x2*x3*x4 >= 25)\n",
    "m.Equation(x1**2 + x2**2 + x3**2 + x4**2 == 40)\n",
    "m.Obj(x1*x4*(x1+x2+x3)+x3)"
   ]
  },
  {
   "cell_type": "code",
   "execution_count": 40,
   "id": "2c8a618f",
   "metadata": {},
   "outputs": [
    {
     "name": "stdout",
     "output_type": "stream",
     "text": [
      " ----------------------------------------------------------------\n",
      " APMonitor, Version 1.0.1\n",
      " APMonitor Optimization Suite\n",
      " ----------------------------------------------------------------\n",
      " \n",
      " \n",
      " --------- APM Model Size ------------\n",
      " Each time step contains\n",
      "   Objects      :            0\n",
      "   Constants    :            0\n",
      "   Variables    :            5\n",
      "   Intermediates:            0\n",
      "   Connections  :            0\n",
      "   Equations    :            3\n",
      "   Residuals    :            3\n",
      " \n",
      " Number of state variables:              5\n",
      " Number of total equations: -            2\n",
      " Number of slack variables: -            1\n",
      " ---------------------------------------\n",
      " Degrees of freedom       :              2\n",
      " \n",
      " ----------------------------------------------\n",
      " Steady State Optimization with APOPT Solver\n",
      " ----------------------------------------------\n",
      "Iter:     1 I:  0 Tm:      0.00 NLPi:    7 Dpth:    0 Lvs:    3 Obj:  1.70E+01 Gap:       NaN\n",
      "--Integer Solution:   1.75E+01 Lowest Leaf:   1.70E+01 Gap:   3.00E-02\n",
      "Iter:     2 I:  0 Tm:      0.00 NLPi:    5 Dpth:    1 Lvs:    2 Obj:  1.75E+01 Gap:  3.00E-02\n",
      "Iter:     3 I:  0 Tm:      0.00 NLPi:    5 Dpth:    1 Lvs:    1 Obj:  2.15E+01 Gap:  3.00E-02\n",
      "Iter:     4 I:  0 Tm:      0.00 NLPi:    6 Dpth:    1 Lvs:    1 Obj:  1.75E+01 Gap:  3.00E-02\n",
      "--Integer Solution:   1.75E+01 Lowest Leaf:   2.59E+01 Gap:  -3.85E-01\n",
      "Iter:     5 I:  0 Tm:      0.00 NLPi:    6 Dpth:    2 Lvs:    1 Obj:  2.59E+01 Gap: -3.85E-01\n",
      " Successful solution\n",
      " \n",
      " ---------------------------------------------------\n",
      " Solver         :  APOPT (v1.0)\n",
      " Solution time  :   2.209999997285195E-002 sec\n",
      " Objective      :    17.5322673012512     \n",
      " Successful solution\n",
      " ---------------------------------------------------\n",
      " \n",
      "\n"
     ]
    }
   ],
   "source": [
    "m.solve()"
   ]
  },
  {
   "cell_type": "code",
   "execution_count": 41,
   "id": "f47b6af5",
   "metadata": {},
   "outputs": [
    {
     "name": "stdout",
     "output_type": "stream",
     "text": [
      "X1: 1.3589086474\n",
      "X2: 4.5992789966\n",
      "X3: 4.0\n",
      "X4: 1.0\n",
      "Objective function value: 17.532267301\n"
     ]
    }
   ],
   "source": [
    "print(f\"X1: {x1.value[0]}\\nX2: {x2.value[0]}\\nX3: {x3.value[0]}\\nX4: {x4.value[0]}\")\n",
    "print(f\"Objective function value: {m.options.OBJFCNVAL}\")"
   ]
  },
  {
   "cell_type": "markdown",
   "id": "10d61ecc",
   "metadata": {},
   "source": [
    "# Optimal control with integral objective"
   ]
  },
  {
   "cell_type": "markdown",
   "id": "2b9e9c7e",
   "metadata": {},
   "source": [
    "$$min_u x_2(t_f)$$ <br>\n",
    "subject to <br>\n",
    "$$\\frac{dx_1}{dt} = u$$ <br>\n",
    "$$\\frac{dx_2}{dt} = \\frac{1}{2}x_1^2(t)$$\n",
    "$$x_1(0)=1$$\n",
    "$$x_2(0)=0$$\n",
    "$$t_f=2$$\n",
    "$$-1 \\leq u_t \\leq 1$$"
   ]
  },
  {
   "cell_type": "code",
   "execution_count": 42,
   "id": "c0c86534",
   "metadata": {},
   "outputs": [],
   "source": [
    "m = GEKKO(remote=False)\n",
    "m.time = np.linspace(0, 2, 100)\n",
    "\n",
    "x1 = m.Var(value=1)\n",
    "x2 = m.Var(value=0)\n",
    "u = m.Var(value=0, lb=-1, ub=1)\n",
    "p = np.zeros(100)\n",
    "p[-1] = 1\n",
    "final = m.Param(value=p)\n",
    "\n",
    "m.Equation(x1.dt() == u)\n",
    "m.Equation(x2.dt() == 0.5*x1**2)\n",
    "m.Obj(x2*final) # Objective function\n",
    "m.options.IMODE = 6 # optimal control mode"
   ]
  },
  {
   "cell_type": "code",
   "execution_count": 43,
   "id": "09650bd6",
   "metadata": {},
   "outputs": [
    {
     "name": "stdout",
     "output_type": "stream",
     "text": [
      " ----------------------------------------------------------------\n",
      " APMonitor, Version 1.0.1\n",
      " APMonitor Optimization Suite\n",
      " ----------------------------------------------------------------\n",
      " \n",
      " \n",
      " --------- APM Model Size ------------\n",
      " Each time step contains\n",
      "   Objects      :            0\n",
      "   Constants    :            0\n",
      "   Variables    :            4\n",
      "   Intermediates:            0\n",
      "   Connections  :            0\n",
      "   Equations    :            3\n",
      "   Residuals    :            3\n",
      " \n",
      " Number of state variables:            495\n",
      " Number of total equations: -          396\n",
      " Number of slack variables: -            0\n",
      " ---------------------------------------\n",
      " Degrees of freedom       :             99\n",
      " \n",
      " solver            3  not supported\n",
      " using default solver: APOPT\n",
      " ----------------------------------------------\n",
      " Dynamic Control with APOPT Solver\n",
      " ----------------------------------------------\n",
      " \n",
      " Iter    Objective  Convergence\n",
      "    0  1.06561E+01  5.00000E-01\n",
      "    1  5.72876E-01  4.25033E-02\n",
      "    2 -1.47219E-01  1.77982E-03\n",
      "    3  1.61650E-01  2.56116E-01\n",
      "    4  1.61650E-01  6.74455E-09\n",
      "    5  1.61650E-01  9.26282E-14\n",
      "    6  1.61650E-01  9.26282E-14\n",
      " Successful solution\n",
      " \n",
      " ---------------------------------------------------\n",
      " Solver         :  IPOPT (v3.12)\n",
      " Solution time  :   6.030000001192093E-002 sec\n",
      " Objective      :   0.161650171750666     \n",
      " Successful solution\n",
      " ---------------------------------------------------\n",
      " \n",
      "\n"
     ]
    }
   ],
   "source": [
    "m.solve()"
   ]
  },
  {
   "cell_type": "code",
   "execution_count": 44,
   "id": "0c3eb86b",
   "metadata": {},
   "outputs": [
    {
     "data": {
      "image/png": "[encoded data removed]",
      "text/plain": [
       "<Figure size 720x432 with 2 Axes>"
      ]
     },
     "metadata": {
      "needs_background": "light"
     },
     "output_type": "display_data"
    }
   ],
   "source": [
    "fig, ax = plt.subplots(2, 1, figsize=(10, 6))\n",
    "\n",
    "ax[0].plot(m.time, x1.value, label=r'$x_1$')\n",
    "ax[0].plot(m.time, x2.value, label=r'$x_2$')\n",
    "ax[0].legend(fontsize=14)\n",
    "\n",
    "ax[1].plot(m.time, u.value, label=r'$u$')\n",
    "ax[1].legend(fontsize=14)\n",
    "\n",
    "plt.tight_layout()\n",
    "plt.show()"
   ]
  }
 ],
 "metadata": {
  "kernelspec": {
   "display_name": "Python 3 (ipykernel)",
   "language": "python",
   "name": "python3"
  },
  "language_info": {
   "codemirror_mode": {
    "name": "ipython",
    "version": 3
   },
   "file_extension": ".py",
   "mimetype": "text/x-python",
   "name": "python",
   "nbconvert_exporter": "python",
   "pygments_lexer": "ipython3",
   "version": "3.8.8"
  }
 },
 "nbformat": 4,
 "nbformat_minor": 5
}
