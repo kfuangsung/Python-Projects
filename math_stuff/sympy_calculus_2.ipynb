{
 "cells": [
  {
   "cell_type": "code",
   "execution_count": 1,
   "id": "622f7c33",
   "metadata": {},
   "outputs": [],
   "source": [
    "import sympy as smp \n",
    "import numpy as np \n",
    "import matplotlib.pyplot as plt \n",
    "\n",
    "plt.style.use('bmh')"
   ]
  },
  {
   "cell_type": "code",
   "execution_count": 2,
   "id": "546674c9",
   "metadata": {},
   "outputs": [],
   "source": [
    "x, y, z, u1, u2, u3, v1, v2, v3, t = smp.symbols('x y z u_1 u_2 u_3 v_1 v_2 v_3 t')"
   ]
  },
  {
   "cell_type": "markdown",
   "id": "2d5e6bf4",
   "metadata": {},
   "source": [
    "# Vectors and Matrices"
   ]
  },
  {
   "cell_type": "code",
   "execution_count": 3,
   "id": "b590cf08",
   "metadata": {},
   "outputs": [
    {
     "data": {
      "text/latex": [
       "$\\displaystyle \\left[\\begin{matrix}u_{1}\\\\u_{2}\\\\u_{3}\\end{matrix}\\right]$"
      ],
      "text/plain": [
       "Matrix([\n",
       "[u_1],\n",
       "[u_2],\n",
       "[u_3]])"
      ]
     },
     "metadata": {},
     "output_type": "display_data"
    },
    {
     "data": {
      "text/latex": [
       "$\\displaystyle \\left[\\begin{matrix}v_{1}\\\\v_{2}\\\\v_{3}\\end{matrix}\\right]$"
      ],
      "text/plain": [
       "Matrix([\n",
       "[v_1],\n",
       "[v_2],\n",
       "[v_3]])"
      ]
     },
     "metadata": {},
     "output_type": "display_data"
    }
   ],
   "source": [
    "u = smp.Matrix([u1, u2, u3])\n",
    "v = smp.Matrix([v1, v2, v3])\n",
    "\n",
    "display(u)\n",
    "display(v)"
   ]
  },
  {
   "cell_type": "code",
   "execution_count": 4,
   "id": "9af8e0cf",
   "metadata": {},
   "outputs": [
    {
     "data": {
      "text/latex": [
       "$\\displaystyle \\left[\\begin{matrix}2 u_{1} + v_{1}\\\\2 u_{2} + v_{2}\\\\2 u_{3} + v_{3}\\end{matrix}\\right]$"
      ],
      "text/plain": [
       "Matrix([\n",
       "[2*u_1 + v_1],\n",
       "[2*u_2 + v_2],\n",
       "[2*u_3 + v_3]])"
      ]
     },
     "execution_count": 4,
     "metadata": {},
     "output_type": "execute_result"
    }
   ],
   "source": [
    "2*u + v"
   ]
  },
  {
   "cell_type": "code",
   "execution_count": 5,
   "id": "a4bc3688",
   "metadata": {},
   "outputs": [
    {
     "data": {
      "text/latex": [
       "$\\displaystyle u_{1} v_{1} + u_{2} v_{2} + u_{3} v_{3}$"
      ],
      "text/plain": [
       "u_1*v_1 + u_2*v_2 + u_3*v_3"
      ]
     },
     "execution_count": 5,
     "metadata": {},
     "output_type": "execute_result"
    }
   ],
   "source": [
    "u.dot(v)"
   ]
  },
  {
   "cell_type": "code",
   "execution_count": 6,
   "id": "7d040e66",
   "metadata": {},
   "outputs": [
    {
     "data": {
      "text/latex": [
       "$\\displaystyle \\left[\\begin{matrix}u_{2} v_{3} - u_{3} v_{2}\\\\- u_{1} v_{3} + u_{3} v_{1}\\\\u_{1} v_{2} - u_{2} v_{1}\\end{matrix}\\right]$"
      ],
      "text/plain": [
       "Matrix([\n",
       "[ u_2*v_3 - u_3*v_2],\n",
       "[-u_1*v_3 + u_3*v_1],\n",
       "[ u_1*v_2 - u_2*v_1]])"
      ]
     },
     "execution_count": 6,
     "metadata": {},
     "output_type": "execute_result"
    }
   ],
   "source": [
    "u.cross(v)"
   ]
  },
  {
   "cell_type": "code",
   "execution_count": 7,
   "id": "4c5ecdee",
   "metadata": {},
   "outputs": [
    {
     "data": {
      "text/latex": [
       "$\\displaystyle \\sqrt{\\left|{u_{1}}\\right|^{2} + \\left|{u_{2}}\\right|^{2} + \\left|{u_{3}}\\right|^{2}}$"
      ],
      "text/plain": [
       "sqrt(Abs(u_1)**2 + Abs(u_2)**2 + Abs(u_3)**2)"
      ]
     },
     "execution_count": 7,
     "metadata": {},
     "output_type": "execute_result"
    }
   ],
   "source": [
    "u.norm()"
   ]
  },
  {
   "cell_type": "markdown",
   "id": "db2e54ec",
   "metadata": {},
   "source": [
    "$$proj_v(u) = \\frac{u \\cdot v}{|v|^2} v$$"
   ]
  },
  {
   "cell_type": "code",
   "execution_count": 8,
   "id": "29a5cc4e",
   "metadata": {},
   "outputs": [
    {
     "data": {
      "text/latex": [
       "$\\displaystyle \\left[\\begin{matrix}\\frac{v_{1} \\left(u_{1} v_{1} + u_{2} v_{2} + u_{3} v_{3}\\right)}{\\left|{v_{1}}\\right|^{2} + \\left|{v_{2}}\\right|^{2} + \\left|{v_{3}}\\right|^{2}}\\\\\\frac{v_{2} \\left(u_{1} v_{1} + u_{2} v_{2} + u_{3} v_{3}\\right)}{\\left|{v_{1}}\\right|^{2} + \\left|{v_{2}}\\right|^{2} + \\left|{v_{3}}\\right|^{2}}\\\\\\frac{v_{3} \\left(u_{1} v_{1} + u_{2} v_{2} + u_{3} v_{3}\\right)}{\\left|{v_{1}}\\right|^{2} + \\left|{v_{2}}\\right|^{2} + \\left|{v_{3}}\\right|^{2}}\\end{matrix}\\right]$"
      ],
      "text/plain": [
       "Matrix([\n",
       "[v_1*(u_1*v_1 + u_2*v_2 + u_3*v_3)/(Abs(v_1)**2 + Abs(v_2)**2 + Abs(v_3)**2)],\n",
       "[v_2*(u_1*v_1 + u_2*v_2 + u_3*v_3)/(Abs(v_1)**2 + Abs(v_2)**2 + Abs(v_3)**2)],\n",
       "[v_3*(u_1*v_1 + u_2*v_2 + u_3*v_3)/(Abs(v_1)**2 + Abs(v_2)**2 + Abs(v_3)**2)]])"
      ]
     },
     "execution_count": 8,
     "metadata": {},
     "output_type": "execute_result"
    }
   ],
   "source": [
    "u.dot(v) / (v.norm()**2) * v"
   ]
  },
  {
   "cell_type": "markdown",
   "id": "7acaf23a",
   "metadata": {},
   "source": [
    "# Vector Calculus"
   ]
  },
  {
   "cell_type": "markdown",
   "id": "ac0a3841",
   "metadata": {},
   "source": [
    "## differentiate"
   ]
  },
  {
   "cell_type": "code",
   "execution_count": 9,
   "id": "fce2c041",
   "metadata": {},
   "outputs": [
    {
     "data": {
      "text/latex": [
       "$\\displaystyle \\left[\\begin{matrix}3 t\\\\\\sin{\\left(t \\right)}\\\\t^{2}\\end{matrix}\\right]$"
      ],
      "text/plain": [
       "Matrix([\n",
       "[   3*t],\n",
       "[sin(t)],\n",
       "[  t**2]])"
      ]
     },
     "execution_count": 9,
     "metadata": {},
     "output_type": "execute_result"
    }
   ],
   "source": [
    "r = smp.Matrix([3*t, smp.sin(t), t**2])\n",
    "r "
   ]
  },
  {
   "cell_type": "code",
   "execution_count": 10,
   "id": "18d831bb",
   "metadata": {},
   "outputs": [
    {
     "data": {
      "text/latex": [
       "$\\displaystyle \\left[\\begin{matrix}3\\\\\\cos{\\left(t \\right)}\\\\2 t\\end{matrix}\\right]$"
      ],
      "text/plain": [
       "Matrix([\n",
       "[     3],\n",
       "[cos(t)],\n",
       "[   2*t]])"
      ]
     },
     "execution_count": 10,
     "metadata": {},
     "output_type": "execute_result"
    }
   ],
   "source": [
    "smp.diff(r, t)"
   ]
  },
  {
   "cell_type": "code",
   "execution_count": 11,
   "id": "8cd4ea0c",
   "metadata": {},
   "outputs": [],
   "source": [
    "v = smp.diff(r, t)\n",
    "a = smp.diff(v, t)"
   ]
  },
  {
   "cell_type": "code",
   "execution_count": 12,
   "id": "edb2c67f",
   "metadata": {},
   "outputs": [
    {
     "data": {
      "text/latex": [
       "$\\displaystyle \\operatorname{acos}{\\left(\\frac{4 t - \\sin{\\left(t \\right)} \\cos{\\left(t \\right)}}{\\sqrt{\\left|{\\sin{\\left(t \\right)}}\\right|^{2} + 4} \\sqrt{4 \\left|{t}\\right|^{2} + \\left|{\\cos{\\left(t \\right)}}\\right|^{2} + 9}} \\right)}$"
      ],
      "text/plain": [
       "acos((4*t - sin(t)*cos(t))/(sqrt(Abs(sin(t))**2 + 4)*sqrt(4*Abs(t)**2 + Abs(cos(t))**2 + 9)))"
      ]
     },
     "execution_count": 12,
     "metadata": {},
     "output_type": "execute_result"
    }
   ],
   "source": [
    "theta = smp.acos(v.dot(a) / (v.norm() * a.norm()))\n",
    "theta"
   ]
  },
  {
   "cell_type": "code",
   "execution_count": 13,
   "id": "51a8fbe3",
   "metadata": {},
   "outputs": [
    {
     "data": {
      "text/latex": [
       "$\\displaystyle 0.251108015692338$"
      ],
      "text/plain": [
       "0.251108015692338"
      ]
     },
     "execution_count": 13,
     "metadata": {},
     "output_type": "execute_result"
    }
   ],
   "source": [
    "theta.subs(t, 6).evalf()"
   ]
  },
  {
   "cell_type": "code",
   "execution_count": 14,
   "id": "1996be67",
   "metadata": {},
   "outputs": [
    {
     "data": {
      "image/png": "[encoded data removed]",
      "text/plain": [
       "<Figure size 432x288 with 1 Axes>"
      ]
     },
     "metadata": {
      "needs_background": "light"
     },
     "output_type": "display_data"
    }
   ],
   "source": [
    "# plot theta for varying t\n",
    "\n",
    "ts = np.linspace(0, 10, 100)\n",
    "theta_f = smp.lambdify([t], theta)\n",
    "\n",
    "theta_vals = theta_f(ts)\n",
    "plt.plot(ts, theta_vals)\n",
    "plt.xlabel(r'$t$', fontsize=16)\n",
    "plt.ylabel(r'$\\theta(t)$', fontsize=16)\n",
    "plt.tight_layout()\n",
    "plt.show()"
   ]
  },
  {
   "cell_type": "markdown",
   "id": "8113c506",
   "metadata": {},
   "source": [
    "## integrate"
   ]
  },
  {
   "cell_type": "code",
   "execution_count": 15,
   "id": "5140e0ac",
   "metadata": {},
   "outputs": [
    {
     "data": {
      "text/latex": [
       "$\\displaystyle \\left[\\begin{matrix}e^{t} \\cos{\\left(t \\right)}\\\\t^{4}\\\\\\frac{1}{t^{2} + 1}\\end{matrix}\\right]$"
      ],
      "text/plain": [
       "Matrix([\n",
       "[exp(t)*cos(t)],\n",
       "[         t**4],\n",
       "[ 1/(t**2 + 1)]])"
      ]
     },
     "execution_count": 15,
     "metadata": {},
     "output_type": "execute_result"
    }
   ],
   "source": [
    "r = smp.Matrix([smp.exp(t)*smp.cos(t), t**4, 1/(1+t**2)])\n",
    "r"
   ]
  },
  {
   "cell_type": "code",
   "execution_count": 16,
   "id": "ce9598a2",
   "metadata": {},
   "outputs": [
    {
     "data": {
      "text/latex": [
       "$\\displaystyle \\left[\\begin{matrix}\\frac{e^{t} \\sin{\\left(t \\right)}}{2} + \\frac{e^{t} \\cos{\\left(t \\right)}}{2}\\\\\\frac{t^{5}}{5}\\\\\\operatorname{atan}{\\left(t \\right)}\\end{matrix}\\right]$"
      ],
      "text/plain": [
       "Matrix([\n",
       "[exp(t)*sin(t)/2 + exp(t)*cos(t)/2],\n",
       "[                           t**5/5],\n",
       "[                          atan(t)]])"
      ]
     },
     "execution_count": 16,
     "metadata": {},
     "output_type": "execute_result"
    }
   ],
   "source": [
    "smp.integrate(r, t)"
   ]
  },
  {
   "cell_type": "code",
   "execution_count": 17,
   "id": "b562466a",
   "metadata": {},
   "outputs": [
    {
     "data": {
      "text/latex": [
       "$\\displaystyle \\left[\\begin{matrix}e^{t^{2}} \\cos^{3}{\\left(t \\right)}\\\\e^{- t^{4}}\\\\\\frac{1}{t^{2} + 3}\\end{matrix}\\right]$"
      ],
      "text/plain": [
       "Matrix([\n",
       "[exp(t**2)*cos(t)**3],\n",
       "[         exp(-t**4)],\n",
       "[       1/(t**2 + 3)]])"
      ]
     },
     "execution_count": 17,
     "metadata": {},
     "output_type": "execute_result"
    }
   ],
   "source": [
    "# some case cannot be integrated symbolically\n",
    "# numerically integrate using scipy\n",
    "\n",
    "r = smp.Matrix([smp.exp(t**2)*smp.cos(t)**3, smp.exp(-t**4), 1/(3+t**2)])\n",
    "r"
   ]
  },
  {
   "cell_type": "code",
   "execution_count": 18,
   "id": "80455bb2",
   "metadata": {},
   "outputs": [
    {
     "data": {
      "text/plain": [
       "<function _lambdifygenerated(t)>"
      ]
     },
     "execution_count": 18,
     "metadata": {},
     "output_type": "execute_result"
    }
   ],
   "source": [
    "r_f = smp.lambdify([t], r)\n",
    "r_f"
   ]
  },
  {
   "cell_type": "code",
   "execution_count": 19,
   "id": "68c05c4f",
   "metadata": {},
   "outputs": [],
   "source": [
    "from scipy.integrate import quad_vec"
   ]
  },
  {
   "cell_type": "code",
   "execution_count": 20,
   "id": "53e56780",
   "metadata": {},
   "outputs": [
    {
     "data": {
      "text/plain": [
       "array([[-4.83559254e+05],\n",
       "       [ 9.06402477e-01],\n",
       "       [ 6.70972506e-01]])"
      ]
     },
     "execution_count": 20,
     "metadata": {},
     "output_type": "execute_result"
    }
   ],
   "source": [
    "# integrate from 0 to 4\n",
    "\n",
    "quad_vec(r_f, 0, 4)[0]"
   ]
  },
  {
   "cell_type": "markdown",
   "id": "0587dc14",
   "metadata": {},
   "source": [
    "# Partial derivatives"
   ]
  },
  {
   "cell_type": "code",
   "execution_count": 21,
   "id": "a4acf845",
   "metadata": {},
   "outputs": [],
   "source": [
    "x, y, z = smp.symbols('x y z')"
   ]
  },
  {
   "cell_type": "code",
   "execution_count": 22,
   "id": "fafd9050",
   "metadata": {},
   "outputs": [
    {
     "data": {
      "text/latex": [
       "$\\displaystyle y^{2} \\sin{\\left(x + y \\right)}$"
      ],
      "text/plain": [
       "y**2*sin(x + y)"
      ]
     },
     "execution_count": 22,
     "metadata": {},
     "output_type": "execute_result"
    }
   ],
   "source": [
    "f = y**2 * smp.sin(x+y)\n",
    "f"
   ]
  },
  {
   "cell_type": "code",
   "execution_count": 23,
   "id": "c2d9794d",
   "metadata": {},
   "outputs": [
    {
     "data": {
      "text/latex": [
       "$\\displaystyle y^{2} \\cos{\\left(x + y \\right)}$"
      ],
      "text/plain": [
       "y**2*cos(x + y)"
      ]
     },
     "execution_count": 23,
     "metadata": {},
     "output_type": "execute_result"
    }
   ],
   "source": [
    "smp.diff(f, x)"
   ]
  },
  {
   "cell_type": "code",
   "execution_count": 24,
   "id": "3b94470b",
   "metadata": {},
   "outputs": [
    {
     "data": {
      "text/latex": [
       "$\\displaystyle y^{2} \\cos{\\left(x + y \\right)} + 2 y \\sin{\\left(x + y \\right)}$"
      ],
      "text/plain": [
       "y**2*cos(x + y) + 2*y*sin(x + y)"
      ]
     },
     "execution_count": 24,
     "metadata": {},
     "output_type": "execute_result"
    }
   ],
   "source": [
    "smp.diff(f, y)"
   ]
  },
  {
   "cell_type": "code",
   "execution_count": 25,
   "id": "9b787526",
   "metadata": {},
   "outputs": [
    {
     "data": {
      "text/latex": [
       "$\\displaystyle - y^{2} \\cos{\\left(x + y \\right)} - 4 y \\sin{\\left(x + y \\right)} + 2 \\cos{\\left(x + y \\right)}$"
      ],
      "text/plain": [
       "-y**2*cos(x + y) - 4*y*sin(x + y) + 2*cos(x + y)"
      ]
     },
     "execution_count": 25,
     "metadata": {},
     "output_type": "execute_result"
    }
   ],
   "source": [
    "smp.diff(f, x, y, y)"
   ]
  },
  {
   "cell_type": "markdown",
   "id": "b949be0e",
   "metadata": {},
   "source": [
    "## chain rule"
   ]
  },
  {
   "cell_type": "code",
   "execution_count": 26,
   "id": "92caada4",
   "metadata": {},
   "outputs": [],
   "source": [
    "t = smp.symbols('t')\n",
    "x, y, z, w = smp.symbols('x y z w', cls=smp.Function)"
   ]
  },
  {
   "cell_type": "code",
   "execution_count": 27,
   "id": "d6a966ca",
   "metadata": {},
   "outputs": [],
   "source": [
    "x = x(t)\n",
    "y = y(t)\n",
    "z = z(t)\n",
    "w = w(x, y, z)"
   ]
  },
  {
   "cell_type": "code",
   "execution_count": 28,
   "id": "bdee6679",
   "metadata": {},
   "outputs": [
    {
     "data": {
      "text/latex": [
       "$\\displaystyle w{\\left(x{\\left(t \\right)},y{\\left(t \\right)},z{\\left(t \\right)} \\right)}$"
      ],
      "text/plain": [
       "w(x(t), y(t), z(t))"
      ]
     },
     "execution_count": 28,
     "metadata": {},
     "output_type": "execute_result"
    }
   ],
   "source": [
    "w"
   ]
  },
  {
   "cell_type": "code",
   "execution_count": 29,
   "id": "b80589e9",
   "metadata": {},
   "outputs": [
    {
     "data": {
      "text/latex": [
       "$\\displaystyle \\frac{d}{d x{\\left(t \\right)}} w{\\left(x{\\left(t \\right)},y{\\left(t \\right)},z{\\left(t \\right)} \\right)} \\frac{d}{d t} x{\\left(t \\right)} + \\frac{d}{d y{\\left(t \\right)}} w{\\left(x{\\left(t \\right)},y{\\left(t \\right)},z{\\left(t \\right)} \\right)} \\frac{d}{d t} y{\\left(t \\right)} + \\frac{d}{d z{\\left(t \\right)}} w{\\left(x{\\left(t \\right)},y{\\left(t \\right)},z{\\left(t \\right)} \\right)} \\frac{d}{d t} z{\\left(t \\right)}$"
      ],
      "text/plain": [
       "Derivative(w(x(t), y(t), z(t)), x(t))*Derivative(x(t), t) + Derivative(w(x(t), y(t), z(t)), y(t))*Derivative(y(t), t) + Derivative(w(x(t), y(t), z(t)), z(t))*Derivative(z(t), t)"
      ]
     },
     "execution_count": 29,
     "metadata": {},
     "output_type": "execute_result"
    }
   ],
   "source": [
    "smp.diff(w, t)"
   ]
  },
  {
   "cell_type": "markdown",
   "id": "49616aaa",
   "metadata": {},
   "source": [
    "# Gradients"
   ]
  },
  {
   "cell_type": "code",
   "execution_count": 30,
   "id": "c69d7065",
   "metadata": {},
   "outputs": [],
   "source": [
    "import sympy.vector as smp_vec"
   ]
  },
  {
   "cell_type": "code",
   "execution_count": 31,
   "id": "774e1155",
   "metadata": {},
   "outputs": [],
   "source": [
    "C = smp_vec.CoordSys3D('')"
   ]
  },
  {
   "cell_type": "code",
   "execution_count": 32,
   "id": "0ee7f949",
   "metadata": {},
   "outputs": [
    {
     "data": {
      "text/latex": [
       "$\\displaystyle \\mathbf{{x}_{}} \\sin{\\left(\\mathbf{{y}_{}} \\right)}$"
      ],
      "text/plain": [
       ".x*sin(.y)"
      ]
     },
     "execution_count": 32,
     "metadata": {},
     "output_type": "execute_result"
    }
   ],
   "source": [
    "f = C.x * smp.sin(C.y)\n",
    "f"
   ]
  },
  {
   "cell_type": "code",
   "execution_count": 33,
   "id": "7764c9f9",
   "metadata": {},
   "outputs": [
    {
     "data": {
      "text/latex": [
       "$\\displaystyle (\\sin{\\left(\\mathbf{{y}_{}} \\right)})\\mathbf{\\hat{i}_{}} + (\\mathbf{{x}_{}} \\cos{\\left(\\mathbf{{y}_{}} \\right)})\\mathbf{\\hat{j}_{}}$"
      ],
      "text/plain": [
       "(sin(.y))*.i + (.x*cos(.y))*.j"
      ]
     },
     "execution_count": 33,
     "metadata": {},
     "output_type": "execute_result"
    }
   ],
   "source": [
    "smp_vec.gradient(f)"
   ]
  },
  {
   "cell_type": "code",
   "execution_count": 34,
   "id": "f74510d5",
   "metadata": {},
   "outputs": [
    {
     "data": {
      "text/latex": [
       "$\\displaystyle \\left[\\begin{matrix}\\sin{\\left(\\mathbf{{y}_{}} \\right)}\\\\\\mathbf{{x}_{}} \\cos{\\left(\\mathbf{{y}_{}} \\right)}\\\\0\\end{matrix}\\right]$"
      ],
      "text/plain": [
       "Matrix([\n",
       "[   sin(.y)],\n",
       "[.x*cos(.y)],\n",
       "[         0]])"
      ]
     },
     "execution_count": 34,
     "metadata": {},
     "output_type": "execute_result"
    }
   ],
   "source": [
    "smp_vec.gradient(f).to_matrix(C)"
   ]
  },
  {
   "cell_type": "code",
   "execution_count": 35,
   "id": "672f0f13",
   "metadata": {},
   "outputs": [
    {
     "data": {
      "text/latex": [
       "$\\displaystyle \\left[\\begin{matrix}\\sin{\\left(1 \\right)}\\\\\\mathbf{{x}_{}} \\cos{\\left(1 \\right)}\\\\0\\end{matrix}\\right]$"
      ],
      "text/plain": [
       "Matrix([\n",
       "[   sin(1)],\n",
       "[.x*cos(1)],\n",
       "[        0]])"
      ]
     },
     "execution_count": 35,
     "metadata": {},
     "output_type": "execute_result"
    }
   ],
   "source": [
    "smp_vec.gradient(f).to_matrix(C).subs([(C.y, 1)])"
   ]
  },
  {
   "cell_type": "markdown",
   "id": "27486867",
   "metadata": {},
   "source": [
    "# Directional Derivatives\n",
    "\n",
    "$$D_u f = \\nabla f \\cdot u$$"
   ]
  },
  {
   "cell_type": "code",
   "execution_count": 36,
   "id": "7b2207a1",
   "metadata": {},
   "outputs": [
    {
     "data": {
      "text/latex": [
       "$\\displaystyle (4)\\mathbf{\\hat{i}_{}} + (-3)\\mathbf{\\hat{j}_{}} + (2)\\mathbf{\\hat{k}_{}}$"
      ],
      "text/plain": [
       "4*.i + (-3)*.j + 2*.k"
      ]
     },
     "execution_count": 36,
     "metadata": {},
     "output_type": "execute_result"
    }
   ],
   "source": [
    "u = 4*C.i - 3*C.j + 2*C.k\n",
    "u "
   ]
  },
  {
   "cell_type": "code",
   "execution_count": 37,
   "id": "b32cc29d",
   "metadata": {},
   "outputs": [
    {
     "data": {
      "text/latex": [
       "$\\displaystyle (\\frac{4 \\sqrt{29}}{29})\\mathbf{\\hat{i}_{}} + (- \\frac{3 \\sqrt{29}}{29})\\mathbf{\\hat{j}_{}} + (\\frac{2 \\sqrt{29}}{29})\\mathbf{\\hat{k}_{}}$"
      ],
      "text/plain": [
       "(4*sqrt(29)/29)*.i + (-3*sqrt(29)/29)*.j + (2*sqrt(29)/29)*.k"
      ]
     },
     "execution_count": 37,
     "metadata": {},
     "output_type": "execute_result"
    }
   ],
   "source": [
    "u = u.normalize()\n",
    "u "
   ]
  },
  {
   "cell_type": "code",
   "execution_count": 38,
   "id": "68c99df9",
   "metadata": {},
   "outputs": [
    {
     "data": {
      "text/latex": [
       "$\\displaystyle - \\frac{3 \\sqrt{29} \\mathbf{{x}_{}} \\cos{\\left(\\mathbf{{y}_{}} \\right)}}{29} + \\frac{4 \\sqrt{29} \\sin{\\left(\\mathbf{{y}_{}} \\right)}}{29}$"
      ],
      "text/plain": [
       "-3*sqrt(29)*.x*cos(.y)/29 + 4*sqrt(29)*sin(.y)/29"
      ]
     },
     "execution_count": 38,
     "metadata": {},
     "output_type": "execute_result"
    }
   ],
   "source": [
    "smp_vec.gradient(f).dot(u)"
   ]
  },
  {
   "cell_type": "markdown",
   "id": "8f5b93b6",
   "metadata": {},
   "source": [
    "# Extreme Values and Saddle Points"
   ]
  },
  {
   "cell_type": "markdown",
   "id": "a15b5bae",
   "metadata": {},
   "source": [
    "Extreme values of $f(x,y)$ can occur at\n",
    "\n",
    "1. Boundary points of the domain of \n",
    "2. Critical Points $(f_x = f_y = 0)$\n",
    "\n",
    "If\n",
    "\n",
    "* $f_{xx} < 0$ and $f_{xx}f_{yy} - f_{xy}^2 > 0$ at (a,b) then **local maximum**\n",
    "* $f_{xx} > 0$ and $f_{xx}f_{yy} - f_{xy}^2 > 0$ at (a,b) then **local minimum**\n",
    "* $f_{xx}f_{yy} - f_{xy}^2 < 0$ at (a,b) then **saddle point**\n",
    "* $f_{xx}f_{yy} - f_{xy}^2 = 0$ at (a,b) then **inconclusive**"
   ]
  },
  {
   "cell_type": "code",
   "execution_count": 39,
   "id": "66c16a6a",
   "metadata": {},
   "outputs": [
    {
     "data": {
      "text/latex": [
       "$\\displaystyle x^{3} + 3 x y + y^{3}$"
      ],
      "text/plain": [
       "x**3 + 3*x*y + y**3"
      ]
     },
     "execution_count": 39,
     "metadata": {},
     "output_type": "execute_result"
    }
   ],
   "source": [
    "x, y = smp.symbols('x y', real=True)\n",
    "f = x**3 + 3*x*y + y**3\n",
    "f"
   ]
  },
  {
   "cell_type": "code",
   "execution_count": 40,
   "id": "04c9acab",
   "metadata": {},
   "outputs": [
    {
     "data": {
      "text/plain": [
       "[{x: -1, y: -1}, {x: 0, y: 0}]"
      ]
     },
     "execution_count": 40,
     "metadata": {},
     "output_type": "execute_result"
    }
   ],
   "source": [
    "# solve for critical point (fx = fy = 0)\n",
    "\n",
    "smp.solve([smp.diff(f, x), smp.diff(f, y)])"
   ]
  },
  {
   "cell_type": "code",
   "execution_count": 41,
   "id": "8594092f",
   "metadata": {},
   "outputs": [],
   "source": [
    "fxx = smp.diff(f, x, x)\n",
    "fyy = smp.diff(f, y, y)\n",
    "fxy = smp.diff(f, x, y)"
   ]
  },
  {
   "cell_type": "code",
   "execution_count": 42,
   "id": "0b2c42fe",
   "metadata": {},
   "outputs": [
    {
     "data": {
      "text/latex": [
       "$\\displaystyle -6$"
      ],
      "text/plain": [
       "-6"
      ]
     },
     "execution_count": 42,
     "metadata": {},
     "output_type": "execute_result"
    }
   ],
   "source": [
    "# check fxx\n",
    "\n",
    "fxx.subs([(x, -1), (y, -1)])"
   ]
  },
  {
   "cell_type": "code",
   "execution_count": 43,
   "id": "53637430",
   "metadata": {},
   "outputs": [
    {
     "data": {
      "text/latex": [
       "$\\displaystyle 27$"
      ],
      "text/plain": [
       "27"
      ]
     },
     "execution_count": 43,
     "metadata": {},
     "output_type": "execute_result"
    }
   ],
   "source": [
    "# check fxx*fyy - fxy^2\n",
    "\n",
    "(fxx*fyy - fxy**2).subs([(x, -1), (y, -1)])\n",
    "\n",
    "# --> local maximum"
   ]
  },
  {
   "cell_type": "markdown",
   "id": "6f9311d6",
   "metadata": {},
   "source": [
    "# Lagrange Multipliers"
   ]
  },
  {
   "cell_type": "markdown",
   "id": "38862e37",
   "metadata": {},
   "source": [
    "Minimize $f(x,y,z)$ subject to the constraint $g(x,y,z)=0$ <br>\n",
    "Solving two equations\n",
    "1. $\\nabla f = \\lambda \\nabla g$\n",
    "2. $g(x,y,z) = 0$"
   ]
  },
  {
   "cell_type": "markdown",
   "id": "8e53efcb",
   "metadata": {},
   "source": [
    "**Example** <br>\n",
    "$f = 8x^2 + 4yz -16z + 600$ <br>\n",
    "$g = 4x^2 + y^2 + 4z^2 -16 = 0$"
   ]
  },
  {
   "cell_type": "code",
   "execution_count": 44,
   "id": "e8d63ccb",
   "metadata": {},
   "outputs": [],
   "source": [
    "C = smp_vec.CoordSys3D('')\n",
    "lamb = smp.Symbol('\\lambda')"
   ]
  },
  {
   "cell_type": "code",
   "execution_count": 45,
   "id": "c811ef51",
   "metadata": {},
   "outputs": [],
   "source": [
    "f = 8*C.x**2 + 4*C.y*C.z - 16*C.z + 600\n",
    "g = 4*C.x**2 + C.y**2 + 4*C.z**2 -16"
   ]
  },
  {
   "cell_type": "code",
   "execution_count": 46,
   "id": "cc3ba076",
   "metadata": {},
   "outputs": [
    {
     "data": {
      "text/latex": [
       "$\\displaystyle 8 \\mathbf{{x}_{}}^{2} + 4 \\mathbf{{y}_{}} \\mathbf{{z}_{}} - 16 \\mathbf{{z}_{}} + 600$"
      ],
      "text/plain": [
       "8*.x**2 + 4*.y*.z - 16*.z + 600"
      ]
     },
     "execution_count": 46,
     "metadata": {},
     "output_type": "execute_result"
    }
   ],
   "source": [
    "f"
   ]
  },
  {
   "cell_type": "code",
   "execution_count": 47,
   "id": "1c51e318",
   "metadata": {},
   "outputs": [
    {
     "data": {
      "text/latex": [
       "$\\displaystyle 4 \\mathbf{{x}_{}}^{2} + \\mathbf{{y}_{}}^{2} + 4 \\mathbf{{z}_{}}^{2} - 16$"
      ],
      "text/plain": [
       "4*.x**2 + .y**2 + 4*.z**2 - 16"
      ]
     },
     "execution_count": 47,
     "metadata": {},
     "output_type": "execute_result"
    }
   ],
   "source": [
    "g"
   ]
  },
  {
   "cell_type": "code",
   "execution_count": 48,
   "id": "fdf5cf54",
   "metadata": {},
   "outputs": [
    {
     "data": {
      "text/latex": [
       "$\\displaystyle \\left[\\begin{matrix}- 8 \\mathbf{{x}_{}} \\lambda + 16 \\mathbf{{x}_{}}\\\\- 2 \\mathbf{{y}_{}} \\lambda + 4 \\mathbf{{z}_{}}\\\\4 \\mathbf{{y}_{}} - 8 \\mathbf{{z}_{}} \\lambda - 16\\end{matrix}\\right]$"
      ],
      "text/plain": [
       "Matrix([\n",
       "[   -8*.x*\\lambda + 16*.x],\n",
       "[    -2*.y*\\lambda + 4*.z],\n",
       "[4*.y - 8*.z*\\lambda - 16]])"
      ]
     },
     "execution_count": 48,
     "metadata": {},
     "output_type": "execute_result"
    }
   ],
   "source": [
    "eq1 = smp_vec.gradient(f) - lamb*smp_vec.gradient(g)\n",
    "eq1 = eq1.to_matrix(C)\n",
    "eq1"
   ]
  },
  {
   "cell_type": "code",
   "execution_count": 49,
   "id": "b0d86fca",
   "metadata": {},
   "outputs": [
    {
     "data": {
      "text/latex": [
       "$\\displaystyle 4 \\mathbf{{x}_{}}^{2} + \\mathbf{{y}_{}}^{2} + 4 \\mathbf{{z}_{}}^{2} - 16$"
      ],
      "text/plain": [
       "4*.x**2 + .y**2 + 4*.z**2 - 16"
      ]
     },
     "execution_count": 49,
     "metadata": {},
     "output_type": "execute_result"
    }
   ],
   "source": [
    "eq2 = g\n",
    "eq2"
   ]
  },
  {
   "cell_type": "code",
   "execution_count": 50,
   "id": "090e5b47",
   "metadata": {},
   "outputs": [
    {
     "data": {
      "text/plain": [
       "[{.x: -4/3, .y: -4/3, .z: -4/3, \\lambda: 2},\n",
       " {.x: 0, .y: -2, .z: -sqrt(3), \\lambda: sqrt(3)},\n",
       " {.x: 0, .y: -2, .z: sqrt(3), \\lambda: -sqrt(3)},\n",
       " {.x: 0, .y: 4, .z: 0, \\lambda: 0},\n",
       " {.x: 4/3, .y: -4/3, .z: -4/3, \\lambda: 2}]"
      ]
     },
     "execution_count": 50,
     "metadata": {},
     "output_type": "execute_result"
    }
   ],
   "source": [
    "sols = smp.solve([eq1, eq2])\n",
    "sols"
   ]
  },
  {
   "cell_type": "code",
   "execution_count": 51,
   "id": "2320a50f",
   "metadata": {},
   "outputs": [
    {
     "name": "stdout",
     "output_type": "stream",
     "text": [
      "642.666666666667\n",
      "641.569219381653\n",
      "558.430780618347\n",
      "600.000000000000\n",
      "642.666666666667\n"
     ]
    }
   ],
   "source": [
    "for sol in sols:\n",
    "    print(f.subs(sol).evalf())"
   ]
  },
  {
   "cell_type": "markdown",
   "id": "05292d0b",
   "metadata": {},
   "source": [
    "# Multiple Integrals\n",
    "* most cases cannot be done symbolically\n",
    "* better use scipy"
   ]
  },
  {
   "cell_type": "markdown",
   "id": "065abde1",
   "metadata": {},
   "source": [
    "$$\\int_{0}^{1} \\int_{0}^{1-x^2} \\int_{3}^{4-x^2-y^2} xe^{-y}\\cos(z) dzdydx$$"
   ]
  },
  {
   "cell_type": "code",
   "execution_count": 52,
   "id": "7ee5451e",
   "metadata": {},
   "outputs": [],
   "source": [
    "from scipy.integrate import tplquad"
   ]
  },
  {
   "cell_type": "code",
   "execution_count": 53,
   "id": "bb15556e",
   "metadata": {},
   "outputs": [
    {
     "data": {
      "text/plain": [
       "(-0.09109526451447894, 1.5233411688190285e-14)"
      ]
     },
     "execution_count": 53,
     "metadata": {},
     "output_type": "execute_result"
    }
   ],
   "source": [
    "# need to be in correct order\n",
    "# in this case: z y x (dzdydx)\n",
    "\n",
    "f = lambda z, y, x : x*np.exp(-y)*np.cos(z)\n",
    "tplquad(f,\n",
    "        0, 1,\n",
    "        lambda x: 0, lambda x: 1-x**2,\n",
    "        lambda x,y: 3, lambda x,y: 4-x**2-y**2)"
   ]
  }
 ],
 "metadata": {
  "authors": [
   {
    "name": "Kachain Fuangsung"
   }
  ],
  "kernelspec": {
   "display_name": "Python 3.8.8 64-bit ('DL': conda)",
   "language": "python",
   "name": "python388jvsc74a57bd05f58e7dbcddfdb99f90b0447783d5390db8cd74aa541842f8b458cd6f0565a39"
  },
  "language_info": {
   "codemirror_mode": {
    "name": "ipython",
    "version": 3
   },
   "file_extension": ".py",
   "mimetype": "text/x-python",
   "name": "python",
   "nbconvert_exporter": "python",
   "pygments_lexer": "ipython3",
   "version": "3.8.8"
  },
  "title": "SymPy Calculus II"
 },
 "nbformat": 4,
 "nbformat_minor": 5
}
