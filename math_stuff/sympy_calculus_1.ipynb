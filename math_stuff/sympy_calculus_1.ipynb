{
 "cells": [
  {
   "cell_type": "code",
   "execution_count": 1,
   "id": "b09320b5",
   "metadata": {},
   "outputs": [],
   "source": [
    "import sympy as smp"
   ]
  },
  {
   "cell_type": "code",
   "execution_count": 2,
   "id": "7c977c58",
   "metadata": {},
   "outputs": [],
   "source": [
    "x, y = smp.symbols('x y')"
   ]
  },
  {
   "cell_type": "markdown",
   "id": "a965261a",
   "metadata": {},
   "source": [
    "# Limits"
   ]
  },
  {
   "cell_type": "markdown",
   "id": "80e2a808",
   "metadata": {},
   "source": [
    "$$ \\lim_{x \\rightarrow \\pi} \\sin (\\frac{x}{2} + \\sin(x))$$"
   ]
  },
  {
   "cell_type": "code",
   "execution_count": 3,
   "id": "bd3b0bc8",
   "metadata": {},
   "outputs": [
    {
     "data": {
      "text/latex": [
       "$\\displaystyle \\sin{\\left(\\frac{x}{2} + \\sin{\\left(x \\right)} \\right)}$"
      ],
      "text/plain": [
       "sin(x/2 + sin(x))"
      ]
     },
     "execution_count": 3,
     "metadata": {},
     "output_type": "execute_result"
    }
   ],
   "source": [
    "expr = smp.sin(x/2 + smp.sin(x))\n",
    "expr"
   ]
  },
  {
   "cell_type": "code",
   "execution_count": 4,
   "id": "6b3c96e4",
   "metadata": {},
   "outputs": [
    {
     "data": {
      "text/latex": [
       "$\\displaystyle 1$"
      ],
      "text/plain": [
       "1"
      ]
     },
     "execution_count": 4,
     "metadata": {},
     "output_type": "execute_result"
    }
   ],
   "source": [
    "smp.limit(expr, x, smp.pi)"
   ]
  },
  {
   "cell_type": "markdown",
   "id": "07307c1d",
   "metadata": {},
   "source": [
    "$$ \\lim_{x \\rightarrow 0^+} \\frac{2e^{\\frac{1}{x}}}{e^{\\frac{1}{x}}+1}$$"
   ]
  },
  {
   "cell_type": "code",
   "execution_count": 5,
   "id": "9f36202f",
   "metadata": {},
   "outputs": [
    {
     "data": {
      "text/latex": [
       "$\\displaystyle \\frac{2 e^{\\frac{1}{x}}}{e^{\\frac{1}{x}} + 1}$"
      ],
      "text/plain": [
       "2*exp(1/x)/(exp(1/x) + 1)"
      ]
     },
     "execution_count": 5,
     "metadata": {},
     "output_type": "execute_result"
    }
   ],
   "source": [
    "expr = 2*smp.exp(1/x) / (smp.exp(1/x) + 1)\n",
    "expr"
   ]
  },
  {
   "cell_type": "code",
   "execution_count": 6,
   "id": "1fc7b16a",
   "metadata": {},
   "outputs": [
    {
     "data": {
      "text/latex": [
       "$\\displaystyle 2$"
      ],
      "text/plain": [
       "2"
      ]
     },
     "execution_count": 6,
     "metadata": {},
     "output_type": "execute_result"
    }
   ],
   "source": [
    "smp.limit(expr, x, 0, dir='+')"
   ]
  },
  {
   "cell_type": "markdown",
   "id": "8d4adf69",
   "metadata": {},
   "source": [
    "$$ \\lim_{x \\rightarrow 0^-} \\frac{2e^{\\frac{1}{x}}}{e^{\\frac{1}{x}}+1}$$"
   ]
  },
  {
   "cell_type": "code",
   "execution_count": 7,
   "id": "911dfe9e",
   "metadata": {},
   "outputs": [
    {
     "data": {
      "text/latex": [
       "$\\displaystyle \\frac{2 e^{\\frac{1}{x}}}{e^{\\frac{1}{x}} + 1}$"
      ],
      "text/plain": [
       "2*exp(1/x)/(exp(1/x) + 1)"
      ]
     },
     "execution_count": 7,
     "metadata": {},
     "output_type": "execute_result"
    }
   ],
   "source": [
    "expr = 2*smp.exp(1/x) / (smp.exp(1/x) + 1)\n",
    "expr"
   ]
  },
  {
   "cell_type": "code",
   "execution_count": 8,
   "id": "7c38844a",
   "metadata": {},
   "outputs": [
    {
     "data": {
      "text/latex": [
       "$\\displaystyle 0$"
      ],
      "text/plain": [
       "0"
      ]
     },
     "execution_count": 8,
     "metadata": {},
     "output_type": "execute_result"
    }
   ],
   "source": [
    "smp.limit(expr, x, 0, dir='-')"
   ]
  },
  {
   "cell_type": "markdown",
   "id": "d1cf2797",
   "metadata": {},
   "source": [
    "$$ \\lim_{x \\rightarrow \\infty} \\frac{\\cos(x) - 1}{x} $$"
   ]
  },
  {
   "cell_type": "code",
   "execution_count": 9,
   "id": "b2bd07ec",
   "metadata": {},
   "outputs": [
    {
     "data": {
      "text/latex": [
       "$\\displaystyle \\frac{\\cos{\\left(x \\right)} - 1}{x}$"
      ],
      "text/plain": [
       "(cos(x) - 1)/x"
      ]
     },
     "execution_count": 9,
     "metadata": {},
     "output_type": "execute_result"
    }
   ],
   "source": [
    "expr = (smp.cos(x) - 1) / x\n",
    "expr"
   ]
  },
  {
   "cell_type": "code",
   "execution_count": 10,
   "id": "7887e6c3",
   "metadata": {},
   "outputs": [
    {
     "data": {
      "text/latex": [
       "$\\displaystyle 0$"
      ],
      "text/plain": [
       "0"
      ]
     },
     "execution_count": 10,
     "metadata": {},
     "output_type": "execute_result"
    }
   ],
   "source": [
    "smp.limit(expr, x, smp.oo)"
   ]
  },
  {
   "cell_type": "markdown",
   "id": "82d912bf",
   "metadata": {},
   "source": [
    "# Derivatives"
   ]
  },
  {
   "cell_type": "markdown",
   "id": "a4936468",
   "metadata": {},
   "source": [
    "$$ \\frac{d}{dx} \\left( \\frac{1 + \\sin(x)}{1 - \\cos(x)} \\right) ^2 $$"
   ]
  },
  {
   "cell_type": "code",
   "execution_count": 19,
   "id": "5cc11a96",
   "metadata": {},
   "outputs": [
    {
     "data": {
      "text/latex": [
       "$\\displaystyle \\frac{\\left(\\sin{\\left(x \\right)} + 1\\right)^{2}}{\\left(1 - \\cos{\\left(x \\right)}\\right)^{2}}$"
      ],
      "text/plain": [
       "(sin(x) + 1)**2/(1 - cos(x))**2"
      ]
     },
     "execution_count": 19,
     "metadata": {},
     "output_type": "execute_result"
    }
   ],
   "source": [
    "expr = ((1 + smp.sin(x)) / (1 - smp.cos(x)))**2\n",
    "expr"
   ]
  },
  {
   "cell_type": "code",
   "execution_count": 20,
   "id": "a76090d3",
   "metadata": {},
   "outputs": [
    {
     "data": {
      "text/latex": [
       "$\\displaystyle \\frac{2 \\left(\\sin{\\left(x \\right)} + 1\\right) \\cos{\\left(x \\right)}}{\\left(1 - \\cos{\\left(x \\right)}\\right)^{2}} - \\frac{2 \\left(\\sin{\\left(x \\right)} + 1\\right)^{2} \\sin{\\left(x \\right)}}{\\left(1 - \\cos{\\left(x \\right)}\\right)^{3}}$"
      ],
      "text/plain": [
       "2*(sin(x) + 1)*cos(x)/(1 - cos(x))**2 - 2*(sin(x) + 1)**2*sin(x)/(1 - cos(x))**3"
      ]
     },
     "execution_count": 20,
     "metadata": {},
     "output_type": "execute_result"
    }
   ],
   "source": [
    "smp.diff(expr, x)"
   ]
  },
  {
   "cell_type": "markdown",
   "id": "e9cf1fbe",
   "metadata": {},
   "source": [
    "$$ \\frac{d}{dx} (\\log_5(x))^{\\frac{x}{2}} $$"
   ]
  },
  {
   "cell_type": "code",
   "execution_count": 21,
   "id": "8597449d",
   "metadata": {},
   "outputs": [
    {
     "data": {
      "text/latex": [
       "$\\displaystyle \\left(\\frac{\\log{\\left(x \\right)}}{\\log{\\left(5 \\right)}}\\right)^{\\frac{x}{2}}$"
      ],
      "text/plain": [
       "(log(x)/log(5))**(x/2)"
      ]
     },
     "execution_count": 21,
     "metadata": {},
     "output_type": "execute_result"
    }
   ],
   "source": [
    "expr = smp.log(x, 5) ** (x/2)\n",
    "expr"
   ]
  },
  {
   "cell_type": "code",
   "execution_count": 22,
   "id": "46c16564",
   "metadata": {},
   "outputs": [
    {
     "data": {
      "text/latex": [
       "$\\displaystyle \\left(\\frac{\\log{\\left(x \\right)}}{\\log{\\left(5 \\right)}}\\right)^{\\frac{x}{2}} \\left(\\frac{\\log{\\left(\\frac{\\log{\\left(x \\right)}}{\\log{\\left(5 \\right)}} \\right)}}{2} + \\frac{1}{2 \\log{\\left(x \\right)}}\\right)$"
      ],
      "text/plain": [
       "(log(x)/log(5))**(x/2)*(log(log(x)/log(5))/2 + 1/(2*log(x)))"
      ]
     },
     "execution_count": 22,
     "metadata": {},
     "output_type": "execute_result"
    }
   ],
   "source": [
    "smp.diff(expr, x)"
   ]
  },
  {
   "cell_type": "markdown",
   "id": "f6e272c9",
   "metadata": {},
   "source": [
    "$$ \\frac{d}{dx} f(x + g(x)) $$"
   ]
  },
  {
   "cell_type": "code",
   "execution_count": 27,
   "id": "6bfbc6b7",
   "metadata": {},
   "outputs": [],
   "source": [
    "f, g = smp.symbols('f g', cls=smp.Function)"
   ]
  },
  {
   "cell_type": "code",
   "execution_count": 28,
   "id": "bd05351c",
   "metadata": {},
   "outputs": [],
   "source": [
    "g = g(x)\n",
    "f = f(x + g)"
   ]
  },
  {
   "cell_type": "code",
   "execution_count": 29,
   "id": "2a32eb59",
   "metadata": {},
   "outputs": [
    {
     "data": {
      "text/latex": [
       "$\\displaystyle f{\\left(x + g{\\left(x \\right)} \\right)}$"
      ],
      "text/plain": [
       "f(x + g(x))"
      ]
     },
     "execution_count": 29,
     "metadata": {},
     "output_type": "execute_result"
    }
   ],
   "source": [
    "f "
   ]
  },
  {
   "cell_type": "code",
   "execution_count": 30,
   "id": "c870dbcf",
   "metadata": {},
   "outputs": [
    {
     "data": {
      "text/latex": [
       "$\\displaystyle \\left(\\frac{d}{d x} g{\\left(x \\right)} + 1\\right) \\left. \\frac{d}{d \\xi_{1}} f{\\left(\\xi_{1} \\right)} \\right|_{\\substack{ \\xi_{1}=x + g{\\left(x \\right)} }}$"
      ],
      "text/plain": [
       "(Derivative(g(x), x) + 1)*Subs(Derivative(f(_xi_1), _xi_1), _xi_1, x + g(x))"
      ]
     },
     "execution_count": 30,
     "metadata": {},
     "output_type": "execute_result"
    }
   ],
   "source": [
    "smp.diff(f, x)"
   ]
  },
  {
   "cell_type": "markdown",
   "id": "26a747cd",
   "metadata": {},
   "source": [
    "# Integrals"
   ]
  },
  {
   "cell_type": "markdown",
   "id": "a8cb1a83",
   "metadata": {},
   "source": [
    "$$ \\int \\csc(x) \\cot(x) dx $$"
   ]
  },
  {
   "cell_type": "code",
   "execution_count": 31,
   "id": "e8afba49",
   "metadata": {},
   "outputs": [
    {
     "data": {
      "text/latex": [
       "$\\displaystyle \\cot{\\left(x \\right)} \\csc{\\left(x \\right)}$"
      ],
      "text/plain": [
       "cot(x)*csc(x)"
      ]
     },
     "execution_count": 31,
     "metadata": {},
     "output_type": "execute_result"
    }
   ],
   "source": [
    "expr = smp.csc(x) * smp.cot(x)\n",
    "expr"
   ]
  },
  {
   "cell_type": "code",
   "execution_count": 32,
   "id": "0267a67b",
   "metadata": {},
   "outputs": [
    {
     "data": {
      "text/latex": [
       "$\\displaystyle - \\frac{1}{\\sin{\\left(x \\right)}}$"
      ],
      "text/plain": [
       "-1/sin(x)"
      ]
     },
     "execution_count": 32,
     "metadata": {},
     "output_type": "execute_result"
    }
   ],
   "source": [
    "smp.integrate(expr, x)"
   ]
  },
  {
   "cell_type": "markdown",
   "id": "d3a33f1d",
   "metadata": {},
   "source": [
    "$$ \\int 4\\sec(3x) \\tan(3x) dx $$"
   ]
  },
  {
   "cell_type": "code",
   "execution_count": 33,
   "id": "8ce71f60",
   "metadata": {},
   "outputs": [
    {
     "data": {
      "text/latex": [
       "$\\displaystyle 4 \\tan{\\left(3 x \\right)} \\sec{\\left(3 x \\right)}$"
      ],
      "text/plain": [
       "4*tan(3*x)*sec(3*x)"
      ]
     },
     "execution_count": 33,
     "metadata": {},
     "output_type": "execute_result"
    }
   ],
   "source": [
    "expr = 4 * smp.sec(3*x) * smp.tan(3*x)\n",
    "expr"
   ]
  },
  {
   "cell_type": "code",
   "execution_count": 34,
   "id": "b1bc62ae",
   "metadata": {},
   "outputs": [
    {
     "data": {
      "text/latex": [
       "$\\displaystyle \\frac{4}{3 \\cos{\\left(3 x \\right)}}$"
      ],
      "text/plain": [
       "4/(3*cos(3*x))"
      ]
     },
     "execution_count": 34,
     "metadata": {},
     "output_type": "execute_result"
    }
   ],
   "source": [
    "smp.integrate(expr, x)"
   ]
  },
  {
   "cell_type": "markdown",
   "id": "47a1f2e7",
   "metadata": {},
   "source": [
    "$$ \\int \\left( \\frac{2}{\\sqrt{1-x^2}} - \\frac{1}{x^{{\\frac{1}{4}}}} \\right) dx $$"
   ]
  },
  {
   "cell_type": "code",
   "execution_count": 36,
   "id": "a7cd5b97",
   "metadata": {},
   "outputs": [
    {
     "data": {
      "text/latex": [
       "$\\displaystyle \\frac{2}{\\sqrt{1 - x^{2}}} - \\frac{1}{\\sqrt[4]{x}}$"
      ],
      "text/plain": [
       "2/sqrt(1 - x**2) - 1/x**(1/4)"
      ]
     },
     "execution_count": 36,
     "metadata": {},
     "output_type": "execute_result"
    }
   ],
   "source": [
    "expr = 2/smp.sqrt(1-x**2) - (1 / x**(smp.Rational(1,4)))\n",
    "expr"
   ]
  },
  {
   "cell_type": "code",
   "execution_count": 37,
   "id": "e7dcaa99",
   "metadata": {},
   "outputs": [
    {
     "data": {
      "text/latex": [
       "$\\displaystyle - \\frac{4 x^{\\frac{3}{4}}}{3} + 2 \\operatorname{asin}{\\left(x \\right)}$"
      ],
      "text/plain": [
       "-4*x**(3/4)/3 + 2*asin(x)"
      ]
     },
     "execution_count": 37,
     "metadata": {},
     "output_type": "execute_result"
    }
   ],
   "source": [
    "smp.integrate(expr, x)"
   ]
  },
  {
   "cell_type": "markdown",
   "id": "5a7d5c8c",
   "metadata": {},
   "source": [
    "## Initial value"
   ]
  },
  {
   "cell_type": "markdown",
   "id": "c6e9e565",
   "metadata": {},
   "source": [
    "Given $$ \\frac{dy}{dx} = 8x + \\csc^2(x) $$ \n",
    "with $$ y(\\frac{\\pi}{2}) = -7 $$\n",
    "solve for $y(x)$"
   ]
  },
  {
   "cell_type": "code",
   "execution_count": 38,
   "id": "963deee8",
   "metadata": {},
   "outputs": [
    {
     "data": {
      "text/latex": [
       "$\\displaystyle 8 x + \\csc^{2}{\\left(x \\right)}$"
      ],
      "text/plain": [
       "8*x + csc(x)**2"
      ]
     },
     "execution_count": 38,
     "metadata": {},
     "output_type": "execute_result"
    }
   ],
   "source": [
    "expr = 8*x + smp.csc(x)**2\n",
    "expr"
   ]
  },
  {
   "cell_type": "code",
   "execution_count": 39,
   "id": "a4dd92e1",
   "metadata": {},
   "outputs": [
    {
     "data": {
      "text/latex": [
       "$\\displaystyle 4 x^{2} - \\frac{\\cos{\\left(x \\right)}}{\\sin{\\left(x \\right)}}$"
      ],
      "text/plain": [
       "4*x**2 - cos(x)/sin(x)"
      ]
     },
     "execution_count": 39,
     "metadata": {},
     "output_type": "execute_result"
    }
   ],
   "source": [
    "integral = smp.integrate(expr, x)\n",
    "integral"
   ]
  },
  {
   "cell_type": "code",
   "execution_count": 47,
   "id": "3ba4212d",
   "metadata": {},
   "outputs": [
    {
     "data": {
      "text/latex": [
       "$\\displaystyle -7 + \\pi^{2}$"
      ],
      "text/plain": [
       "-7 + pi**2"
      ]
     },
     "execution_count": 47,
     "metadata": {},
     "output_type": "execute_result"
    }
   ],
   "source": [
    "# find constant c\n",
    "# dy/dx = expr\n",
    "# y = integral + c\n",
    "\n",
    "# y(pi/2) = -7\n",
    "# integral(pi/2) + c = -7\n",
    "# c = -integral(pi/2) -7\n",
    "\n",
    "C = integral.subs(x, smp.pi/2) - 7 \n",
    "C"
   ]
  },
  {
   "cell_type": "code",
   "execution_count": 48,
   "id": "1df8b189",
   "metadata": {},
   "outputs": [
    {
     "data": {
      "text/latex": [
       "$\\displaystyle 4 x^{2} - 7 + \\pi^{2} - \\frac{\\cos{\\left(x \\right)}}{\\sin{\\left(x \\right)}}$"
      ],
      "text/plain": [
       "4*x**2 - 7 + pi**2 - cos(x)/sin(x)"
      ]
     },
     "execution_count": 48,
     "metadata": {},
     "output_type": "execute_result"
    }
   ],
   "source": [
    "y_x = integral + C\n",
    "y_x"
   ]
  },
  {
   "cell_type": "markdown",
   "id": "a06d6421",
   "metadata": {},
   "source": [
    "## Complicated expression"
   ]
  },
  {
   "cell_type": "markdown",
   "id": "721f8c2f",
   "metadata": {},
   "source": [
    "$$ \\int \\frac{(1 + \\sqrt{x})^\\frac{1}{3}}{\\sqrt{x}} dx $$"
   ]
  },
  {
   "cell_type": "code",
   "execution_count": 51,
   "id": "784aeb0b",
   "metadata": {},
   "outputs": [
    {
     "data": {
      "text/latex": [
       "$\\displaystyle \\frac{\\sqrt[3]{\\sqrt{x} + 1}}{\\sqrt{x}}$"
      ],
      "text/plain": [
       "(sqrt(x) + 1)**(1/3)/sqrt(x)"
      ]
     },
     "execution_count": 51,
     "metadata": {},
     "output_type": "execute_result"
    }
   ],
   "source": [
    "expr = (1 + smp.sqrt(x))**(smp.Rational(1,3)) / smp.sqrt(x)\n",
    "expr"
   ]
  },
  {
   "cell_type": "code",
   "execution_count": 52,
   "id": "96bb3154",
   "metadata": {},
   "outputs": [
    {
     "data": {
      "text/latex": [
       "$\\displaystyle \\frac{3 \\sqrt{x} \\sqrt[3]{\\sqrt{x} + 1}}{2} + \\frac{3 \\sqrt[3]{\\sqrt{x} + 1}}{2}$"
      ],
      "text/plain": [
       "3*sqrt(x)*(sqrt(x) + 1)**(1/3)/2 + 3*(sqrt(x) + 1)**(1/3)/2"
      ]
     },
     "execution_count": 52,
     "metadata": {},
     "output_type": "execute_result"
    }
   ],
   "source": [
    "smp.integrate(expr)"
   ]
  },
  {
   "cell_type": "markdown",
   "id": "72406877",
   "metadata": {},
   "source": [
    "$$\\int x(1-x^2)^{1/4}dx$$"
   ]
  },
  {
   "cell_type": "code",
   "execution_count": 55,
   "id": "510d666d",
   "metadata": {},
   "outputs": [
    {
     "data": {
      "text/latex": [
       "$\\displaystyle x \\sqrt[4]{1 - x^{2}}$"
      ],
      "text/plain": [
       "x*(1 - x**2)**(1/4)"
      ]
     },
     "execution_count": 55,
     "metadata": {},
     "output_type": "execute_result"
    }
   ],
   "source": [
    "expr = x * (1 - x**2) **smp.Rational(1,4)\n",
    "expr"
   ]
  },
  {
   "cell_type": "code",
   "execution_count": 56,
   "id": "e09ac6ca",
   "metadata": {},
   "outputs": [
    {
     "data": {
      "text/latex": [
       "$\\displaystyle \\frac{2 x^{2} \\sqrt[4]{1 - x^{2}}}{5} - \\frac{2 \\sqrt[4]{1 - x^{2}}}{5}$"
      ],
      "text/plain": [
       "2*x**2*(1 - x**2)**(1/4)/5 - 2*(1 - x**2)**(1/4)/5"
      ]
     },
     "execution_count": 56,
     "metadata": {},
     "output_type": "execute_result"
    }
   ],
   "source": [
    "smp.integrate(expr, x)"
   ]
  },
  {
   "cell_type": "markdown",
   "id": "73bb88ba",
   "metadata": {},
   "source": [
    "$$\\int \\frac{(2x-1) \\cos(\\sqrt{3(2x-1)^2 + 6})}{\\sqrt{3(2x-1)^2 + 6}} dx$$"
   ]
  },
  {
   "cell_type": "code",
   "execution_count": 59,
   "id": "82290663",
   "metadata": {},
   "outputs": [
    {
     "data": {
      "text/latex": [
       "$\\displaystyle \\frac{\\left(2 x - 1\\right) \\cos{\\left(\\sqrt{3 \\left(2 x - 1\\right)^{2} + 6} \\right)}}{\\sqrt{3 \\left(2 x - 1\\right)^{2} + 6}}$"
      ],
      "text/plain": [
       "(2*x - 1)*cos(sqrt(3*(2*x - 1)**2 + 6))/sqrt(3*(2*x - 1)**2 + 6)"
      ]
     },
     "execution_count": 59,
     "metadata": {},
     "output_type": "execute_result"
    }
   ],
   "source": [
    "expr = ((2*x-1) * smp.cos(smp.sqrt(3*(2*x-1)**2 +6))) / smp.sqrt(3*(2*x-1)**2 +6)\n",
    "expr"
   ]
  },
  {
   "cell_type": "code",
   "execution_count": 60,
   "id": "77f8ea68",
   "metadata": {},
   "outputs": [
    {
     "data": {
      "text/latex": [
       "$\\displaystyle \\frac{\\sin{\\left(\\sqrt{3 \\left(2 x - 1\\right)^{2} + 6} \\right)}}{6}$"
      ],
      "text/plain": [
       "sin(sqrt(3*(2*x - 1)**2 + 6))/6"
      ]
     },
     "execution_count": 60,
     "metadata": {},
     "output_type": "execute_result"
    }
   ],
   "source": [
    "smp.integrate(expr, x)"
   ]
  },
  {
   "cell_type": "markdown",
   "id": "a8a8efe4",
   "metadata": {},
   "source": [
    "## Definite integrals"
   ]
  },
  {
   "cell_type": "markdown",
   "id": "abfb2336",
   "metadata": {},
   "source": [
    "$$\\int_0^{\\ln(4)} \\frac{e^x}{\\sqrt{e^{2x}+9}} dx$$"
   ]
  },
  {
   "cell_type": "code",
   "execution_count": 63,
   "id": "2c9a9c3c",
   "metadata": {},
   "outputs": [
    {
     "data": {
      "text/latex": [
       "$\\displaystyle \\frac{e^{x}}{\\sqrt{e^{2 x} + 9}}$"
      ],
      "text/plain": [
       "exp(x)/sqrt(exp(2*x) + 9)"
      ]
     },
     "execution_count": 63,
     "metadata": {},
     "output_type": "execute_result"
    }
   ],
   "source": [
    "expr = smp.exp(x) / (smp.sqrt(smp.exp(2*x)+9))\n",
    "expr"
   ]
  },
  {
   "cell_type": "code",
   "execution_count": 64,
   "id": "da9581c7",
   "metadata": {},
   "outputs": [
    {
     "data": {
      "text/latex": [
       "$\\displaystyle - \\operatorname{asinh}{\\left(\\frac{1}{3} \\right)} + \\operatorname{asinh}{\\left(\\frac{4}{3} \\right)}$"
      ],
      "text/plain": [
       "-asinh(1/3) + asinh(4/3)"
      ]
     },
     "execution_count": 64,
     "metadata": {},
     "output_type": "execute_result"
    }
   ],
   "source": [
    "smp.integrate(expr, (x, 0, smp.log(4)))"
   ]
  },
  {
   "cell_type": "markdown",
   "id": "200f1b26",
   "metadata": {},
   "source": [
    "$$\\int_1^t x^{10} e^x dx$$"
   ]
  },
  {
   "cell_type": "code",
   "execution_count": 66,
   "id": "e2f0ae89",
   "metadata": {},
   "outputs": [],
   "source": [
    "t = smp.symbols('t')"
   ]
  },
  {
   "cell_type": "code",
   "execution_count": 65,
   "id": "face8958",
   "metadata": {},
   "outputs": [
    {
     "data": {
      "text/latex": [
       "$\\displaystyle x^{10} e^{x}$"
      ],
      "text/plain": [
       "x**10*exp(x)"
      ]
     },
     "execution_count": 65,
     "metadata": {},
     "output_type": "execute_result"
    }
   ],
   "source": [
    "expr = x**10 * smp.exp(x)\n",
    "expr"
   ]
  },
  {
   "cell_type": "code",
   "execution_count": 67,
   "id": "d6ccd877",
   "metadata": {},
   "outputs": [
    {
     "data": {
      "text/latex": [
       "$\\displaystyle \\left(t^{10} - 10 t^{9} + 90 t^{8} - 720 t^{7} + 5040 t^{6} - 30240 t^{5} + 151200 t^{4} - 604800 t^{3} + 1814400 t^{2} - 3628800 t + 3628800\\right) e^{t} - 1334961 e$"
      ],
      "text/plain": [
       "(t**10 - 10*t**9 + 90*t**8 - 720*t**7 + 5040*t**6 - 30240*t**5 + 151200*t**4 - 604800*t**3 + 1814400*t**2 - 3628800*t + 3628800)*exp(t) - 1334961*E"
      ]
     },
     "execution_count": 67,
     "metadata": {},
     "output_type": "execute_result"
    }
   ],
   "source": [
    "smp.integrate(expr, (x, 1, t))"
   ]
  },
  {
   "cell_type": "markdown",
   "id": "105bd023",
   "metadata": {},
   "source": [
    "$$\\int_0^\\infty \\frac{16 \\tan^{-1} (x)}{1+x^2} dx$$"
   ]
  },
  {
   "cell_type": "code",
   "execution_count": 72,
   "id": "8194daac",
   "metadata": {},
   "outputs": [
    {
     "data": {
      "text/latex": [
       "$\\displaystyle \\frac{16 \\operatorname{atan}{\\left(x \\right)}}{x^{2} + 1}$"
      ],
      "text/plain": [
       "16*atan(x)/(x**2 + 1)"
      ]
     },
     "execution_count": 72,
     "metadata": {},
     "output_type": "execute_result"
    }
   ],
   "source": [
    "expr = (16 * smp.atan(x)) / (1 + x**2)\n",
    "expr"
   ]
  },
  {
   "cell_type": "code",
   "execution_count": 73,
   "id": "a4686573",
   "metadata": {},
   "outputs": [
    {
     "data": {
      "text/latex": [
       "$\\displaystyle 2 \\pi^{2}$"
      ],
      "text/plain": [
       "2*pi**2"
      ]
     },
     "execution_count": 73,
     "metadata": {},
     "output_type": "execute_result"
    }
   ],
   "source": [
    "smp.integrate(expr, (x, 0, smp.oo)).doit()"
   ]
  },
  {
   "cell_type": "markdown",
   "id": "517970ec",
   "metadata": {},
   "source": [
    "# Series"
   ]
  },
  {
   "cell_type": "code",
   "execution_count": 74,
   "id": "2b2f7c90",
   "metadata": {},
   "outputs": [],
   "source": [
    "n = smp.symbols('n')"
   ]
  },
  {
   "cell_type": "markdown",
   "id": "b3873311",
   "metadata": {},
   "source": [
    "$$\\sum_{n=0}^{\\infty} \\frac{6}{4^n}$$"
   ]
  },
  {
   "cell_type": "code",
   "execution_count": 75,
   "id": "b6290c91",
   "metadata": {},
   "outputs": [
    {
     "data": {
      "text/latex": [
       "$\\displaystyle 6 \\cdot 4^{- n}$"
      ],
      "text/plain": [
       "6/4**n"
      ]
     },
     "execution_count": 75,
     "metadata": {},
     "output_type": "execute_result"
    }
   ],
   "source": [
    "expr = 6/4**n\n",
    "expr"
   ]
  },
  {
   "cell_type": "code",
   "execution_count": 76,
   "id": "1bfb1a98",
   "metadata": {},
   "outputs": [
    {
     "data": {
      "text/latex": [
       "$\\displaystyle 8$"
      ],
      "text/plain": [
       "8"
      ]
     },
     "execution_count": 76,
     "metadata": {},
     "output_type": "execute_result"
    }
   ],
   "source": [
    "smp.summation(expr, (n, 0, smp.oo))"
   ]
  },
  {
   "cell_type": "markdown",
   "id": "b441cfdc",
   "metadata": {},
   "source": [
    "$$\\sum_{n=0}^{\\infty} \\frac{2^{n+1}}{5^n}$$"
   ]
  },
  {
   "cell_type": "code",
   "execution_count": 77,
   "id": "74449090",
   "metadata": {},
   "outputs": [
    {
     "data": {
      "text/latex": [
       "$\\displaystyle 2^{n + 1} \\cdot 5^{- n}$"
      ],
      "text/plain": [
       "2**(n + 1)/5**n"
      ]
     },
     "execution_count": 77,
     "metadata": {},
     "output_type": "execute_result"
    }
   ],
   "source": [
    "expr = 2**(n+1) / (5**n)\n",
    "expr"
   ]
  },
  {
   "cell_type": "code",
   "execution_count": 78,
   "id": "a37439e9",
   "metadata": {},
   "outputs": [
    {
     "data": {
      "text/latex": [
       "$\\displaystyle \\frac{10}{3}$"
      ],
      "text/plain": [
       "10/3"
      ]
     },
     "execution_count": 78,
     "metadata": {},
     "output_type": "execute_result"
    }
   ],
   "source": [
    "smp.summation(expr, (n, 0, smp.oo))"
   ]
  },
  {
   "cell_type": "markdown",
   "id": "55e3e8af",
   "metadata": {},
   "source": [
    "$$\\sum_{n=1}^{\\infty} \\frac{\\tan^{-1}(n)}{n^{1.1}}$$"
   ]
  },
  {
   "cell_type": "code",
   "execution_count": 87,
   "id": "2c2edc94",
   "metadata": {},
   "outputs": [
    {
     "data": {
      "text/latex": [
       "$\\displaystyle \\frac{\\operatorname{atan}{\\left(n \\right)}}{n^{\\frac{11}{10}}}$"
      ],
      "text/plain": [
       "atan(n)/n**(11/10)"
      ]
     },
     "execution_count": 87,
     "metadata": {},
     "output_type": "execute_result"
    }
   ],
   "source": [
    "expr = smp.atan(n) / n**(smp.Rational(11,10))\n",
    "expr"
   ]
  },
  {
   "cell_type": "code",
   "execution_count": 90,
   "id": "76fb60e5",
   "metadata": {},
   "outputs": [
    {
     "data": {
      "text/latex": [
       "$\\displaystyle \\sum_{n=1}^{\\infty} \\frac{\\operatorname{atan}{\\left(n \\right)}}{n^{\\frac{11}{10}}}$"
      ],
      "text/plain": [
       "Sum(atan(n)/n**(11/10), (n, 1, oo))"
      ]
     },
     "execution_count": 90,
     "metadata": {},
     "output_type": "execute_result"
    }
   ],
   "source": [
    "smp.summation(expr, (n, 1, smp.oo))"
   ]
  },
  {
   "cell_type": "code",
   "execution_count": 91,
   "id": "73235f24",
   "metadata": {},
   "outputs": [
    {
     "data": {
      "text/latex": [
       "$\\displaystyle 15.3028821020457$"
      ],
      "text/plain": [
       "15.3028821020457"
      ]
     },
     "execution_count": 91,
     "metadata": {},
     "output_type": "execute_result"
    }
   ],
   "source": [
    "smp.summation(expr, (n, 1, smp.oo)).n()"
   ]
  },
  {
   "cell_type": "markdown",
   "id": "88868987",
   "metadata": {},
   "source": [
    "$$\\sum_{n=1}^{\\infty} \\frac{1+\\cos(n)}{n^2}$$"
   ]
  },
  {
   "cell_type": "code",
   "execution_count": 83,
   "id": "600d8e9a",
   "metadata": {},
   "outputs": [
    {
     "data": {
      "text/latex": [
       "$\\displaystyle \\frac{\\cos{\\left(n \\right)} + 1}{n^{2}}$"
      ],
      "text/plain": [
       "(cos(n) + 1)/n**2"
      ]
     },
     "execution_count": 83,
     "metadata": {},
     "output_type": "execute_result"
    }
   ],
   "source": [
    "expr = (1 + smp.cos(n)) / n**2\n",
    "expr"
   ]
  },
  {
   "cell_type": "code",
   "execution_count": 86,
   "id": "9cd24c02",
   "metadata": {},
   "outputs": [
    {
     "data": {
      "text/latex": [
       "$\\displaystyle \\sum_{n=1}^{\\infty} \\frac{\\cos{\\left(n \\right)} + 1}{n^{2}}$"
      ],
      "text/plain": [
       "Sum((cos(n) + 1)/n**2, (n, 1, oo))"
      ]
     },
     "execution_count": 86,
     "metadata": {},
     "output_type": "execute_result"
    }
   ],
   "source": [
    "# cannot find the exact answer\n",
    "\n",
    "smp.summation(expr, (n, 1, smp.oo))"
   ]
  },
  {
   "cell_type": "code",
   "execution_count": 85,
   "id": "9d5e72b9",
   "metadata": {},
   "outputs": [
    {
     "data": {
      "text/latex": [
       "$\\displaystyle 1.969$"
      ],
      "text/plain": [
       "1.969"
      ]
     },
     "execution_count": 85,
     "metadata": {},
     "output_type": "execute_result"
    }
   ],
   "source": [
    "# use .n() approximate\n",
    " \n",
    "smp.summation(expr, (n, 1, smp.oo)).n()"
   ]
  },
  {
   "cell_type": "code",
   "execution_count": null,
   "id": "bd0cef9c",
   "metadata": {},
   "outputs": [],
   "source": []
  }
 ],
 "metadata": {
  "kernelspec": {
   "display_name": "Python 3.8.8 64-bit ('DL': conda)",
   "language": "python",
   "name": "python388jvsc74a57bd05f58e7dbcddfdb99f90b0447783d5390db8cd74aa541842f8b458cd6f0565a39"
  },
  "language_info": {
   "codemirror_mode": {
    "name": "ipython",
    "version": 3
   },
   "file_extension": ".py",
   "mimetype": "text/x-python",
   "name": "python",
   "nbconvert_exporter": "python",
   "pygments_lexer": "ipython3",
   "version": "3.8.8"
  }
 },
 "nbformat": 4,
 "nbformat_minor": 5
}
