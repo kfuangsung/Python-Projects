{
 "cells": [
  {
   "cell_type": "markdown",
   "id": "0b5bee5a",
   "metadata": {},
   "source": [
    "# Basic usage"
   ]
  },
  {
   "cell_type": "code",
   "execution_count": 1,
   "id": "078b6de2",
   "metadata": {},
   "outputs": [],
   "source": [
    "import sympy as smp\n",
    "import numpy as np \n",
    "import matplotlib.pyplot as plt \n",
    "\n",
    "plt.style.use('bmh')"
   ]
  },
  {
   "cell_type": "code",
   "execution_count": 2,
   "id": "9e05bba7",
   "metadata": {},
   "outputs": [],
   "source": [
    "# define variable x\n",
    "\n",
    "x = smp.symbols('x')"
   ]
  },
  {
   "cell_type": "code",
   "execution_count": 3,
   "id": "d97e83ba",
   "metadata": {},
   "outputs": [
    {
     "data": {
      "text/latex": [
       "$\\displaystyle x$"
      ],
      "text/plain": [
       "x"
      ]
     },
     "execution_count": 3,
     "metadata": {},
     "output_type": "execute_result"
    }
   ],
   "source": [
    "x"
   ]
  },
  {
   "cell_type": "code",
   "execution_count": 4,
   "id": "ab617e2c",
   "metadata": {},
   "outputs": [
    {
     "data": {
      "text/latex": [
       "$\\displaystyle x^{2}$"
      ],
      "text/plain": [
       "x**2"
      ]
     },
     "execution_count": 4,
     "metadata": {},
     "output_type": "execute_result"
    }
   ],
   "source": [
    "x**2"
   ]
  },
  {
   "cell_type": "code",
   "execution_count": 5,
   "id": "3f17b866",
   "metadata": {},
   "outputs": [
    {
     "data": {
      "text/latex": [
       "$\\displaystyle \\sin{\\left(x \\right)}$"
      ],
      "text/plain": [
       "sin(x)"
      ]
     },
     "execution_count": 5,
     "metadata": {},
     "output_type": "execute_result"
    }
   ],
   "source": [
    "smp.sin(x)"
   ]
  },
  {
   "cell_type": "code",
   "execution_count": 6,
   "id": "6ce4a97d",
   "metadata": {},
   "outputs": [
    {
     "data": {
      "text/latex": [
       "$\\displaystyle x^{2} + 4 x + 3$"
      ],
      "text/plain": [
       "x**2 + 4*x + 3"
      ]
     },
     "execution_count": 6,
     "metadata": {},
     "output_type": "execute_result"
    }
   ],
   "source": [
    "# can store expression inside another variable\n",
    "\n",
    "y = x**2 + 4*x + 3\n",
    "y "
   ]
  },
  {
   "cell_type": "code",
   "execution_count": 7,
   "id": "2d0d717e",
   "metadata": {},
   "outputs": [
    {
     "data": {
      "text/latex": [
       "$\\displaystyle \\left(x^{2} + 4 x + 3\\right)^{2}$"
      ],
      "text/plain": [
       "(x**2 + 4*x + 3)**2"
      ]
     },
     "execution_count": 7,
     "metadata": {},
     "output_type": "execute_result"
    }
   ],
   "source": [
    "z = y**2\n",
    "z "
   ]
  },
  {
   "cell_type": "code",
   "execution_count": 8,
   "id": "f828e4d9",
   "metadata": {},
   "outputs": [
    {
     "data": {
      "text/latex": [
       "$\\displaystyle \\left(x + 1\\right)^{2} \\left(x + 3\\right)^{2}$"
      ],
      "text/plain": [
       "(x + 1)**2*(x + 3)**2"
      ]
     },
     "execution_count": 8,
     "metadata": {},
     "output_type": "execute_result"
    }
   ],
   "source": [
    "# factoring \n",
    "\n",
    "z.factor()"
   ]
  },
  {
   "cell_type": "code",
   "execution_count": 9,
   "id": "1227c8a6",
   "metadata": {},
   "outputs": [
    {
     "data": {
      "text/latex": [
       "$\\displaystyle x^{4} + 8 x^{3} + 22 x^{2} + 24 x + 9$"
      ],
      "text/plain": [
       "x**4 + 8*x**3 + 22*x**2 + 24*x + 9"
      ]
     },
     "execution_count": 9,
     "metadata": {},
     "output_type": "execute_result"
    }
   ],
   "source": [
    "# expanding expression\n",
    "\n",
    "z.expand()"
   ]
  },
  {
   "cell_type": "markdown",
   "id": "d8b371e3",
   "metadata": {},
   "source": [
    "# Solve equations"
   ]
  },
  {
   "cell_type": "markdown",
   "id": "e6db40e8",
   "metadata": {},
   "source": [
    "```smp.solve(f, x)```\n",
    "will find $x$ that makes $f(x) = 0$<br>\n",
    "Hence, it's important to rearrange the equation so that $f(x) = 0$ "
   ]
  },
  {
   "cell_type": "code",
   "execution_count": 10,
   "id": "9c0413ed",
   "metadata": {},
   "outputs": [
    {
     "data": {
      "text/plain": [
       "[-3, -1]"
      ]
     },
     "execution_count": 10,
     "metadata": {},
     "output_type": "execute_result"
    }
   ],
   "source": [
    "smp.solve(z, x)"
   ]
  },
  {
   "cell_type": "code",
   "execution_count": 11,
   "id": "bcb70a5d",
   "metadata": {},
   "outputs": [
    {
     "data": {
      "text/plain": [
       "[-I, I]"
      ]
     },
     "execution_count": 11,
     "metadata": {},
     "output_type": "execute_result"
    }
   ],
   "source": [
    "smp.solve(x**2 + 1, x)"
   ]
  },
  {
   "cell_type": "code",
   "execution_count": 12,
   "id": "236b9679",
   "metadata": {},
   "outputs": [
    {
     "data": {
      "text/plain": [
       "[]"
      ]
     },
     "execution_count": 12,
     "metadata": {},
     "output_type": "execute_result"
    }
   ],
   "source": [
    "# set x to real number only before solve\n",
    "# to get only real solution\n",
    "\n",
    "x = smp.symbols('x', real=True)\n",
    "smp.solve(x**2 + 1, x)"
   ]
  },
  {
   "cell_type": "code",
   "execution_count": 13,
   "id": "9e5a41ca",
   "metadata": {},
   "outputs": [
    {
     "data": {
      "text/plain": [
       "[5/2 - sqrt(29)/2, 5/2 + sqrt(29)/2]"
      ]
     },
     "execution_count": 13,
     "metadata": {},
     "output_type": "execute_result"
    }
   ],
   "source": [
    "# get both positive/negative solutions\n",
    "\n",
    "x = smp.symbols('x')\n",
    "smp.solve(x**2 -5*x -1, x)"
   ]
  },
  {
   "cell_type": "code",
   "execution_count": 14,
   "id": "27cda926",
   "metadata": {},
   "outputs": [
    {
     "data": {
      "text/plain": [
       "[5/2 + sqrt(29)/2]"
      ]
     },
     "execution_count": 14,
     "metadata": {},
     "output_type": "execute_result"
    }
   ],
   "source": [
    "# only positive solution\n",
    "\n",
    "x = smp.symbols('x', positive=True)\n",
    "smp.solve(x**2 -5*x -1, x)"
   ]
  },
  {
   "cell_type": "code",
   "execution_count": 15,
   "id": "33cf208a",
   "metadata": {},
   "outputs": [
    {
     "data": {
      "text/plain": [
       "[5/2 - sqrt(29)/2]"
      ]
     },
     "execution_count": 15,
     "metadata": {},
     "output_type": "execute_result"
    }
   ],
   "source": [
    "# only negative solution\n",
    "\n",
    "x = smp.symbols('x', positive=False)\n",
    "smp.solve(x**2 -5*x -1, x)"
   ]
  },
  {
   "cell_type": "code",
   "execution_count": 16,
   "id": "0d743cc8",
   "metadata": {},
   "outputs": [],
   "source": [
    "# define multiple variables at once\n",
    "\n",
    "x, y, z = smp.symbols('x y z')"
   ]
  },
  {
   "cell_type": "code",
   "execution_count": 17,
   "id": "f0f3fa5d",
   "metadata": {},
   "outputs": [
    {
     "data": {
      "text/latex": [
       "$\\displaystyle x^{2} + y \\sin{\\left(z \\right)}$"
      ],
      "text/plain": [
       "x**2 + y*sin(z)"
      ]
     },
     "execution_count": 17,
     "metadata": {},
     "output_type": "execute_result"
    }
   ],
   "source": [
    "F = x**2 + y * smp.sin(z)\n",
    "F "
   ]
  },
  {
   "cell_type": "code",
   "execution_count": 18,
   "id": "6a6847c4",
   "metadata": {},
   "outputs": [
    {
     "name": "stdout",
     "output_type": "stream",
     "text": [
      "x: [-sqrt(-y*sin(z)), sqrt(-y*sin(z))]\n",
      "y: [-x**2/sin(z)]\n",
      "z: [asin(x**2/y) + pi, -asin(x**2/y)]\n"
     ]
    }
   ],
   "source": [
    "# solve for specific variable\n",
    "\n",
    "x_sols = smp.solve(F, x)\n",
    "y_sols = smp.solve(F, y)\n",
    "z_sols = smp.solve(F, z)\n",
    "\n",
    "print('x:', x_sols)\n",
    "print('y:', y_sols)\n",
    "print('z:', z_sols)"
   ]
  },
  {
   "cell_type": "code",
   "execution_count": 19,
   "id": "fdfd5928",
   "metadata": {},
   "outputs": [
    {
     "data": {
      "text/latex": [
       "$\\displaystyle \\operatorname{asin}{\\left(\\frac{x^{2}}{y} \\right)} + \\pi$"
      ],
      "text/plain": [
       "asin(x**2/y) + pi"
      ]
     },
     "execution_count": 19,
     "metadata": {},
     "output_type": "execute_result"
    }
   ],
   "source": [
    "expr = z_sols[0]\n",
    "expr"
   ]
  },
  {
   "cell_type": "code",
   "execution_count": 20,
   "id": "784ceb78",
   "metadata": {},
   "outputs": [],
   "source": [
    "# turn sympy expression into function\n",
    "\n",
    "expr_f = smp.lambdify([x, y], expr) # (variables, expression)"
   ]
  },
  {
   "cell_type": "code",
   "execution_count": 21,
   "id": "ffd0bdec",
   "metadata": {},
   "outputs": [
    {
     "data": {
      "text/plain": [
       "<function _lambdifygenerated(x, y)>"
      ]
     },
     "execution_count": 21,
     "metadata": {},
     "output_type": "execute_result"
    }
   ],
   "source": [
    "expr_f"
   ]
  },
  {
   "cell_type": "code",
   "execution_count": 22,
   "id": "31b3a3a0",
   "metadata": {},
   "outputs": [
    {
     "data": {
      "text/plain": [
       "3.6651914291880923"
      ]
     },
     "execution_count": 22,
     "metadata": {},
     "output_type": "execute_result"
    }
   ],
   "source": [
    "# x=1, y=2\n",
    "\n",
    "expr_f(1, 2)"
   ]
  },
  {
   "cell_type": "code",
   "execution_count": 23,
   "id": "a8f681ce",
   "metadata": {},
   "outputs": [],
   "source": [
    "xs = np.linspace(0, 1, 100)\n",
    "\n",
    "vals = [expr_f(x, 2) for x in xs]"
   ]
  },
  {
   "cell_type": "code",
   "execution_count": 24,
   "id": "22e9de93",
   "metadata": {},
   "outputs": [
    {
     "data": {
      "image/png": "[encoded data removed]",
      "text/plain": [
       "<Figure size 432x288 with 1 Axes>"
      ]
     },
     "metadata": {
      "needs_background": "light"
     },
     "output_type": "display_data"
    }
   ],
   "source": [
    "plt.plot(xs, vals)\n",
    "plt.tight_layout()\n",
    "plt.show()"
   ]
  },
  {
   "cell_type": "code",
   "execution_count": 25,
   "id": "5cc0fe44",
   "metadata": {},
   "outputs": [
    {
     "data": {
      "text/latex": [
       "$\\displaystyle x^{2} + y \\sin{\\left(z \\right)}$"
      ],
      "text/plain": [
       "x**2 + y*sin(z)"
      ]
     },
     "execution_count": 25,
     "metadata": {},
     "output_type": "execute_result"
    }
   ],
   "source": [
    "x, y, z = smp.symbols('x y z')\n",
    "F = x**2 + y * smp.sin(z)\n",
    "F "
   ]
  },
  {
   "cell_type": "code",
   "execution_count": 26,
   "id": "d60f75f3",
   "metadata": {},
   "outputs": [
    {
     "data": {
      "text/latex": [
       "$\\displaystyle x^{2} + \\sin{\\left(y \\right)} \\cos{\\left(y \\right)}$"
      ],
      "text/plain": [
       "x**2 + sin(y)*cos(y)"
      ]
     },
     "metadata": {},
     "output_type": "display_data"
    }
   ],
   "source": [
    "# substitute varible in sympy\n",
    "\n",
    "# y = cos(z)\n",
    "# z = y\n",
    "# subs occur in order\n",
    "\n",
    "display(F.subs([(y, smp.cos(z)), (z, y)]))"
   ]
  },
  {
   "cell_type": "markdown",
   "id": "ce3f452c",
   "metadata": {},
   "source": [
    "**Example** <br>\n",
    "given two equations, <br>\n",
    "$$h_o(t) = h_0 - v_0t - \\frac{1}{2}gt^2$$ <br>\n",
    "$$h_p(t) = v_pt + \\frac{1}{2}qt^2$$ <br>\n",
    "\n",
    "solve for $t$, $v_0$ when,\n",
    "$$h_o(t) = h_p(t)$$\n",
    "$$\\frac{dh_o}{dt}(t) = -\\frac{dh_p}{dt}(t)$$"
   ]
  },
  {
   "cell_type": "code",
   "execution_count": 27,
   "id": "3ee7524b",
   "metadata": {},
   "outputs": [],
   "source": [
    "# define variables\n",
    "\n",
    "t, h0, v0, g, vp, q = smp.symbols('t h_0 v_0 g v_p q', real=True, positive=True)"
   ]
  },
  {
   "cell_type": "markdown",
   "id": "b8508045",
   "metadata": {},
   "source": [
    "use ```smp.Rational(x,y)``` for fraction"
   ]
  },
  {
   "cell_type": "code",
   "execution_count": 28,
   "id": "64f7b6b3",
   "metadata": {},
   "outputs": [
    {
     "data": {
      "text/latex": [
       "$\\displaystyle - \\frac{g t^{2}}{2} + h_{0} - t v_{0}$"
      ],
      "text/plain": [
       "-g*t**2/2 + h_0 - t*v_0"
      ]
     },
     "metadata": {},
     "output_type": "display_data"
    },
    {
     "data": {
      "text/latex": [
       "$\\displaystyle \\frac{q t^{2}}{2} + t v_{p}$"
      ],
      "text/plain": [
       "q*t**2/2 + t*v_p"
      ]
     },
     "metadata": {},
     "output_type": "display_data"
    }
   ],
   "source": [
    "# define equations\n",
    "\n",
    "h_o = h0 - v0*t - smp.Rational(1,2)*g*(t**2)\n",
    "dho_dt = g*t - v0\n",
    "\n",
    "h_p = vp*t + smp.Rational(1,2)*q*(t**2)\n",
    "dhp_dt = vp + q*t\n",
    "\n",
    "display(h_o)\n",
    "display(h_p)"
   ]
  },
  {
   "cell_type": "markdown",
   "id": "8210248a",
   "metadata": {},
   "source": [
    "rearrange so that $f(x)=0$\n",
    "$$h_o(t) - h_p(t) = 0$$\n",
    "$$\\frac{dh_o}{dt}(t) + \\frac{dh_p}{dt}(t) = 0$$"
   ]
  },
  {
   "cell_type": "code",
   "execution_count": 29,
   "id": "2943a03c",
   "metadata": {},
   "outputs": [],
   "source": [
    "cond1 = h_o - h_p\n",
    "cond2 = dho_dt + dhp_dt"
   ]
  },
  {
   "cell_type": "code",
   "execution_count": 30,
   "id": "b2d89cd2",
   "metadata": {},
   "outputs": [
    {
     "data": {
      "text/latex": [
       "$\\displaystyle - \\frac{g t^{2}}{2} + h_{0} - \\frac{q t^{2}}{2} - t v_{0} - t v_{p}$"
      ],
      "text/plain": [
       "-g*t**2/2 + h_0 - q*t**2/2 - t*v_0 - t*v_p"
      ]
     },
     "execution_count": 30,
     "metadata": {},
     "output_type": "execute_result"
    }
   ],
   "source": [
    "cond1"
   ]
  },
  {
   "cell_type": "code",
   "execution_count": 31,
   "id": "255ed93d",
   "metadata": {},
   "outputs": [
    {
     "data": {
      "text/latex": [
       "$\\displaystyle g t + q t - v_{0} + v_{p}$"
      ],
      "text/plain": [
       "g*t + q*t - v_0 + v_p"
      ]
     },
     "execution_count": 31,
     "metadata": {},
     "output_type": "execute_result"
    }
   ],
   "source": [
    "cond2"
   ]
  },
  {
   "cell_type": "code",
   "execution_count": 32,
   "id": "dc2db00a",
   "metadata": {},
   "outputs": [
    {
     "data": {
      "text/plain": [
       "[((-2*v_p/3 + sqrt(2)*sqrt(3*g*h_0 + 3*h_0*q + 2*v_p**2)/3)/(g + q),\n",
       "  v_p/3 + sqrt(2)*sqrt(3*g*h_0 + 3*h_0*q + 2*v_p**2)/3)]"
      ]
     },
     "execution_count": 32,
     "metadata": {},
     "output_type": "execute_result"
    }
   ],
   "source": [
    "# return as [(t, v0)]\n",
    "\n",
    "smp.solve([cond1, cond2], [t, v0])"
   ]
  },
  {
   "cell_type": "code",
   "execution_count": 33,
   "id": "64ec5e2c",
   "metadata": {},
   "outputs": [],
   "source": [
    "t_sol, v_sol = smp.solve([cond1, cond2], [t, v0])[0]"
   ]
  },
  {
   "cell_type": "code",
   "execution_count": 34,
   "id": "5bd9a5e1",
   "metadata": {},
   "outputs": [
    {
     "data": {
      "text/latex": [
       "$\\displaystyle \\frac{- \\frac{2 v_{p}}{3} + \\frac{\\sqrt{2} \\sqrt{3 g h_{0} + 3 h_{0} q + 2 v_{p}^{2}}}{3}}{g + q}$"
      ],
      "text/plain": [
       "(-2*v_p/3 + sqrt(2)*sqrt(3*g*h_0 + 3*h_0*q + 2*v_p**2)/3)/(g + q)"
      ]
     },
     "execution_count": 34,
     "metadata": {},
     "output_type": "execute_result"
    }
   ],
   "source": [
    "t_sol"
   ]
  },
  {
   "cell_type": "code",
   "execution_count": 35,
   "id": "72f97fe1",
   "metadata": {},
   "outputs": [
    {
     "data": {
      "text/latex": [
       "$\\displaystyle \\frac{v_{p}}{3} + \\frac{\\sqrt{2} \\sqrt{3 g h_{0} + 3 h_{0} q + 2 v_{p}^{2}}}{3}$"
      ],
      "text/plain": [
       "v_p/3 + sqrt(2)*sqrt(3*g*h_0 + 3*h_0*q + 2*v_p**2)/3"
      ]
     },
     "execution_count": 35,
     "metadata": {},
     "output_type": "execute_result"
    }
   ],
   "source": [
    "v_sol"
   ]
  },
  {
   "cell_type": "markdown",
   "id": "f78e1567",
   "metadata": {},
   "source": [
    "use ```.simplify()``` to simplify the expression"
   ]
  },
  {
   "cell_type": "code",
   "execution_count": 36,
   "id": "ca95c4f2",
   "metadata": {},
   "outputs": [
    {
     "data": {
      "text/latex": [
       "$\\displaystyle \\frac{g \\left(- \\frac{2 v_{p}}{3} + \\frac{\\sqrt{2} \\sqrt{3 g h_{0} + 3 h_{0} q + 2 v_{p}^{2}}}{3}\\right)}{g + q} - \\frac{v_{p}}{3} - \\frac{\\sqrt{2} \\sqrt{3 g h_{0} + 3 h_{0} q + 2 v_{p}^{2}}}{3}$"
      ],
      "text/plain": [
       "g*(-2*v_p/3 + sqrt(2)*sqrt(3*g*h_0 + 3*h_0*q + 2*v_p**2)/3)/(g + q) - v_p/3 - sqrt(2)*sqrt(3*g*h_0 + 3*h_0*q + 2*v_p**2)/3"
      ]
     },
     "execution_count": 36,
     "metadata": {},
     "output_type": "execute_result"
    }
   ],
   "source": [
    "dho_dt.subs([(t, t_sol), (v0, v_sol)])"
   ]
  },
  {
   "cell_type": "code",
   "execution_count": 37,
   "id": "02daa7e3",
   "metadata": {
    "scrolled": true
   },
   "outputs": [
    {
     "data": {
      "text/latex": [
       "$\\displaystyle \\frac{- g v_{p} - \\frac{q v_{p}}{3} - \\frac{q \\sqrt{6 g h_{0} + 6 h_{0} q + 4 v_{p}^{2}}}{3}}{g + q}$"
      ],
      "text/plain": [
       "(-g*v_p - q*v_p/3 - q*sqrt(6*g*h_0 + 6*h_0*q + 4*v_p**2)/3)/(g + q)"
      ]
     },
     "execution_count": 37,
     "metadata": {},
     "output_type": "execute_result"
    }
   ],
   "source": [
    "dho_dt.subs([(t, t_sol), (v0, v_sol)]).simplify()"
   ]
  },
  {
   "cell_type": "code",
   "execution_count": 38,
   "id": "6f1a7888",
   "metadata": {},
   "outputs": [
    {
     "data": {
      "text/latex": [
       "$\\displaystyle \\frac{g v_{p} + \\frac{q v_{p}}{3} + \\frac{q \\sqrt{6 g h_{0} + 6 h_{0} q + 4 v_{p}^{2}}}{3}}{g + q}$"
      ],
      "text/plain": [
       "(g*v_p + q*v_p/3 + q*sqrt(6*g*h_0 + 6*h_0*q + 4*v_p**2)/3)/(g + q)"
      ]
     },
     "execution_count": 38,
     "metadata": {},
     "output_type": "execute_result"
    }
   ],
   "source": [
    "dhp_dt.subs([(t, t_sol), (v0, v_sol)]).simplify()"
   ]
  },
  {
   "cell_type": "markdown",
   "id": "4f267697",
   "metadata": {},
   "source": [
    "# Calculus"
   ]
  },
  {
   "cell_type": "code",
   "execution_count": 39,
   "id": "bdf01eaf",
   "metadata": {},
   "outputs": [],
   "source": [
    "x = smp.symbols('x')"
   ]
  },
  {
   "cell_type": "markdown",
   "id": "a7da959e",
   "metadata": {},
   "source": [
    "## Limit"
   ]
  },
  {
   "cell_type": "markdown",
   "id": "5c865110",
   "metadata": {},
   "source": [
    "$$ \\lim_{x \\rightarrow \\pi} \\sin(\\frac{x}{2} + \\sin(x))$$"
   ]
  },
  {
   "cell_type": "code",
   "execution_count": 40,
   "id": "22dd11af",
   "metadata": {},
   "outputs": [
    {
     "data": {
      "text/latex": [
       "$\\displaystyle \\sin{\\left(\\frac{x}{2} + \\sin{\\left(x \\right)} \\right)}$"
      ],
      "text/plain": [
       "sin(x/2 + sin(x))"
      ]
     },
     "execution_count": 40,
     "metadata": {},
     "output_type": "execute_result"
    }
   ],
   "source": [
    "# limits\n",
    "\n",
    "expr = smp.sin(x/2 +  smp.sin(x))\n",
    "expr"
   ]
  },
  {
   "cell_type": "code",
   "execution_count": 41,
   "id": "3b507c19",
   "metadata": {},
   "outputs": [
    {
     "data": {
      "text/latex": [
       "$\\displaystyle 1$"
      ],
      "text/plain": [
       "1"
      ]
     },
     "execution_count": 41,
     "metadata": {},
     "output_type": "execute_result"
    }
   ],
   "source": [
    "# limit as x approaches Pi\n",
    "\n",
    "smp.limit(expr, x, smp.pi)"
   ]
  },
  {
   "cell_type": "markdown",
   "id": "7c6b9c83",
   "metadata": {},
   "source": [
    "## Derivatives"
   ]
  },
  {
   "cell_type": "markdown",
   "id": "6658e4dd",
   "metadata": {},
   "source": [
    "$$ \\frac{d}{dx} \\left( \\frac{1+\\sin x}{1- \\cos x} \\right) ^2 $$"
   ]
  },
  {
   "cell_type": "code",
   "execution_count": 42,
   "id": "c30862fc",
   "metadata": {},
   "outputs": [
    {
     "data": {
      "text/latex": [
       "$\\displaystyle \\frac{\\left(\\sin{\\left(x \\right)} + 1\\right)^{2}}{\\left(1 - \\cos{\\left(x \\right)}\\right)^{2}}$"
      ],
      "text/plain": [
       "(sin(x) + 1)**2/(1 - cos(x))**2"
      ]
     },
     "execution_count": 42,
     "metadata": {},
     "output_type": "execute_result"
    }
   ],
   "source": [
    "# derivatives\n",
    "\n",
    "expr = ((1 + smp.sin(x)) / (1 - smp.cos(x)))**2\n",
    "expr"
   ]
  },
  {
   "cell_type": "code",
   "execution_count": 43,
   "id": "b8fb9d14",
   "metadata": {},
   "outputs": [
    {
     "data": {
      "text/latex": [
       "$\\displaystyle \\frac{2 \\left(\\sin{\\left(x \\right)} + 1\\right) \\cos{\\left(x \\right)}}{\\left(1 - \\cos{\\left(x \\right)}\\right)^{2}} - \\frac{2 \\left(\\sin{\\left(x \\right)} + 1\\right)^{2} \\sin{\\left(x \\right)}}{\\left(1 - \\cos{\\left(x \\right)}\\right)^{3}}$"
      ],
      "text/plain": [
       "2*(sin(x) + 1)*cos(x)/(1 - cos(x))**2 - 2*(sin(x) + 1)**2*sin(x)/(1 - cos(x))**3"
      ]
     },
     "execution_count": 43,
     "metadata": {},
     "output_type": "execute_result"
    }
   ],
   "source": [
    "smp.diff(expr, x)"
   ]
  },
  {
   "cell_type": "markdown",
   "id": "ef769783",
   "metadata": {},
   "source": [
    "$$ \\frac{d}{dx} f(x+g(x)) $$"
   ]
  },
  {
   "cell_type": "code",
   "execution_count": 44,
   "id": "fb04d426",
   "metadata": {},
   "outputs": [],
   "source": [
    "# define f, g as function\n",
    "f, g = smp.symbols('f, g', cls=smp.Function)"
   ]
  },
  {
   "cell_type": "code",
   "execution_count": 45,
   "id": "5e81f9e3",
   "metadata": {},
   "outputs": [
    {
     "data": {
      "text/plain": [
       "(f, g)"
      ]
     },
     "execution_count": 45,
     "metadata": {},
     "output_type": "execute_result"
    }
   ],
   "source": [
    "# now they're empty functions\n",
    "\n",
    "f, g"
   ]
  },
  {
   "cell_type": "code",
   "execution_count": 46,
   "id": "531893e4",
   "metadata": {},
   "outputs": [
    {
     "data": {
      "text/plain": [
       "(f(x + g(x)), g(x))"
      ]
     },
     "execution_count": 46,
     "metadata": {},
     "output_type": "execute_result"
    }
   ],
   "source": [
    "# set functions\n",
    "\n",
    "g = g(x)\n",
    "f = f(x + g)\n",
    "\n",
    "f, g"
   ]
  },
  {
   "cell_type": "code",
   "execution_count": 47,
   "id": "60dc8009",
   "metadata": {},
   "outputs": [
    {
     "data": {
      "text/latex": [
       "$\\displaystyle \\left(\\frac{d}{d x} g{\\left(x \\right)} + 1\\right) \\left. \\frac{d}{d \\xi_{1}} f{\\left(\\xi_{1} \\right)} \\right|_{\\substack{ \\xi_{1}=x + g{\\left(x \\right)} }}$"
      ],
      "text/plain": [
       "(Derivative(g(x), x) + 1)*Subs(Derivative(f(_xi_1), _xi_1), _xi_1, x + g(x))"
      ]
     },
     "execution_count": 47,
     "metadata": {},
     "output_type": "execute_result"
    }
   ],
   "source": [
    "df_dx = smp.diff(f, x)\n",
    "df_dx"
   ]
  },
  {
   "cell_type": "code",
   "execution_count": 48,
   "id": "0d9e234b",
   "metadata": {},
   "outputs": [
    {
     "data": {
      "text/latex": [
       "$\\displaystyle \\left(\\frac{d}{d x} \\sin{\\left(x \\right)} + 1\\right) \\left. \\frac{d}{d \\xi_{1}} f{\\left(\\xi_{1} \\right)} \\right|_{\\substack{ \\xi_{1}=x + \\sin{\\left(x \\right)} }}$"
      ],
      "text/plain": [
       "(Derivative(sin(x), x) + 1)*Subs(Derivative(f(_xi_1), _xi_1), _xi_1, x + sin(x))"
      ]
     },
     "execution_count": 48,
     "metadata": {},
     "output_type": "execute_result"
    }
   ],
   "source": [
    "df_dx.subs([(g, smp.sin(x))])"
   ]
  },
  {
   "cell_type": "code",
   "execution_count": 49,
   "id": "b8540fd4",
   "metadata": {},
   "outputs": [
    {
     "data": {
      "text/latex": [
       "$\\displaystyle \\left(\\cos{\\left(x \\right)} + 1\\right) \\left. \\frac{d}{d \\xi_{1}} f{\\left(\\xi_{1} \\right)} \\right|_{\\substack{ \\xi_{1}=x + \\sin{\\left(x \\right)} }}$"
      ],
      "text/plain": [
       "(cos(x) + 1)*Subs(Derivative(f(_xi_1), _xi_1), _xi_1, x + sin(x))"
      ]
     },
     "execution_count": 49,
     "metadata": {},
     "output_type": "execute_result"
    }
   ],
   "source": [
    "# call .doit to differentiate \n",
    "\n",
    "df_dx.subs([(g, smp.sin(x))]).doit()"
   ]
  },
  {
   "cell_type": "markdown",
   "id": "b8e04724",
   "metadata": {},
   "source": [
    "## Integrals"
   ]
  },
  {
   "cell_type": "markdown",
   "id": "33eaee0d",
   "metadata": {},
   "source": [
    "$$ \\csc(x) \\cot(x) dx $$"
   ]
  },
  {
   "cell_type": "code",
   "execution_count": 50,
   "id": "59eb9828",
   "metadata": {},
   "outputs": [
    {
     "data": {
      "text/latex": [
       "$\\displaystyle \\cot{\\left(x \\right)} \\csc{\\left(x \\right)}$"
      ],
      "text/plain": [
       "cot(x)*csc(x)"
      ]
     },
     "execution_count": 50,
     "metadata": {},
     "output_type": "execute_result"
    }
   ],
   "source": [
    "expr = smp.csc(x) * smp.cot(x)\n",
    "expr"
   ]
  },
  {
   "cell_type": "code",
   "execution_count": 51,
   "id": "ff83b58f",
   "metadata": {},
   "outputs": [
    {
     "data": {
      "text/latex": [
       "$\\displaystyle - \\frac{1}{\\sin{\\left(x \\right)}}$"
      ],
      "text/plain": [
       "-1/sin(x)"
      ]
     },
     "execution_count": 51,
     "metadata": {},
     "output_type": "execute_result"
    }
   ],
   "source": [
    "smp.integrate(expr, x)"
   ]
  },
  {
   "cell_type": "markdown",
   "id": "1b4c1829",
   "metadata": {},
   "source": [
    "$$ \\int_{0}^{\\ln(4)} \\frac{e^x}{\\sqrt{e^{2x}+9}} dx$$"
   ]
  },
  {
   "cell_type": "code",
   "execution_count": 52,
   "id": "1d62e6af",
   "metadata": {},
   "outputs": [
    {
     "data": {
      "text/latex": [
       "$\\displaystyle \\frac{e^{x}}{\\sqrt{e^{2 x} + 9}}$"
      ],
      "text/plain": [
       "exp(x)/sqrt(exp(2*x) + 9)"
      ]
     },
     "execution_count": 52,
     "metadata": {},
     "output_type": "execute_result"
    }
   ],
   "source": [
    "expr = (smp.exp(x)) / (smp.sqrt(smp.exp(2*x)+9))\n",
    "expr"
   ]
  },
  {
   "cell_type": "code",
   "execution_count": 53,
   "id": "d6d2895c",
   "metadata": {},
   "outputs": [
    {
     "data": {
      "text/latex": [
       "$\\displaystyle - \\operatorname{asinh}{\\left(\\frac{1}{3} \\right)} + \\operatorname{asinh}{\\left(\\frac{4}{3} \\right)}$"
      ],
      "text/plain": [
       "-asinh(1/3) + asinh(4/3)"
      ]
     },
     "execution_count": 53,
     "metadata": {},
     "output_type": "execute_result"
    }
   ],
   "source": [
    "smp.integrate(expr, (x, 0, smp.log(4)))"
   ]
  },
  {
   "cell_type": "markdown",
   "id": "324ef43a",
   "metadata": {},
   "source": [
    "$$ \\int_1^t x^{10} e^x dx$$"
   ]
  },
  {
   "cell_type": "code",
   "execution_count": 54,
   "id": "d07c454a",
   "metadata": {},
   "outputs": [
    {
     "data": {
      "text/latex": [
       "$\\displaystyle x^{10} e^{x}$"
      ],
      "text/plain": [
       "x**10*exp(x)"
      ]
     },
     "execution_count": 54,
     "metadata": {},
     "output_type": "execute_result"
    }
   ],
   "source": [
    "expr = x**10 * smp.exp(x)\n",
    "expr"
   ]
  },
  {
   "cell_type": "code",
   "execution_count": 55,
   "id": "e98c423c",
   "metadata": {},
   "outputs": [
    {
     "data": {
      "text/latex": [
       "$\\displaystyle \\left(t^{10} - 10 t^{9} + 90 t^{8} - 720 t^{7} + 5040 t^{6} - 30240 t^{5} + 151200 t^{4} - 604800 t^{3} + 1814400 t^{2} - 3628800 t + 3628800\\right) e^{t} - 1334961 e$"
      ],
      "text/plain": [
       "(t**10 - 10*t**9 + 90*t**8 - 720*t**7 + 5040*t**6 - 30240*t**5 + 151200*t**4 - 604800*t**3 + 1814400*t**2 - 3628800*t + 3628800)*exp(t) - 1334961*E"
      ]
     },
     "execution_count": 55,
     "metadata": {},
     "output_type": "execute_result"
    }
   ],
   "source": [
    "t = smp.symbols('t')\n",
    "smp.integrate(expr, (x, 1, t))"
   ]
  },
  {
   "cell_type": "markdown",
   "id": "1f7d6ffe",
   "metadata": {},
   "source": [
    "# Vector and Matrix"
   ]
  },
  {
   "cell_type": "code",
   "execution_count": 56,
   "id": "2c295e14",
   "metadata": {},
   "outputs": [],
   "source": [
    "u1, u2, u3, v1, v2, v3 = smp.symbols('u_1 u_2 u_3 v_1 v_2 v_3')"
   ]
  },
  {
   "cell_type": "code",
   "execution_count": 57,
   "id": "6ff6dc54",
   "metadata": {},
   "outputs": [
    {
     "data": {
      "text/latex": [
       "$\\displaystyle \\left[\\begin{matrix}u_{1}\\\\u_{2}\\\\u_{3}\\end{matrix}\\right]$"
      ],
      "text/plain": [
       "Matrix([\n",
       "[u_1],\n",
       "[u_2],\n",
       "[u_3]])"
      ]
     },
     "execution_count": 57,
     "metadata": {},
     "output_type": "execute_result"
    }
   ],
   "source": [
    "u = smp.Matrix([u1, u2, u3])\n",
    "u "
   ]
  },
  {
   "cell_type": "code",
   "execution_count": 58,
   "id": "2763878d",
   "metadata": {},
   "outputs": [
    {
     "data": {
      "text/latex": [
       "$\\displaystyle \\left[\\begin{matrix}v_{1}\\\\v_{2}\\\\v_{3}\\end{matrix}\\right]$"
      ],
      "text/plain": [
       "Matrix([\n",
       "[v_1],\n",
       "[v_2],\n",
       "[v_3]])"
      ]
     },
     "execution_count": 58,
     "metadata": {},
     "output_type": "execute_result"
    }
   ],
   "source": [
    "v = smp.Matrix([v1, v2, v3])\n",
    "v"
   ]
  },
  {
   "cell_type": "code",
   "execution_count": 59,
   "id": "e1b09d8e",
   "metadata": {},
   "outputs": [
    {
     "data": {
      "text/latex": [
       "$\\displaystyle \\left[\\begin{matrix}2 u_{1} + v_{1}\\\\2 u_{2} + v_{2}\\\\2 u_{3} + v_{3}\\end{matrix}\\right]$"
      ],
      "text/plain": [
       "Matrix([\n",
       "[2*u_1 + v_1],\n",
       "[2*u_2 + v_2],\n",
       "[2*u_3 + v_3]])"
      ]
     },
     "execution_count": 59,
     "metadata": {},
     "output_type": "execute_result"
    }
   ],
   "source": [
    "2*u + v"
   ]
  },
  {
   "cell_type": "code",
   "execution_count": 60,
   "id": "512e7b58",
   "metadata": {},
   "outputs": [
    {
     "data": {
      "text/latex": [
       "$\\displaystyle u_{1} v_{1} + u_{2} v_{2} + u_{3} v_{3}$"
      ],
      "text/plain": [
       "u_1*v_1 + u_2*v_2 + u_3*v_3"
      ]
     },
     "execution_count": 60,
     "metadata": {},
     "output_type": "execute_result"
    }
   ],
   "source": [
    "u.dot(v)"
   ]
  },
  {
   "cell_type": "code",
   "execution_count": 61,
   "id": "9db4b58e",
   "metadata": {},
   "outputs": [
    {
     "data": {
      "text/latex": [
       "$\\displaystyle \\left[\\begin{matrix}u_{2} v_{3} - u_{3} v_{2}\\\\- u_{1} v_{3} + u_{3} v_{1}\\\\u_{1} v_{2} - u_{2} v_{1}\\end{matrix}\\right]$"
      ],
      "text/plain": [
       "Matrix([\n",
       "[ u_2*v_3 - u_3*v_2],\n",
       "[-u_1*v_3 + u_3*v_1],\n",
       "[ u_1*v_2 - u_2*v_1]])"
      ]
     },
     "execution_count": 61,
     "metadata": {},
     "output_type": "execute_result"
    }
   ],
   "source": [
    "u.cross(v)"
   ]
  },
  {
   "cell_type": "code",
   "execution_count": 62,
   "id": "a828f7d4",
   "metadata": {},
   "outputs": [
    {
     "data": {
      "text/latex": [
       "$\\displaystyle \\left[\\begin{matrix}u_{1} v_{1} & u_{1} v_{2} & u_{1} v_{3}\\\\u_{2} v_{1} & u_{2} v_{2} & u_{2} v_{3}\\\\u_{3} v_{1} & u_{3} v_{2} & u_{3} v_{3}\\end{matrix}\\right]$"
      ],
      "text/plain": [
       "Matrix([\n",
       "[u_1*v_1, u_1*v_2, u_1*v_3],\n",
       "[u_2*v_1, u_2*v_2, u_2*v_3],\n",
       "[u_3*v_1, u_3*v_2, u_3*v_3]])"
      ]
     },
     "execution_count": 62,
     "metadata": {},
     "output_type": "execute_result"
    }
   ],
   "source": [
    "u.multiply(v.transpose())"
   ]
  },
  {
   "cell_type": "code",
   "execution_count": 63,
   "id": "15352299",
   "metadata": {},
   "outputs": [
    {
     "data": {
      "text/latex": [
       "$\\displaystyle \\left[\\begin{matrix}u_{1} v_{1} + u_{2} v_{2} + u_{3} v_{3}\\end{matrix}\\right]$"
      ],
      "text/plain": [
       "Matrix([[u_1*v_1 + u_2*v_2 + u_3*v_3]])"
      ]
     },
     "execution_count": 63,
     "metadata": {},
     "output_type": "execute_result"
    }
   ],
   "source": [
    "u.transpose().multiply(v)"
   ]
  },
  {
   "cell_type": "code",
   "execution_count": 64,
   "id": "2d1d92bc",
   "metadata": {},
   "outputs": [
    {
     "data": {
      "text/latex": [
       "$\\displaystyle \\sqrt{\\left|{u_{1}}\\right|^{2} + \\left|{u_{2}}\\right|^{2} + \\left|{u_{3}}\\right|^{2}}$"
      ],
      "text/plain": [
       "sqrt(Abs(u_1)**2 + Abs(u_2)**2 + Abs(u_3)**2)"
      ]
     },
     "execution_count": 64,
     "metadata": {},
     "output_type": "execute_result"
    }
   ],
   "source": [
    "u.norm()"
   ]
  },
  {
   "cell_type": "markdown",
   "id": "bae7aafc",
   "metadata": {},
   "source": [
    "$$ proj_v(u) = \\frac{u \\cdot v}{|v|^2}v $$"
   ]
  },
  {
   "cell_type": "markdown",
   "id": "3235913c",
   "metadata": {},
   "source": [
    "proj_v_u = u.dot(v) / (v.norm()**2) * v\n",
    "proj_v_u"
   ]
  },
  {
   "cell_type": "code",
   "execution_count": 65,
   "id": "f4c531c1",
   "metadata": {},
   "outputs": [],
   "source": [
    "t = smp.symbols('t')"
   ]
  },
  {
   "cell_type": "code",
   "execution_count": 66,
   "id": "0cb40341",
   "metadata": {},
   "outputs": [
    {
     "data": {
      "text/latex": [
       "$\\displaystyle \\left[\\begin{matrix}3 t\\\\\\sin{\\left(t \\right)}\\\\t^{2}\\end{matrix}\\right]$"
      ],
      "text/plain": [
       "Matrix([\n",
       "[   3*t],\n",
       "[sin(t)],\n",
       "[  t**2]])"
      ]
     },
     "execution_count": 66,
     "metadata": {},
     "output_type": "execute_result"
    }
   ],
   "source": [
    "# derivative\n",
    "\n",
    "r = smp.Matrix([3*t, smp.sin(t), t**2])\n",
    "r"
   ]
  },
  {
   "cell_type": "code",
   "execution_count": 67,
   "id": "165f9ab0",
   "metadata": {},
   "outputs": [
    {
     "data": {
      "text/latex": [
       "$\\displaystyle \\left[\\begin{matrix}3\\\\\\cos{\\left(t \\right)}\\\\2 t\\end{matrix}\\right]$"
      ],
      "text/plain": [
       "Matrix([\n",
       "[     3],\n",
       "[cos(t)],\n",
       "[   2*t]])"
      ]
     },
     "execution_count": 67,
     "metadata": {},
     "output_type": "execute_result"
    }
   ],
   "source": [
    "smp.diff(r, t)"
   ]
  },
  {
   "cell_type": "code",
   "execution_count": 68,
   "id": "b9a8e8cc",
   "metadata": {},
   "outputs": [
    {
     "data": {
      "text/latex": [
       "$\\displaystyle \\left[\\begin{matrix}e^{t} \\cos{\\left(t \\right)}\\\\t^{4}\\\\\\frac{1}{t^{2} + 1}\\end{matrix}\\right]$"
      ],
      "text/plain": [
       "Matrix([\n",
       "[exp(t)*cos(t)],\n",
       "[         t**4],\n",
       "[ 1/(t**2 + 1)]])"
      ]
     },
     "execution_count": 68,
     "metadata": {},
     "output_type": "execute_result"
    }
   ],
   "source": [
    "# integral\n",
    "\n",
    "r = smp.Matrix([smp.exp(t)*smp.cos(t), t**4, 1/(1+t**2)])\n",
    "r"
   ]
  },
  {
   "cell_type": "code",
   "execution_count": 69,
   "id": "2531feb6",
   "metadata": {},
   "outputs": [
    {
     "data": {
      "text/latex": [
       "$\\displaystyle \\left[\\begin{matrix}\\frac{e^{t} \\sin{\\left(t \\right)}}{2} + \\frac{e^{t} \\cos{\\left(t \\right)}}{2}\\\\\\frac{t^{5}}{5}\\\\\\operatorname{atan}{\\left(t \\right)}\\end{matrix}\\right]$"
      ],
      "text/plain": [
       "Matrix([\n",
       "[exp(t)*sin(t)/2 + exp(t)*cos(t)/2],\n",
       "[                           t**5/5],\n",
       "[                          atan(t)]])"
      ]
     },
     "execution_count": 69,
     "metadata": {},
     "output_type": "execute_result"
    }
   ],
   "source": [
    "smp.integrate(r, t)"
   ]
  },
  {
   "cell_type": "code",
   "execution_count": 70,
   "id": "7acd9d8d",
   "metadata": {},
   "outputs": [
    {
     "data": {
      "text/latex": [
       "$\\displaystyle \\left[\\begin{matrix}e^{t^{2}} \\cos^{3}{\\left(t \\right)}\\\\e^{- t^{4}}\\\\\\frac{1}{t^{2} + 3}\\end{matrix}\\right]$"
      ],
      "text/plain": [
       "Matrix([\n",
       "[exp(t**2)*cos(t)**3],\n",
       "[         exp(-t**4)],\n",
       "[       1/(t**2 + 3)]])"
      ]
     },
     "execution_count": 70,
     "metadata": {},
     "output_type": "execute_result"
    }
   ],
   "source": [
    "# some integral cannot be solved analytically --> use scipy\n",
    "\n",
    "r = smp.Matrix([smp.exp(t**2)*smp.cos(t)**3, smp.exp(-t**4), 1/(3+t**2)])\n",
    "r"
   ]
  },
  {
   "cell_type": "code",
   "execution_count": 71,
   "id": "94200744",
   "metadata": {},
   "outputs": [
    {
     "data": {
      "text/plain": [
       "array([[0.81549671],\n",
       "       [0.84483859],\n",
       "       [0.30229989]])"
      ]
     },
     "execution_count": 71,
     "metadata": {},
     "output_type": "execute_result"
    }
   ],
   "source": [
    "from scipy.integrate import quad_vec\n",
    "\n",
    "r_f = smp.lambdify([t], r)\n",
    "quad_vec(r_f, 0, 1)[0]"
   ]
  },
  {
   "cell_type": "markdown",
   "id": "27456065",
   "metadata": {},
   "source": [
    "# Partial Derivatives"
   ]
  },
  {
   "cell_type": "code",
   "execution_count": 72,
   "id": "bb14b937",
   "metadata": {},
   "outputs": [],
   "source": [
    "x, y, z = smp.symbols('x y z')"
   ]
  },
  {
   "cell_type": "code",
   "execution_count": 73,
   "id": "b519fdb6",
   "metadata": {},
   "outputs": [
    {
     "data": {
      "text/latex": [
       "$\\displaystyle y^{2} + \\sin{\\left(x + y \\right)}$"
      ],
      "text/plain": [
       "y**2 + sin(x + y)"
      ]
     },
     "execution_count": 73,
     "metadata": {},
     "output_type": "execute_result"
    }
   ],
   "source": [
    "expr = y**2 + smp.sin(x + y)\n",
    "expr"
   ]
  },
  {
   "cell_type": "code",
   "execution_count": 74,
   "id": "b016422a",
   "metadata": {},
   "outputs": [
    {
     "data": {
      "text/latex": [
       "$\\displaystyle \\cos{\\left(x + y \\right)}$"
      ],
      "text/plain": [
       "cos(x + y)"
      ]
     },
     "execution_count": 74,
     "metadata": {},
     "output_type": "execute_result"
    }
   ],
   "source": [
    "smp.diff(expr, x)"
   ]
  },
  {
   "cell_type": "code",
   "execution_count": 75,
   "id": "8de28607",
   "metadata": {},
   "outputs": [
    {
     "data": {
      "text/latex": [
       "$\\displaystyle 2 y + \\cos{\\left(x + y \\right)}$"
      ],
      "text/plain": [
       "2*y + cos(x + y)"
      ]
     },
     "execution_count": 75,
     "metadata": {},
     "output_type": "execute_result"
    }
   ],
   "source": [
    "smp.diff(expr, y)"
   ]
  },
  {
   "cell_type": "markdown",
   "id": "13ea1c64",
   "metadata": {},
   "source": [
    "$$ \\frac{\\partial^3 f}{\\partial x y^2} $$"
   ]
  },
  {
   "cell_type": "code",
   "execution_count": 76,
   "id": "f7410afc",
   "metadata": {},
   "outputs": [
    {
     "data": {
      "text/latex": [
       "$\\displaystyle - \\cos{\\left(x + y \\right)}$"
      ],
      "text/plain": [
       "-cos(x + y)"
      ]
     },
     "execution_count": 76,
     "metadata": {},
     "output_type": "execute_result"
    }
   ],
   "source": [
    "smp.diff(expr, y, y, x)"
   ]
  },
  {
   "cell_type": "code",
   "execution_count": 77,
   "id": "2f164d9c",
   "metadata": {},
   "outputs": [
    {
     "data": {
      "text/latex": [
       "$\\displaystyle - \\cos{\\left(x + y \\right)}$"
      ],
      "text/plain": [
       "-cos(x + y)"
      ]
     },
     "execution_count": 77,
     "metadata": {},
     "output_type": "execute_result"
    }
   ],
   "source": [
    "smp.diff(expr, x, y, y)"
   ]
  },
  {
   "cell_type": "markdown",
   "id": "99d3395a",
   "metadata": {},
   "source": [
    "## Chain rule"
   ]
  },
  {
   "cell_type": "code",
   "execution_count": 78,
   "id": "f2b787a5",
   "metadata": {},
   "outputs": [],
   "source": [
    "t = smp.symbols('t')\n",
    "x, y, z ,w = smp.symbols('x y z w', cls=smp.Function)"
   ]
  },
  {
   "cell_type": "code",
   "execution_count": 79,
   "id": "0aa199ff",
   "metadata": {},
   "outputs": [],
   "source": [
    "x = x(t)\n",
    "y = y(t)\n",
    "z = z(t)\n",
    "w = w(x, y, z)"
   ]
  },
  {
   "cell_type": "code",
   "execution_count": 80,
   "id": "9fb73879",
   "metadata": {},
   "outputs": [
    {
     "data": {
      "text/latex": [
       "$\\displaystyle w{\\left(x{\\left(t \\right)},y{\\left(t \\right)},z{\\left(t \\right)} \\right)}$"
      ],
      "text/plain": [
       "w(x(t), y(t), z(t))"
      ]
     },
     "execution_count": 80,
     "metadata": {},
     "output_type": "execute_result"
    }
   ],
   "source": [
    "w "
   ]
  },
  {
   "cell_type": "code",
   "execution_count": 81,
   "id": "7a97ca1c",
   "metadata": {},
   "outputs": [
    {
     "data": {
      "text/latex": [
       "$\\displaystyle \\frac{d}{d x{\\left(t \\right)}} w{\\left(x{\\left(t \\right)},y{\\left(t \\right)},z{\\left(t \\right)} \\right)} \\frac{d}{d t} x{\\left(t \\right)} + \\frac{d}{d y{\\left(t \\right)}} w{\\left(x{\\left(t \\right)},y{\\left(t \\right)},z{\\left(t \\right)} \\right)} \\frac{d}{d t} y{\\left(t \\right)} + \\frac{d}{d z{\\left(t \\right)}} w{\\left(x{\\left(t \\right)},y{\\left(t \\right)},z{\\left(t \\right)} \\right)} \\frac{d}{d t} z{\\left(t \\right)}$"
      ],
      "text/plain": [
       "Derivative(w(x(t), y(t), z(t)), x(t))*Derivative(x(t), t) + Derivative(w(x(t), y(t), z(t)), y(t))*Derivative(y(t), t) + Derivative(w(x(t), y(t), z(t)), z(t))*Derivative(z(t), t)"
      ]
     },
     "execution_count": 81,
     "metadata": {},
     "output_type": "execute_result"
    }
   ],
   "source": [
    "smp.diff(w, t)"
   ]
  },
  {
   "cell_type": "markdown",
   "id": "54068e29",
   "metadata": {},
   "source": [
    "# Multiple Integrals\n",
    "\n",
    "* rarely works correctly using symbolic method<br>\n",
    "* usually needs numpy and scipy"
   ]
  },
  {
   "cell_type": "markdown",
   "id": "f1a04908",
   "metadata": {},
   "source": [
    "**this is the rare case that works**\n",
    "$$ \\int_0^1 \\int_0^{1-x^2} \\int_3^{4-x^2-y^2} x dz dy dx$$"
   ]
  },
  {
   "cell_type": "code",
   "execution_count": 82,
   "id": "909034e5",
   "metadata": {},
   "outputs": [],
   "source": [
    "x, y, z = smp.symbols('x y z')"
   ]
  },
  {
   "cell_type": "code",
   "execution_count": 83,
   "id": "f8e9ae4e",
   "metadata": {},
   "outputs": [
    {
     "data": {
      "text/latex": [
       "$\\displaystyle \\frac{1}{8}$"
      ],
      "text/plain": [
       "1/8"
      ]
     },
     "execution_count": 83,
     "metadata": {},
     "output_type": "execute_result"
    }
   ],
   "source": [
    "smp.integrate(x, (z, 3, 4-x**2-y**2), (y, 0, 1-x**2), (x, 0, 1))"
   ]
  }
 ],
 "metadata": {
  "kernelspec": {
   "display_name": "Python 3.8.8 64-bit ('DL': conda)",
   "language": "python",
   "name": "python388jvsc74a57bd05f58e7dbcddfdb99f90b0447783d5390db8cd74aa541842f8b458cd6f0565a39"
  },
  "language_info": {
   "codemirror_mode": {
    "name": "ipython",
    "version": 3
   },
   "file_extension": ".py",
   "mimetype": "text/x-python",
   "name": "python",
   "nbconvert_exporter": "python",
   "pygments_lexer": "ipython3",
   "version": "3.8.8"
  }
 },
 "nbformat": 4,
 "nbformat_minor": 5
}
